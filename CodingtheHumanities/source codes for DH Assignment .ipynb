{
 "cells": [
  {
   "cell_type": "code",
   "execution_count": 2,
   "metadata": {
    "scrolled": true
   },
   "outputs": [
    {
     "name": "stderr",
     "output_type": "stream",
     "text": [
      "[nltk_data] Downloading package vader_lexicon to\n",
      "[nltk_data]     /Users/ivanfeng/nltk_data...\n",
      "[nltk_data]   Package vader_lexicon is already up-to-date!\n"
     ]
    },
    {
     "data": {
      "text/plain": [
       "True"
      ]
     },
     "execution_count": 2,
     "metadata": {},
     "output_type": "execute_result"
    }
   ],
   "source": [
    "import pandas as pd\n",
    "from nltk.sentiment import vader\n",
    "import nltk\n",
    "nltk.download('vader_lexicon')"
   ]
  },
  {
   "cell_type": "code",
   "execution_count": null,
   "metadata": {},
   "outputs": [],
   "source": []
  },
  {
   "cell_type": "code",
   "execution_count": 30,
   "metadata": {},
   "outputs": [],
   "source": [
    "datapath = '../../' #absolute path on ur laptop \n",
    "data = pd.read_csv(datapath,sep='\\t')\n",
    "\n",
    "def compound_sentiment(data):\n",
    "    analyzer = vader.SentimentIntensityAnalyzer()\n",
    "    sentiments_analysis = analyzer.polarity_scores(str(data))\n",
    "    return sentiments_analysis['compound']\n",
    "\n",
    "data['text_emotion'] = data['text'].apply(compound_sentiment)\n",
    "data.to_csv('/Users/ivanfeng/Desktop/DH/FB_file.csv',header=False, index=False)#absolute path on ur laptop "
   ]
  },
  {
   "cell_type": "code",
   "execution_count": null,
   "metadata": {},
   "outputs": [],
   "source": []
  },
  {
   "cell_type": "code",
   "execution_count": 31,
   "metadata": {},
   "outputs": [],
   "source": [
    "datapath2 = '/Users/ivanfeng/Desktop/DH/HPcomments.tab' #absolute path on ur laptop  \n",
    "data['text_emotion'] = data['text'].apply(compound_sentiment)\n",
    "data.to_csv('/Users/ivanfeng/Desktop/DH/HP_file.csv',header=False, index=False) #absolute path on ur laptop "
   ]
  },
  {
   "cell_type": "code",
   "execution_count": null,
   "metadata": {},
   "outputs": [],
   "source": []
  }
 ],
 "metadata": {
  "kernelspec": {
   "display_name": "Python 3",
   "language": "python",
   "name": "python3"
  },
  "language_info": {
   "codemirror_mode": {
    "name": "ipython",
    "version": 3
   },
   "file_extension": ".py",
   "mimetype": "text/x-python",
   "name": "python",
   "nbconvert_exporter": "python",
   "pygments_lexer": "ipython3",
   "version": "3.7.3"
  }
 },
 "nbformat": 4,
 "nbformat_minor": 2
}
