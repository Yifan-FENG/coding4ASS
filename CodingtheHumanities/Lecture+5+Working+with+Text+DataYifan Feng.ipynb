{
 "cells": [
  {
   "cell_type": "markdown",
   "metadata": {},
   "source": [
    "# Lecture 5 Text Mining"
   ]
  },
  {
   "cell_type": "markdown",
   "metadata": {},
   "source": [
    "Many of the examples below are taken from the [NLTK book](http://www.nltk.org/book/). Before we start, we should install the required materials. Run the cell below to install the tools and the corpora. This can take a minute..."
   ]
  },
  {
   "cell_type": "code",
   "execution_count": 5,
   "metadata": {},
   "outputs": [
    {
     "name": "stderr",
     "output_type": "stream",
     "text": [
      "[nltk_data] Downloading collection 'book'\n",
      "[nltk_data]    | \n",
      "[nltk_data]    | Downloading package abc to\n",
      "[nltk_data]    |     /Users/ivanfeng/nltk_data...\n",
      "[nltk_data]    |   Package abc is already up-to-date!\n",
      "[nltk_data]    | Downloading package brown to\n",
      "[nltk_data]    |     /Users/ivanfeng/nltk_data...\n",
      "[nltk_data]    |   Package brown is already up-to-date!\n",
      "[nltk_data]    | Downloading package chat80 to\n",
      "[nltk_data]    |     /Users/ivanfeng/nltk_data...\n",
      "[nltk_data]    |   Package chat80 is already up-to-date!\n",
      "[nltk_data]    | Downloading package cmudict to\n",
      "[nltk_data]    |     /Users/ivanfeng/nltk_data...\n",
      "[nltk_data]    |   Package cmudict is already up-to-date!\n",
      "[nltk_data]    | Downloading package conll2000 to\n",
      "[nltk_data]    |     /Users/ivanfeng/nltk_data...\n",
      "[nltk_data]    |   Package conll2000 is already up-to-date!\n",
      "[nltk_data]    | Downloading package conll2002 to\n",
      "[nltk_data]    |     /Users/ivanfeng/nltk_data...\n",
      "[nltk_data]    |   Package conll2002 is already up-to-date!\n",
      "[nltk_data]    | Downloading package dependency_treebank to\n",
      "[nltk_data]    |     /Users/ivanfeng/nltk_data...\n",
      "[nltk_data]    |   Package dependency_treebank is already up-to-date!\n",
      "[nltk_data]    | Downloading package genesis to\n",
      "[nltk_data]    |     /Users/ivanfeng/nltk_data...\n",
      "[nltk_data]    |   Package genesis is already up-to-date!\n",
      "[nltk_data]    | Downloading package gutenberg to\n",
      "[nltk_data]    |     /Users/ivanfeng/nltk_data...\n",
      "[nltk_data]    |   Package gutenberg is already up-to-date!\n",
      "[nltk_data]    | Downloading package ieer to\n",
      "[nltk_data]    |     /Users/ivanfeng/nltk_data...\n",
      "[nltk_data]    |   Package ieer is already up-to-date!\n",
      "[nltk_data]    | Downloading package inaugural to\n",
      "[nltk_data]    |     /Users/ivanfeng/nltk_data...\n",
      "[nltk_data]    |   Package inaugural is already up-to-date!\n",
      "[nltk_data]    | Downloading package movie_reviews to\n",
      "[nltk_data]    |     /Users/ivanfeng/nltk_data...\n",
      "[nltk_data]    |   Package movie_reviews is already up-to-date!\n",
      "[nltk_data]    | Downloading package nps_chat to\n",
      "[nltk_data]    |     /Users/ivanfeng/nltk_data...\n",
      "[nltk_data]    |   Package nps_chat is already up-to-date!\n",
      "[nltk_data]    | Downloading package names to\n",
      "[nltk_data]    |     /Users/ivanfeng/nltk_data...\n",
      "[nltk_data]    |   Package names is already up-to-date!\n",
      "[nltk_data]    | Downloading package ppattach to\n",
      "[nltk_data]    |     /Users/ivanfeng/nltk_data...\n",
      "[nltk_data]    |   Package ppattach is already up-to-date!\n",
      "[nltk_data]    | Downloading package reuters to\n",
      "[nltk_data]    |     /Users/ivanfeng/nltk_data...\n",
      "[nltk_data]    |   Package reuters is already up-to-date!\n",
      "[nltk_data]    | Downloading package senseval to\n",
      "[nltk_data]    |     /Users/ivanfeng/nltk_data...\n",
      "[nltk_data]    |   Package senseval is already up-to-date!\n",
      "[nltk_data]    | Downloading package state_union to\n",
      "[nltk_data]    |     /Users/ivanfeng/nltk_data...\n",
      "[nltk_data]    |   Package state_union is already up-to-date!\n",
      "[nltk_data]    | Downloading package stopwords to\n",
      "[nltk_data]    |     /Users/ivanfeng/nltk_data...\n",
      "[nltk_data]    |   Package stopwords is already up-to-date!\n",
      "[nltk_data]    | Downloading package swadesh to\n",
      "[nltk_data]    |     /Users/ivanfeng/nltk_data...\n",
      "[nltk_data]    |   Package swadesh is already up-to-date!\n",
      "[nltk_data]    | Downloading package timit to\n",
      "[nltk_data]    |     /Users/ivanfeng/nltk_data...\n",
      "[nltk_data]    |   Package timit is already up-to-date!\n",
      "[nltk_data]    | Downloading package treebank to\n",
      "[nltk_data]    |     /Users/ivanfeng/nltk_data...\n",
      "[nltk_data]    |   Package treebank is already up-to-date!\n",
      "[nltk_data]    | Downloading package toolbox to\n",
      "[nltk_data]    |     /Users/ivanfeng/nltk_data...\n",
      "[nltk_data]    |   Package toolbox is already up-to-date!\n",
      "[nltk_data]    | Downloading package udhr to\n",
      "[nltk_data]    |     /Users/ivanfeng/nltk_data...\n",
      "[nltk_data]    |   Package udhr is already up-to-date!\n",
      "[nltk_data]    | Downloading package udhr2 to\n",
      "[nltk_data]    |     /Users/ivanfeng/nltk_data...\n",
      "[nltk_data]    |   Package udhr2 is already up-to-date!\n",
      "[nltk_data]    | Downloading package unicode_samples to\n",
      "[nltk_data]    |     /Users/ivanfeng/nltk_data...\n",
      "[nltk_data]    |   Package unicode_samples is already up-to-date!\n",
      "[nltk_data]    | Downloading package webtext to\n",
      "[nltk_data]    |     /Users/ivanfeng/nltk_data...\n",
      "[nltk_data]    |   Package webtext is already up-to-date!\n",
      "[nltk_data]    | Downloading package wordnet to\n",
      "[nltk_data]    |     /Users/ivanfeng/nltk_data...\n",
      "[nltk_data]    |   Package wordnet is already up-to-date!\n",
      "[nltk_data]    | Downloading package wordnet_ic to\n",
      "[nltk_data]    |     /Users/ivanfeng/nltk_data...\n",
      "[nltk_data]    |   Package wordnet_ic is already up-to-date!\n",
      "[nltk_data]    | Downloading package words to\n",
      "[nltk_data]    |     /Users/ivanfeng/nltk_data...\n",
      "[nltk_data]    |   Package words is already up-to-date!\n",
      "[nltk_data]    | Downloading package maxent_treebank_pos_tagger to\n",
      "[nltk_data]    |     /Users/ivanfeng/nltk_data...\n",
      "[nltk_data]    |   Package maxent_treebank_pos_tagger is already up-\n",
      "[nltk_data]    |       to-date!\n",
      "[nltk_data]    | Downloading package maxent_ne_chunker to\n",
      "[nltk_data]    |     /Users/ivanfeng/nltk_data...\n",
      "[nltk_data]    |   Package maxent_ne_chunker is already up-to-date!\n",
      "[nltk_data]    | Downloading package universal_tagset to\n",
      "[nltk_data]    |     /Users/ivanfeng/nltk_data...\n",
      "[nltk_data]    |   Package universal_tagset is already up-to-date!\n",
      "[nltk_data]    | Downloading package punkt to\n",
      "[nltk_data]    |     /Users/ivanfeng/nltk_data...\n",
      "[nltk_data]    |   Package punkt is already up-to-date!\n",
      "[nltk_data]    | Downloading package book_grammars to\n",
      "[nltk_data]    |     /Users/ivanfeng/nltk_data...\n",
      "[nltk_data]    |   Package book_grammars is already up-to-date!\n",
      "[nltk_data]    | Downloading package city_database to\n",
      "[nltk_data]    |     /Users/ivanfeng/nltk_data...\n",
      "[nltk_data]    |   Package city_database is already up-to-date!\n",
      "[nltk_data]    | Downloading package tagsets to\n",
      "[nltk_data]    |     /Users/ivanfeng/nltk_data...\n",
      "[nltk_data]    |   Package tagsets is already up-to-date!\n",
      "[nltk_data]    | Downloading package panlex_swadesh to\n",
      "[nltk_data]    |     /Users/ivanfeng/nltk_data...\n",
      "[nltk_data]    |   Package panlex_swadesh is already up-to-date!\n",
      "[nltk_data]    | Downloading package averaged_perceptron_tagger to\n",
      "[nltk_data]    |     /Users/ivanfeng/nltk_data...\n",
      "[nltk_data]    |   Package averaged_perceptron_tagger is already up-\n",
      "[nltk_data]    |       to-date!\n",
      "[nltk_data]    | \n",
      "[nltk_data]  Done downloading collection book\n"
     ]
    },
    {
     "data": {
      "text/plain": [
       "True"
      ]
     },
     "execution_count": 5,
     "metadata": {},
     "output_type": "execute_result"
    }
   ],
   "source": [
    "%matplotlib inline\n",
    "import nltk\n",
    "nltk.download('book')"
   ]
  },
  {
   "cell_type": "markdown",
   "metadata": {},
   "source": [
    "### Introduction to Python's Natural Language Toolkit (NLTK)"
   ]
  },
  {
   "cell_type": "markdown",
   "metadata": {},
   "source": [
    "In the Digital Humanities, we often treat texts as *raw data*, as input for our programs. Interpretations arise from abstraction, for example, by counting word frequencies, analysing specific segments of a corpus (i.e. KeyWord In Context, or KWIC analysis) or searching for patterns (i.e. collocations). \n",
    "\n",
    "NLTK provides several tools for both **processing** data and **interpreting** texts."
   ]
  },
  {
   "cell_type": "markdown",
   "metadata": {},
   "source": [
    "Let's inspect the tools NLTK provides us with."
   ]
  },
  {
   "cell_type": "markdown",
   "metadata": {},
   "source": [
    "First of all, NLTK helps us with \"tokenization\", a tool that breaks a string into separate \"words\" (the basic units of a text document also called tokens, ).\n",
    "\n",
    "To apply tokenization, we need to import the `word_tokenize` tool using the `import` syntax below."
   ]
  },
  {
   "cell_type": "code",
   "execution_count": 6,
   "metadata": {},
   "outputs": [],
   "source": [
    "from nltk.tokenize import word_tokenize"
   ]
  },
  {
   "cell_type": "markdown",
   "metadata": {},
   "source": [
    "We can apply this function to any English text: it will identify the tokens and separate strings from punctuation. A string is just a sequence of characters. However, for simple tasks, such as word counting, we need to split up this string by token."
   ]
  },
  {
   "cell_type": "markdown",
   "metadata": {},
   "source": [
    "Below we first lowercase the string and then tokenize it."
   ]
  },
  {
   "cell_type": "code",
   "execution_count": 3,
   "metadata": {},
   "outputs": [
    {
     "name": "stdout",
     "output_type": "stream",
     "text": [
      "Downing Street has said it is “extremely concerning” that MPs could attempt to override the government to suspend or delay the article 50 process to leave the EU in their effort to prevent a no-deal Brexit.\n"
     ]
    }
   ],
   "source": [
    "example_sentence = \"Downing Street has said it is “extremely concerning” that MPs could attempt to override the government to suspend or delay the article 50 process to leave the EU in their effort to prevent a no-deal Brexit.\"\n",
    "print(example_sentence)"
   ]
  },
  {
   "cell_type": "code",
   "execution_count": 4,
   "metadata": {},
   "outputs": [
    {
     "name": "stdout",
     "output_type": "stream",
     "text": [
      "example_sentence_lower\n"
     ]
    }
   ],
   "source": [
    "example_sentence_lower = example_sentence.lower()\n",
    "print(\"example_sentence_lower\")"
   ]
  },
  {
   "cell_type": "code",
   "execution_count": 5,
   "metadata": {},
   "outputs": [
    {
     "name": "stdout",
     "output_type": "stream",
     "text": [
      "['downing', 'street', 'has', 'said', 'it', 'is', '“', 'extremely', 'concerning', '”', 'that', 'mps', 'could', 'attempt', 'to', 'override', 'the', 'government', 'to', 'suspend', 'or', 'delay', 'the', 'article', '50', 'process', 'to', 'leave', 'the', 'eu', 'in', 'their', 'effort', 'to', 'prevent', 'a', 'no-deal', 'brexit', '.']\n"
     ]
    }
   ],
   "source": [
    "words = word_tokenize(example_sentence_lower)\n",
    "print(words)"
   ]
  },
  {
   "cell_type": "markdown",
   "metadata": {},
   "source": [
    "#### Exercise\n",
    "\n",
    "Select the first sentence of [Alice in Wonderland](http://www.gutenberg.org/cache/epub/28885/pg28885.txt), lowercase and then tokenize the string."
   ]
  },
  {
   "cell_type": "code",
   "execution_count": 7,
   "metadata": {},
   "outputs": [
    {
     "name": "stdout",
     "output_type": "stream",
     "text": [
      "['alice', 'was', 'beginning', 'to', 'get', 'very', 'tired', 'of', 'sitting', 'by', 'her', 'sister', 'on', 'the', 'bank']\n"
     ]
    }
   ],
   "source": [
    "# insert code here\n",
    "Alice = 'ALICE was beginning to get very tired of sitting by her sister on the bank'\n",
    "Alice_lower = Alice.lower()\n",
    "words = word_tokenize(Alice_lower)\n",
    "print (words)"
   ]
  },
  {
   "cell_type": "markdown",
   "metadata": {},
   "source": [
    "After tokenization, we can easily compute the word frequency with the `nltk.FreqDist()` function."
   ]
  },
  {
   "cell_type": "code",
   "execution_count": 8,
   "metadata": {},
   "outputs": [
    {
     "data": {
      "text/plain": [
       "FreqDist({'to': 4, 'the': 3, 'Downing': 1, 'Street': 1, 'has': 1, 'said': 1, 'it': 1, 'is': 1, '“': 1, 'extremely': 1, ...})"
      ]
     },
     "execution_count": 8,
     "metadata": {},
     "output_type": "execute_result"
    }
   ],
   "source": [
    "example_words = word_tokenize(example_sentence)\n",
    "nltk.FreqDist(example_words)"
   ]
  },
  {
   "cell_type": "markdown",
   "metadata": {},
   "source": [
    "If we'd like to know the frequency of one specific word we put this word between square brackets."
   ]
  },
  {
   "cell_type": "code",
   "execution_count": 9,
   "metadata": {},
   "outputs": [
    {
     "data": {
      "text/plain": [
       "1"
      ]
     },
     "execution_count": 9,
     "metadata": {},
     "output_type": "execute_result"
    }
   ],
   "source": [
    "fq = nltk.FreqDist(words)\n",
    "fq['the']"
   ]
  },
  {
   "cell_type": "markdown",
   "metadata": {},
   "source": [
    "#### Exercise\n",
    "\n",
    "What is the frequency of the word 'to' and 'street'?"
   ]
  },
  {
   "cell_type": "code",
   "execution_count": 11,
   "metadata": {},
   "outputs": [
    {
     "name": "stdout",
     "output_type": "stream",
     "text": [
      "1 0\n"
     ]
    }
   ],
   "source": [
    "# insert code here\n",
    "print (fq['to'], fq['street'])\n"
   ]
  },
  {
   "cell_type": "markdown",
   "metadata": {},
   "source": [
    "`nltk.FreqDist` return the absolute counts. To compute the **relative frequency**, the word count has to be divided by the total number of tokens."
   ]
  },
  {
   "cell_type": "markdown",
   "metadata": {},
   "source": [
    "#### Exercise\n",
    "\n",
    "Can you compute the relative frequency of the word \"the\" in the example sentence below?"
   ]
  },
  {
   "cell_type": "code",
   "execution_count": 19,
   "metadata": {},
   "outputs": [
    {
     "data": {
      "text/plain": [
       "0.07692307692307693"
      ]
     },
     "execution_count": 19,
     "metadata": {},
     "output_type": "execute_result"
    }
   ],
   "source": [
    "example_sentence = \"Downing Street has said it is “extremely concerning” that MPs could attempt to override the government to suspend or delay the article 50 process to leave the EU in their effort to prevent a no-deal Brexit.\"\n",
    "words = word_tokenize(example_sentence.lower())\n",
    "fq = nltk.FreqDist(words)\n",
    "rf = fq['the']/len(words)\n",
    "rf\n",
    "# insert code here"
   ]
  },
  {
   "cell_type": "code",
   "execution_count": 139,
   "metadata": {},
   "outputs": [
    {
     "data": {
      "text/plain": [
       "['Downing',\n",
       " 'Street',\n",
       " 'has',\n",
       " 'said',\n",
       " 'it',\n",
       " 'is',\n",
       " 'extremely',\n",
       " 'concerning',\n",
       " 'that',\n",
       " 'MPs',\n",
       " 'could',\n",
       " 'attempt',\n",
       " 'to',\n",
       " 'override',\n",
       " 'the',\n",
       " 'government',\n",
       " 'to',\n",
       " 'suspend',\n",
       " 'or',\n",
       " 'delay',\n",
       " 'the',\n",
       " 'article',\n",
       " '50',\n",
       " 'process',\n",
       " 'to',\n",
       " 'leave',\n",
       " 'the',\n",
       " 'EU',\n",
       " 'in',\n",
       " 'their',\n",
       " 'effort',\n",
       " 'to',\n",
       " 'prevent',\n",
       " 'a',\n",
       " 'no',\n",
       " 'deal',\n",
       " 'Brexit']"
      ]
     },
     "execution_count": 139,
     "metadata": {},
     "output_type": "execute_result"
    }
   ],
   "source": [
    "# how to exclude punctuation marks\n",
    "from nltk.tokenize import regexp_tokenize\n",
    "regexp_tokenize(example_sentence,pattern='\\w+')"
   ]
  },
  {
   "cell_type": "markdown",
   "metadata": {},
   "source": [
    "#### Exercise\n",
    "\n",
    "The code below downloads the text of Shakespeare's Romeo and Juliet and saves it in the variable `randj`.\n",
    "Perform the following steps:\n",
    "- Lowercase the text;\n",
    "- Tokenize the lowercased text; save the tokens in a new variable with the name `randj_tokens`.\n",
    "- How many tokens does Romeo and Julia contain? How many characters?\n",
    "- Make a frequency table, compute the relative frequency of the word \"love\""
   ]
  },
  {
   "cell_type": "code",
   "execution_count": 27,
   "metadata": {},
   "outputs": [],
   "source": [
    "import requests\n",
    "randj = requests.get('http://www.gutenberg.org/cache/epub/1112/pg1112.txt').text"
   ]
  },
  {
   "cell_type": "code",
   "execution_count": 28,
   "metadata": {},
   "outputs": [
    {
     "name": "stdout",
     "output_type": "stream",
     "text": [
      "36612 274977\n"
     ]
    },
    {
     "data": {
      "text/plain": [
       "0.003960450125641866"
      ]
     },
     "execution_count": 28,
     "metadata": {},
     "output_type": "execute_result"
    }
   ],
   "source": [
    "# insert code \n",
    "randj_lower = randj.lower()\n",
    "randj_tokens = word_tokenize(randj_lower)\n",
    "print (len (randj_tokens),len(str(randj_tokens)))\n",
    "fq = nltk.FreqDist(randj_tokens)\n",
    "rf = fq['love']/len(randj_tokens)\n",
    "rf"
   ]
  },
  {
   "cell_type": "markdown",
   "metadata": {},
   "source": [
    "## Text in Context"
   ]
  },
  {
   "cell_type": "markdown",
   "metadata": {},
   "source": [
    "After tokenizing the text we can apply a bunch of NLTK tools. Below we use the example of Kipling's [Jungle Book](http://www.gutenberg.org/cache/epub/35997/pg35997.txt). "
   ]
  },
  {
   "cell_type": "markdown",
   "metadata": {},
   "source": [
    "We first tokenize the book."
   ]
  },
  {
   "cell_type": "code",
   "execution_count": 29,
   "metadata": {},
   "outputs": [],
   "source": [
    "import requests\n",
    "jungle_book = requests.get('http://www.gutenberg.org/cache/epub/35997/pg35997.txt').text\n",
    "jungle_book_tokens = word_tokenize(jungle_book)"
   ]
  },
  {
   "cell_type": "code",
   "execution_count": 30,
   "metadata": {},
   "outputs": [
    {
     "data": {
      "text/plain": [
       "list"
      ]
     },
     "execution_count": 30,
     "metadata": {},
     "output_type": "execute_result"
    }
   ],
   "source": [
    "type(jungle_book_tokens)"
   ]
  },
  {
   "cell_type": "markdown",
   "metadata": {},
   "source": [
    "`word_tokenize` returns a `list` object. Lists are useful for storing information, but not for analysing texts. To allow for more refined text analysis we have to **convert** the list to an NLTK Text object. This type of conversion (from a list to a NLTK text) is performed by the code below."
   ]
  },
  {
   "cell_type": "code",
   "execution_count": 31,
   "metadata": {},
   "outputs": [],
   "source": [
    "jungle_nltk_text = nltk.text.Text(jungle_book_tokens)"
   ]
  },
  {
   "cell_type": "code",
   "execution_count": 32,
   "metadata": {},
   "outputs": [
    {
     "data": {
      "text/plain": [
       "nltk.text.Text"
      ]
     },
     "execution_count": 32,
     "metadata": {},
     "output_type": "execute_result"
    }
   ],
   "source": [
    "type(jungle_nltk_text)"
   ]
  },
  {
   "cell_type": "markdown",
   "metadata": {},
   "source": [
    "Once we tranformed the text into an NLTK Text object we can apply several useful tools."
   ]
  },
  {
   "cell_type": "markdown",
   "metadata": {},
   "source": [
    "### `.concordance()`"
   ]
  },
  {
   "cell_type": "markdown",
   "metadata": {},
   "source": [
    "An oft-used technique for distant reading is **Keyword In Context Analysis** in which we centre a whole corpus on a specific word of interest. NLTK comes with a `concordance()` method that allows you to do just this. Let's analyse how the word \"love\" in Jungle book:"
   ]
  },
  {
   "cell_type": "code",
   "execution_count": 33,
   "metadata": {},
   "outputs": [
    {
     "name": "stdout",
     "output_type": "stream",
     "text": [
      "Displaying 9 of 9 matches:\n",
      "in the jungle for fear of those that love thee ; but remember , Akela is very \n",
      "s , and I was born among men , and I love thee , Little Brother . The others t\n",
      "I or Baloo or those of the Pack that love thee . Get the Red Flower . '' By Re\n",
      " bruised from head to foot by me who love him than that he should come to harm\n",
      "e jungles ; and besides , I -- we -- love him , Kaa . '' `` _Ts ! Ts ! _ '' sa\n",
      " and fro . `` I also have known what love is . There are tales I could tell th\n",
      "ever . I will always remember that I love thee and all in our cave ; but also \n",
      "Shere Khan gives me his coat for the love that he bears me . Pull , Gray Broth\n",
      "ce . I am getting old , and I do not love wild elephants , Give me brick eleph\n"
     ]
    }
   ],
   "source": [
    "jungle_nltk_text.concordance(\"love\")"
   ]
  },
  {
   "cell_type": "markdown",
   "metadata": {},
   "source": [
    "We can specify the number of hits to print with the `lines` argument."
   ]
  },
  {
   "cell_type": "code",
   "execution_count": 34,
   "metadata": {},
   "outputs": [
    {
     "name": "stdout",
     "output_type": "stream",
     "text": [
      "Displaying 35 of 35 matches:\n",
      "could handle a buck alone , to young black three-year-olds who thought they cou\n",
      "bs . Who speaks besides Baloo ? '' A black shadow dropped down into the circle \n",
      "o the circle . It was Bagheera , the Black Panther , inky black all over , but \n",
      " Bagheera , the Black Panther , inky black all over , but with the panther mark\n",
      "th his head on Bagheera 's beautiful black skin : `` Little Brother , how often\n",
      "thou_ art a man 's cub , '' said the Black Panther , very tenderly ; '' and eve\n",
      "nly ; and he frowned under his heavy black eyebrows . `` What is the Law of the\n",
      "get up and feed it in the night with black lumps ; and when the morning came an\n",
      "s the boy stood all naked , his long black hair tossing over his shoulders in t\n",
      "than this . Sometimes Bagheera , the Black Panther , would come lounging throug\n",
      " think how small he is , '' said the Black Panther , who would have spoiled Mow\n",
      "? Put dead bats on my head ! Give me black bones to eat ! Roll me into the hive\n",
      "at would the jungle think if I , the Black Panther , curled myself up like Ikki\n",
      "e -- '' '' Is Bagheera , '' said the Black Panther , and his jaws shut with a s\n",
      "a 's light feet on the terrace . The Black Panther had raced up the slope almos\n",
      "e furious din of the fight round the Black Panther -- the yells and chatterings\n",
      "t help chuckling as he heard the big Black Panther asking for help . Kaa had on\n",
      ", remember , Mowgli , I , who am the Black Panther , was forced to call upon Ka\n",
      "ht ; or string a necklace of red and black jungle-nuts ; or watch a lizard bask\n",
      "thou knowest ! '' and the torrent of black horns , foaming muzzles , and starin\n",
      "kites have come down to see it . The black ants have come up to know it . There\n",
      " baby , the night is behind us , And black are the waters that sparkled so gree\n",
      "mashed to pieces against some wicked black cliffs in a heavy sleet-storm with l\n",
      "e beaches , and I am the only seal , black or white , who ever thought of looki\n",
      "ead and spread hood of Nag , the big black cobra , and he was five feet long fr\n",
      "THE ELEPHANTS KALA NAG , which means Black Snake , had served the Indian Govern\n",
      "ighting that Kala Nag , the old wise Black Snake , did not know , for he had st\n",
      "Big Toomai , his driver , the son of Black Toomai who had taken him to Abyssini\n",
      "aught , `` there is nothing that the Black Snake fears except me . He has seen \n",
      "aîl , Kala Nag ! _ ( Go on , go on , Black Snake ! ) _Dant do ! _ ( Give him th\n",
      "pon it , and their shadows were inky black . Little Toomai looked , holding his\n",
      "d came over the moon , and he sat in black darkness ; but the quiet , steady hu\n",
      "ants are beyond the wit of any man , black or white , to fathom . `` Forty year\n",
      "o you suppose I 'm looked after by a black bullock-driver ? '' `` _Huah ! Ouach\n",
      "r of Afghanistan , with his high big black hat of astrakhan wool and the great \n"
     ]
    }
   ],
   "source": [
    "jungle_nltk_text.concordance(\"black\",lines=35)"
   ]
  },
  {
   "cell_type": "markdown",
   "metadata": {},
   "source": [
    "#### Exercise\n",
    "\n",
    "How is the word love used in Romeo and Juliet? The code below downloads Romeo and Juliet, continue the code."
   ]
  },
  {
   "cell_type": "code",
   "execution_count": 36,
   "metadata": {},
   "outputs": [
    {
     "name": "stdout",
     "output_type": "stream",
     "text": [
      "Displaying 15 of 145 matches:\n",
      "arful passage of their death-mark 'd love , And the continuance of their paren\n",
      "h having makes them short . Ben . In love ? Rom . Out- Ben . Of love ? Rom . O\n",
      " Ben . In love ? Rom . Out- Ben . Of love ? Rom . Out of her favour where I am\n",
      "om . Out of her favour where I am in love . Ben . Alas that love , so gentle i\n",
      "where I am in love . Ben . Alas that love , so gentle in his view , Should be \n",
      "and rough in proof ! Rom . Alas that love , whose view is muffled still , Shou\n",
      "much to do with hate , but more with love . Why then , O brawling love ! O lov\n",
      "re with love . Why then , O brawling love ! O loving hate ! O anything , of no\n",
      " sleep , that is not what it is This love feel I , that feel no love in this .\n",
      "t is This love feel I , that feel no love in this . Dost thou not laugh ? Ben \n",
      " 's oppression . Rom . Why , such is love 's transgression . Griefs of mine ow\n",
      "e it prest With more of thine . This love that thou hast shown Doth add more g\n",
      "more grief to too much of mine own . Love is a smoke rais 'd with the fume of \n",
      "Tell me in sadness , who is that you love ? Rom . What , shall I groan and tel\n",
      " so ill ! In sadness , cousin , I do love a woman . Ben . I aim 'd so near whe\n"
     ]
    }
   ],
   "source": [
    "import requests\n",
    "randj = requests.get('http://www.gutenberg.org/cache/epub/1112/pg1112.txt').text\n",
    "# insert code here\n",
    "randj_tokens = word_tokenize(randj)\n",
    "randj_nltk_text = nltk.text.Text(randj_tokens)\n",
    "randj_nltk_text.concordance(\"love\",lines=15)"
   ]
  },
  {
   "cell_type": "markdown",
   "metadata": {},
   "source": [
    "### `.similar()`"
   ]
  },
  {
   "cell_type": "markdown",
   "metadata": {},
   "source": [
    "`concordance()` shows words in their context. For example, in Moby Dick the word monstrous occurres in contexts such as the \\_\\_\\_ pictures and a \\_\\_\\_ size. What other words appear in a **similar range of contexts**? We can find out by using the `.similar()` method, entering the word you want analyse within parentheses. Below we ask which words are similar to \"forest\"."
   ]
  },
  {
   "cell_type": "code",
   "execution_count": 37,
   "metadata": {},
   "outputs": [
    {
     "name": "stdout",
     "output_type": "stream",
     "text": [
      "jungle air world clearing ground pack elephants cave skin sea head\n",
      "other village beasts darkness water monkeys reward beach mule\n"
     ]
    }
   ],
   "source": [
    "jungle_nltk_text.similar(\"forest\")\n"
   ]
  },
  {
   "cell_type": "markdown",
   "metadata": {},
   "source": [
    "#### `.collocations()`"
   ]
  },
  {
   "cell_type": "markdown",
   "metadata": {},
   "source": [
    "#### Exercise\n",
    "\n",
    "- Use help() to find out what the `.collocations()` method returns.\n",
    "- Apply the method to our Jungle Book example."
   ]
  },
  {
   "cell_type": "code",
   "execution_count": 54,
   "metadata": {},
   "outputs": [
    {
     "data": {
      "text/plain": [
       "nltk.text.Text"
      ]
     },
     "execution_count": 54,
     "metadata": {},
     "output_type": "execute_result"
    }
   ],
   "source": [
    "type(jungle_nltk_text)"
   ]
  },
  {
   "cell_type": "code",
   "execution_count": 63,
   "metadata": {},
   "outputs": [
    {
     "name": "stdout",
     "output_type": "stream",
     "text": [
      "Help on method collocations in module nltk.text:\n",
      "\n",
      "collocations(num=20, window_size=2) method of nltk.text.Text instance\n",
      "    Print collocations derived from the text, ignoring stopwords.\n",
      "    \n",
      "    :seealso: find_collocations\n",
      "    :param num: The maximum number of collocations to print.\n",
      "    :type num: int\n",
      "    :param window_size: The number of tokens spanned by a collocation (default=2)\n",
      "    :type window_size: int\n",
      "\n",
      "Shere Khan; Kala Nag; Project Gutenberg-tm; Little Toomai; Petersen\n",
      "Sahib; Two Tails; Father Wolf; Project Gutenberg; Gray Brother; Mother\n",
      "Wolf; Sea Catch; thou art; Law Jungle; Literary Archive; Council Rock;\n",
      "Gutenberg-tm electronic; electronic works; Gutenberg-tm works; Archive\n",
      "Foundation; Literary Foundation; Gutenberg Archive; Gutenberg\n",
      "Literary; Machua Appa; Project electronic; Big Toomai; United States;\n",
      "Sea Cow; man cub; Free People; Gutenberg Foundation; Project works;\n",
      "Preserver Mahadeo; Jungle People; Black Panther; Red Flower; said\n",
      "troop-horse; said Billy; Project Archive; Project Literary; Little\n",
      "Brother; Sea Vitch; said Mowgli; Monkey People; Teddy mother; Cold\n",
      "Lairs; Project Foundation; terms agreement; public domain; LITTLE\n",
      "TOOMAI; thou hast; said Bagheera; set forth; Project License; Look\n",
      "well; electronic work; could hear; Master Words; Lone Wolf; Gutenberg-\n",
      "tm work; four feet; Gutenberg-tm License; COUNCIL ROCK; JUNGLE BOOK;\n",
      "hind legs; right left; KALA NAG; Section Information; SCORES BROAD;\n",
      "UPON SCORES; Darzee wife; well Wolves; Good hunting; young mule;\n",
      "Rudyard Kipling; St. Paul; Tower musket; Walrus Islet; TOOMAI\n",
      "ELEPHANTS; ten years; Mang Bat; Shiva Preserver; said mule; big man;\n",
      "Project work; could see; licking lips; half mile; never seen; said\n",
      "Wolf; white seal; said Baloo; across plain; Shiva Mahadeo; white\n",
      "teeth; Bull bought; first time; LITTLE BROTHER; copyright holder; one\n",
      "another; beaches Lukannon\n"
     ]
    }
   ],
   "source": [
    "# insert code\n",
    "# help(nltk.text.Text.collocations)\n",
    "# help(variablename.method)\n",
    "help (jungle_nltk_text.collocations)\n",
    "jungle_nltk_text.collocations(num=100,window_size=5)"
   ]
  },
  {
   "cell_type": "markdown",
   "metadata": {},
   "source": [
    "### 1. Research Scenario: How left and right-wing media depict Mueller"
   ]
  },
  {
   "cell_type": "markdown",
   "metadata": {},
   "source": [
    "The research scenario below applies these techniques to understand how the New York times depicts Robert S. Mueller. First, we load the data.\n",
    "\n",
    "Don't worry about the technicality on line two: this command basically tells Python to read everything in \"post_message\" columns as a string (this step avoids our code the crash in a later stage)."
   ]
  },
  {
   "cell_type": "code",
   "execution_count": 51,
   "metadata": {},
   "outputs": [],
   "source": [
    "import pandas as pd\n",
    "nyt = pd.read_csv('https://raw.githubusercontent.com/kasparvonbeelen/CTH2019/master/lecture_3_data/nytimes.tab',sep='\\t')\n",
    "nyt['post_message'] = nyt['post_message'].astype(str) # this line is a technicality, use it but do not worry if you don't understand it"
   ]
  },
  {
   "cell_type": "markdown",
   "metadata": {},
   "source": [
    "Before we tokenize the post messages, we have to join them together in one string. `' '.join()` is the opposite of `.split()`. Inspect the examples below to understand how these functions work."
   ]
  },
  {
   "cell_type": "code",
   "execution_count": 73,
   "metadata": {},
   "outputs": [
    {
     "name": "stdout",
     "output_type": "stream",
     "text": [
      "['Hello', 'how', 'are', 'you?']\n"
     ]
    },
    {
     "data": {
      "text/plain": [
       "4"
      ]
     },
     "execution_count": 73,
     "metadata": {},
     "output_type": "execute_result"
    }
   ],
   "source": [
    "sentence = 'Hello how are you?'\n",
    "words = sentence.split() #split() can be counted by blankspace, not by marks \n",
    "print (words)\n",
    "len (words)"
   ]
  },
  {
   "cell_type": "code",
   "execution_count": 66,
   "metadata": {},
   "outputs": [
    {
     "name": "stdout",
     "output_type": "stream",
     "text": [
      "<class 'list'>\n"
     ]
    }
   ],
   "source": [
    "print(type(words))"
   ]
  },
  {
   "cell_type": "code",
   "execution_count": 74,
   "metadata": {},
   "outputs": [
    {
     "data": {
      "text/plain": [
       "'Hello how are you?'"
      ]
     },
     "execution_count": 74,
     "metadata": {},
     "output_type": "execute_result"
    }
   ],
   "source": [
    "sentence_merged =  ' '.join(words)\n",
    "sentence_merged"
   ]
  },
  {
   "cell_type": "code",
   "execution_count": 75,
   "metadata": {},
   "outputs": [
    {
     "name": "stdout",
     "output_type": "stream",
     "text": [
      "<class 'str'>\n"
     ]
    }
   ],
   "source": [
    "print(type(sentence_merged))"
   ]
  },
  {
   "cell_type": "markdown",
   "metadata": {},
   "source": [
    "To apply the NLTK tools to Facebook \"post_messages\" we first select a column with the posts, join all the messages into one long string, then save the result in the `posts` variable. These three steps can be executed in just one line. "
   ]
  },
  {
   "cell_type": "code",
   "execution_count": 79,
   "metadata": {},
   "outputs": [],
   "source": [
    "posts = ' '.join(nyt['post_message'])"
   ]
  },
  {
   "cell_type": "markdown",
   "metadata": {
    "collapsed": true
   },
   "source": [
    "To understand what happens here, analyse the code below, that use just the first three post messages."
   ]
  },
  {
   "cell_type": "code",
   "execution_count": 82,
   "metadata": {},
   "outputs": [
    {
     "name": "stdout",
     "output_type": "stream",
     "text": [
      "0    The hire is part of a flurry of activity by Se...\n",
      "1     What we don t want is the perception that we ...\n",
      "2    Mike Pompeo’s claim that the Donald J. Trump a...\n",
      "Name: post_message, dtype: object\n"
     ]
    }
   ],
   "source": [
    "posts_example = nyt['post_message'][:3]\n",
    "print(posts_example)"
   ]
  },
  {
   "cell_type": "code",
   "execution_count": 83,
   "metadata": {},
   "outputs": [
    {
     "name": "stdout",
     "output_type": "stream",
     "text": [
      "The hire is part of a flurry of activity by Senator Kirsten Gillibrand in recent weeks as the 2020 campaign gets underway.  What we don t want is the perception that we re a dusty border town with burros and carts  AK-47s being fired every 30 minutes and Molotov cocktails being thrown. Because that’s not what s happening in McAllen   said a city commissioner. Mike Pompeo’s claim that the Donald J. Trump administration has been  clear  about withdrawing troops from Syria ignored clearly contradictory statements.\n"
     ]
    }
   ],
   "source": [
    "# how to merge all messages into one (as 'str')\n",
    "posts_merged_example = ' '.join(posts_example)\n",
    "print(posts_merged_example)"
   ]
  },
  {
   "cell_type": "markdown",
   "metadata": {},
   "source": [
    "Once all the post messages are stored as one string. This string is tokenized with `word_tokenize` and subsequently converted to an NLTK object."
   ]
  },
  {
   "cell_type": "code",
   "execution_count": 85,
   "metadata": {},
   "outputs": [],
   "source": [
    "posts_tokens = word_tokenize(posts)\n",
    "nltk_posts = nltk.text.Text(posts_tokens)"
   ]
  },
  {
   "cell_type": "code",
   "execution_count": 86,
   "metadata": {},
   "outputs": [
    {
     "name": "stdout",
     "output_type": "stream",
     "text": [
      "Displaying 3 of 3 matches:\n",
      "We re live with Ellen Barry and Ben Mueller New York Times international corres\n",
      " Rod Rosenstein has defended Robert Mueller against attacks from Donald J. Trum\n",
      "oke on a variety of topics like the Mueller investigation and Stormy Daniels wh\n"
     ]
    }
   ],
   "source": [
    "nltk_posts.concordance(\"Mueller\")"
   ]
  },
  {
   "cell_type": "markdown",
   "metadata": {},
   "source": [
    "#### Exercise\n",
    "\n",
    "How does Fox News report about Mueller? Use [these data](https://raw.githubusercontent.com/kasparvonbeelen/CTH2019/master/lecture_3_data/foxnews.tab).\n"
   ]
  },
  {
   "cell_type": "code",
   "execution_count": 134,
   "metadata": {},
   "outputs": [
    {
     "name": "stdout",
     "output_type": "stream",
     "text": [
      "Displaying 7 of 7 matches:\n",
      " the team of Special Counsel Robert Mueller has been extended Fox News has lear\n",
      "t s time for Special Counsel Robert Mueller to put up or shut up . Amazon could\n",
      "ime to strongly consider firing Bob Mueller . – Dan Bongino https : //bit.ly/2w\n",
      " Duncan said Special Counsel Robert Mueller ’ s team was one holdout juror away\n",
      "ain rally tonight . For months team Mueller has unsuccessfully tried to turn th\n",
      "s brought by Special Counsel Robert Mueller . https : //fxn.ws/2JOF1vN BREAKING\n",
      "tions of former FBI Director Robert Mueller who now leads the special counsel R\n"
     ]
    }
   ],
   "source": [
    "# insert code here\n",
    "import pandas as pd\n",
    "fn = pd.read_csv('https://raw.githubusercontent.com/kasparvonbeelen/CTH2019/master/lecture_3_data/foxnews.tab',sep='\\t')\n",
    "fn['post_message'] = fn['post_message'].astype(str)\n",
    "posts = ' '.join(fn['post_message'])\n",
    "post_tokens = word_tokenize('posts')\n",
    "posts_tokens = word_tokenize(posts)\n",
    "nltk_posts = nltk.text.Text(posts_tokens)\n",
    "\n",
    "nltk_posts.concordance(\"Mueller\")"
   ]
  },
  {
   "cell_type": "markdown",
   "metadata": {},
   "source": [
    "#### \\*\\*\\* Exercise"
   ]
  },
  {
   "cell_type": "markdown",
   "metadata": {},
   "source": [
    "In this exercise, we will investigate the text of Facebook posts in relation to the reactions they received. More specifically we look at what makes different audiences angry or happy when they are confronted with news about about Trump.\n",
    "\n",
    "Use these data\n",
    "- [New York Times]('https://raw.githubusercontent.com/kasparvonbeelen/CTH2019/master/lecture_3_data/nytimes.tab')\n",
    "- [Fox News]('https://raw.githubusercontent.com/kasparvonbeelen/CTH2019/master/lecture_3_data/foxnews.tab')\n",
    "\n",
    "So, again for each of these pages (and each of the emotions):\n",
    "- Compute the ratio of angry and love reactions (by dividing the number of angry/love reactions type by the total number of reactions);\n",
    "- Select posts with a ratio of love (or angry) reactions higher than 0.3;\n",
    "- Save the rows that match these conditions in a new DataFrame (for example `df_nyt_angry`);\n",
    "- Concatenate the post messages into one string, split this string into tokens;\n",
    "- Convert the resulting list to an NLTK Text object. Use `.concordance()` to investigate what these supposedly angry or happy posts are about?\n",
    "- Compute the word frequencies. Based on your KWIC analysis, select a few interesting words and compare their relative frequencies  (across emotion or platform);\n",
    "- Write a small report to document your results."
   ]
  },
  {
   "cell_type": "code",
   "execution_count": 7,
   "metadata": {},
   "outputs": [
    {
     "name": "stdout",
     "output_type": "stream",
     "text": [
      "Displaying 1 of 1 matches:\n",
      "parents and to keep other passengers happy on long flights . Going around the t\n"
     ]
    },
    {
     "data": {
      "text/plain": [
       "1"
      ]
     },
     "execution_count": 7,
     "metadata": {},
     "output_type": "execute_result"
    }
   ],
   "source": [
    "# insert code here\n",
    "#NYT\n",
    "import pandas as pd\n",
    "nyt = pd.read_csv('https://raw.githubusercontent.com/kasparvonbeelen/CTH2019/master/lecture_3_data/nytimes.tab',sep='\\t')\n",
    "nyt['angry_ratio'] = nyt['rea_ANGRY']/nyt['reactions_count_fb']\n",
    "df_nyt_angry = nyt[nyt['angry_ratio'] >= 0.3]\n",
    "nyt['love_ratio'] = nyt['rea_LOVE']/nyt['reactions_count_fb']\n",
    "df_nyt_love = nyt[nyt['love_ratio'] >= 0.3]\n",
    "\n",
    "nyt['post_message'] = nyt['post_message'].astype(str)\n",
    "posts = ' '.join(nyt['post_message'])\n",
    "posts_tokens = word_tokenize(posts)\n",
    "nltk_posts = nltk.text.Text(posts_tokens)\n",
    "nltk_posts.concordance('happy')\n",
    "\n",
    "fq = nltk.FreqDist(nltk_posts)\n",
    "fq['happy']\n",
    "\n",
    "#FN\n",
    "fn = pd.read_csv('https://raw.githubusercontent.com/kasparvonbeelen/CTH2019/master/lecture_3_data/foxnews.tab',sep='\\t')\n",
    "fn['angry_ratio'] = fn['rea_ANGRY']/fn['reactions_count_fb']\n",
    "df_fn_angry = fn[fn['angry_ratio'] >= 0.3]\n",
    "fn['love_ratio'] = fn['rea_LOVE']/fn['reactions_count_fb']\n",
    "df_fn_love = fn[fn['love_ratio'] >= 0.3]\n",
    "\n",
    "fn['post_message'] = fn['post_message'].astype(str)\n",
    "posts = ' '.join(fn['post_message'])\n",
    "posts_tokens = regexp_tokenize(posts,pattern='\\w+')\n",
    "nltk_posts = nltk.text.Text(posts_tokens)\n",
    "nltk_posts.concordance('trump')\n",
    "\n",
    "#from nltk.tokenize import regexp_tokenize\n",
    "#tokens  = regexp_tokenize(posts,pattern='\\w+')\n",
    "fq = nltk.FreqDist(nltk_posts)\n",
    "fq\n",
    "\n"
   ]
  },
  {
   "cell_type": "markdown",
   "metadata": {},
   "source": [
    "From the research, we can recognise a pattern that news on Fox news is more against President Trump and through the reactions' analysis, we also can notice follower's attitudes towards Trump tend to be more angry. Besides, there is no significant difference between Fox news and New York Times. Information from the latter also inclines to be negative towards trump's news. \n",
    "\n",
    "We then tokenize keywords and try to analyse them in the context. For example, we filter \"happy\" and its synonyms in the all post messages and look into its frequency of occurence. The study demonstrates that this word is less used for expressing happiness of Trump, more for irrelavant info. "
   ]
  },
  {
   "cell_type": "markdown",
   "metadata": {},
   "source": [
    "## 2. Research Scenario: Studying changes over time"
   ]
  },
  {
   "cell_type": "markdown",
   "metadata": {},
   "source": [
    "Besides inspecting the content, we can study changes over time. When are topics salient and when do they disappear. Below we have a look at the comments on the New York Times."
   ]
  },
  {
   "cell_type": "markdown",
   "metadata": {},
   "source": [
    "Before looking at trends, the data has to be sorted in chronological order. We use the timestamp of the comment to sort the DataFrame. The sorted DataFrame is saved in a new variable.\n",
    "> Notice that the `pd.read_csv()` looks slightly different: we added a `parse_dates` arguments, which is set the columns that contain dates as values (Pandas then automatically interprets these values as timestamps)."
   ]
  },
  {
   "cell_type": "code",
   "execution_count": 150,
   "metadata": {},
   "outputs": [],
   "source": [
    "import pandas as pd\n",
    "url = \"https://raw.githubusercontent.com/kasparvonbeelen/CTH2019/master/data_nytimes/page_5281959998_2018_12_28_22_00_39_comments.tab\"\n",
    "nyt_comments = pd.read_csv(url,sep='\\t',parse_dates=['post_published','comment_published'])\n",
    "nyt_comments_sorted = nyt_comments.sort_values(by='comment_published')"
   ]
  },
  {
   "cell_type": "markdown",
   "metadata": {},
   "source": [
    "#### Exercise\n",
    "\n",
    "Run the code below and inspect the \"comment_published\" column."
   ]
  },
  {
   "cell_type": "code",
   "execution_count": 151,
   "metadata": {
    "scrolled": true
   },
   "outputs": [
    {
     "data": {
      "text/html": [
       "<div>\n",
       "<style scoped>\n",
       "    .dataframe tbody tr th:only-of-type {\n",
       "        vertical-align: middle;\n",
       "    }\n",
       "\n",
       "    .dataframe tbody tr th {\n",
       "        vertical-align: top;\n",
       "    }\n",
       "\n",
       "    .dataframe thead th {\n",
       "        text-align: right;\n",
       "    }\n",
       "</style>\n",
       "<table border=\"1\" class=\"dataframe\">\n",
       "  <thead>\n",
       "    <tr style=\"text-align: right;\">\n",
       "      <th></th>\n",
       "      <th>position</th>\n",
       "      <th>post_id</th>\n",
       "      <th>post_by</th>\n",
       "      <th>post_text</th>\n",
       "      <th>post_published</th>\n",
       "      <th>comment_id</th>\n",
       "      <th>comment_by</th>\n",
       "      <th>is_reply</th>\n",
       "      <th>comment_message</th>\n",
       "      <th>comment_published</th>\n",
       "      <th>comment_like_count</th>\n",
       "      <th>attachment_type</th>\n",
       "      <th>attachment_url</th>\n",
       "    </tr>\n",
       "  </thead>\n",
       "  <tbody>\n",
       "    <tr>\n",
       "      <th>16123</th>\n",
       "      <td>49_408</td>\n",
       "      <td>5281959998_10151785245419999</td>\n",
       "      <td>825d8dd2a27d4f84aec9008bf96872ffb2a4a4ad</td>\n",
       "      <td>Republican leaders gave up hope on Thursday of...</td>\n",
       "      <td>2018-12-27 22:55:00</td>\n",
       "      <td>10151785245419999_10151785253979999</td>\n",
       "      <td>da39a3ee5e6b4b0d3255bfef95601890afd80709</td>\n",
       "      <td>0</td>\n",
       "      <td>Won’t they just pass a CR to reopen?</td>\n",
       "      <td>2018-12-27 22:56:38</td>\n",
       "      <td>8</td>\n",
       "      <td>NaN</td>\n",
       "      <td>NaN</td>\n",
       "    </tr>\n",
       "    <tr>\n",
       "      <th>16417</th>\n",
       "      <td>49_702</td>\n",
       "      <td>5281959998_10151785245419999</td>\n",
       "      <td>825d8dd2a27d4f84aec9008bf96872ffb2a4a4ad</td>\n",
       "      <td>Republican leaders gave up hope on Thursday of...</td>\n",
       "      <td>2018-12-27 22:55:00</td>\n",
       "      <td>10151785245419999_10151785253984999</td>\n",
       "      <td>da39a3ee5e6b4b0d3255bfef95601890afd80709</td>\n",
       "      <td>0</td>\n",
       "      <td>Damn you, Mexico! You should’ve paid for the s...</td>\n",
       "      <td>2018-12-27 22:56:39</td>\n",
       "      <td>1</td>\n",
       "      <td>NaN</td>\n",
       "      <td>NaN</td>\n",
       "    </tr>\n",
       "    <tr>\n",
       "      <th>15981</th>\n",
       "      <td>49_266</td>\n",
       "      <td>5281959998_10151785245419999</td>\n",
       "      <td>825d8dd2a27d4f84aec9008bf96872ffb2a4a4ad</td>\n",
       "      <td>Republican leaders gave up hope on Thursday of...</td>\n",
       "      <td>2018-12-27 22:55:00</td>\n",
       "      <td>10151785245419999_10151785254124999</td>\n",
       "      <td>da39a3ee5e6b4b0d3255bfef95601890afd80709</td>\n",
       "      <td>0</td>\n",
       "      <td>#TrumpShutdown</td>\n",
       "      <td>2018-12-27 22:56:52</td>\n",
       "      <td>115</td>\n",
       "      <td>NaN</td>\n",
       "      <td>NaN</td>\n",
       "    </tr>\n",
       "    <tr>\n",
       "      <th>16412</th>\n",
       "      <td>49_697</td>\n",
       "      <td>5281959998_10151785245419999</td>\n",
       "      <td>825d8dd2a27d4f84aec9008bf96872ffb2a4a4ad</td>\n",
       "      <td>Republican leaders gave up hope on Thursday of...</td>\n",
       "      <td>2018-12-27 22:55:00</td>\n",
       "      <td>10151785245419999_10151785254244999</td>\n",
       "      <td>da39a3ee5e6b4b0d3255bfef95601890afd80709</td>\n",
       "      <td>0</td>\n",
       "      <td>Trump is a useless idiot.</td>\n",
       "      <td>2018-12-27 22:57:14</td>\n",
       "      <td>1</td>\n",
       "      <td>NaN</td>\n",
       "      <td>NaN</td>\n",
       "    </tr>\n",
       "    <tr>\n",
       "      <th>16012</th>\n",
       "      <td>49_297</td>\n",
       "      <td>5281959998_10151785245419999</td>\n",
       "      <td>825d8dd2a27d4f84aec9008bf96872ffb2a4a4ad</td>\n",
       "      <td>Republican leaders gave up hope on Thursday of...</td>\n",
       "      <td>2018-12-27 22:55:00</td>\n",
       "      <td>10151785245419999_10151785254274999</td>\n",
       "      <td>da39a3ee5e6b4b0d3255bfef95601890afd80709</td>\n",
       "      <td>0</td>\n",
       "      <td>We must not let the Republicans off of the hoo...</td>\n",
       "      <td>2018-12-27 22:57:19</td>\n",
       "      <td>46</td>\n",
       "      <td>NaN</td>\n",
       "      <td>NaN</td>\n",
       "    </tr>\n",
       "    <tr>\n",
       "      <th>16300</th>\n",
       "      <td>49_585</td>\n",
       "      <td>5281959998_10151785245419999</td>\n",
       "      <td>825d8dd2a27d4f84aec9008bf96872ffb2a4a4ad</td>\n",
       "      <td>Republican leaders gave up hope on Thursday of...</td>\n",
       "      <td>2018-12-27 22:55:00</td>\n",
       "      <td>10151785245419999_10151785254294999</td>\n",
       "      <td>da39a3ee5e6b4b0d3255bfef95601890afd80709</td>\n",
       "      <td>0</td>\n",
       "      <td>This is TRUMP's shutdown.  He owns it.</td>\n",
       "      <td>2018-12-27 22:57:20</td>\n",
       "      <td>7</td>\n",
       "      <td>NaN</td>\n",
       "      <td>NaN</td>\n",
       "    </tr>\n",
       "    <tr>\n",
       "      <th>16407</th>\n",
       "      <td>49_692</td>\n",
       "      <td>5281959998_10151785245419999</td>\n",
       "      <td>825d8dd2a27d4f84aec9008bf96872ffb2a4a4ad</td>\n",
       "      <td>Republican leaders gave up hope on Thursday of...</td>\n",
       "      <td>2018-12-27 22:55:00</td>\n",
       "      <td>10151785245419999_10151785254439999</td>\n",
       "      <td>da39a3ee5e6b4b0d3255bfef95601890afd80709</td>\n",
       "      <td>0</td>\n",
       "      <td>Trump is the only Blame! Trump is a traitor to...</td>\n",
       "      <td>2018-12-27 22:57:38</td>\n",
       "      <td>0</td>\n",
       "      <td>NaN</td>\n",
       "      <td>NaN</td>\n",
       "    </tr>\n",
       "    <tr>\n",
       "      <th>16309</th>\n",
       "      <td>49_594</td>\n",
       "      <td>5281959998_10151785245419999</td>\n",
       "      <td>825d8dd2a27d4f84aec9008bf96872ffb2a4a4ad</td>\n",
       "      <td>Republican leaders gave up hope on Thursday of...</td>\n",
       "      <td>2018-12-27 22:55:00</td>\n",
       "      <td>10151785245419999_10151785254479999</td>\n",
       "      <td>da39a3ee5e6b4b0d3255bfef95601890afd80709</td>\n",
       "      <td>0</td>\n",
       "      <td>Democrats will pass a spending bill within hou...</td>\n",
       "      <td>2018-12-27 22:57:46</td>\n",
       "      <td>16</td>\n",
       "      <td>NaN</td>\n",
       "      <td>NaN</td>\n",
       "    </tr>\n",
       "    <tr>\n",
       "      <th>16390</th>\n",
       "      <td>49_675</td>\n",
       "      <td>5281959998_10151785245419999</td>\n",
       "      <td>825d8dd2a27d4f84aec9008bf96872ffb2a4a4ad</td>\n",
       "      <td>Republican leaders gave up hope on Thursday of...</td>\n",
       "      <td>2018-12-27 22:55:00</td>\n",
       "      <td>10151785245419999_10151785254559999</td>\n",
       "      <td>da39a3ee5e6b4b0d3255bfef95601890afd80709</td>\n",
       "      <td>0</td>\n",
       "      <td>Lol...so no wall then. Nancy tried to tell you...</td>\n",
       "      <td>2018-12-27 22:58:01</td>\n",
       "      <td>0</td>\n",
       "      <td>NaN</td>\n",
       "      <td>NaN</td>\n",
       "    </tr>\n",
       "    <tr>\n",
       "      <th>16144</th>\n",
       "      <td>49_429</td>\n",
       "      <td>5281959998_10151785245419999</td>\n",
       "      <td>825d8dd2a27d4f84aec9008bf96872ffb2a4a4ad</td>\n",
       "      <td>Republican leaders gave up hope on Thursday of...</td>\n",
       "      <td>2018-12-27 22:55:00</td>\n",
       "      <td>10151785245419999_10151785254589999</td>\n",
       "      <td>da39a3ee5e6b4b0d3255bfef95601890afd80709</td>\n",
       "      <td>0</td>\n",
       "      <td>NaN</td>\n",
       "      <td>2018-12-27 22:58:06</td>\n",
       "      <td>1</td>\n",
       "      <td>animated_image_share</td>\n",
       "      <td>https://l.facebook.com/l.php?u=https%3A%2F%2Fm...</td>\n",
       "    </tr>\n",
       "  </tbody>\n",
       "</table>\n",
       "</div>"
      ],
      "text/plain": [
       "      position                       post_id  \\\n",
       "16123   49_408  5281959998_10151785245419999   \n",
       "16417   49_702  5281959998_10151785245419999   \n",
       "15981   49_266  5281959998_10151785245419999   \n",
       "16412   49_697  5281959998_10151785245419999   \n",
       "16012   49_297  5281959998_10151785245419999   \n",
       "16300   49_585  5281959998_10151785245419999   \n",
       "16407   49_692  5281959998_10151785245419999   \n",
       "16309   49_594  5281959998_10151785245419999   \n",
       "16390   49_675  5281959998_10151785245419999   \n",
       "16144   49_429  5281959998_10151785245419999   \n",
       "\n",
       "                                        post_by  \\\n",
       "16123  825d8dd2a27d4f84aec9008bf96872ffb2a4a4ad   \n",
       "16417  825d8dd2a27d4f84aec9008bf96872ffb2a4a4ad   \n",
       "15981  825d8dd2a27d4f84aec9008bf96872ffb2a4a4ad   \n",
       "16412  825d8dd2a27d4f84aec9008bf96872ffb2a4a4ad   \n",
       "16012  825d8dd2a27d4f84aec9008bf96872ffb2a4a4ad   \n",
       "16300  825d8dd2a27d4f84aec9008bf96872ffb2a4a4ad   \n",
       "16407  825d8dd2a27d4f84aec9008bf96872ffb2a4a4ad   \n",
       "16309  825d8dd2a27d4f84aec9008bf96872ffb2a4a4ad   \n",
       "16390  825d8dd2a27d4f84aec9008bf96872ffb2a4a4ad   \n",
       "16144  825d8dd2a27d4f84aec9008bf96872ffb2a4a4ad   \n",
       "\n",
       "                                               post_text      post_published  \\\n",
       "16123  Republican leaders gave up hope on Thursday of... 2018-12-27 22:55:00   \n",
       "16417  Republican leaders gave up hope on Thursday of... 2018-12-27 22:55:00   \n",
       "15981  Republican leaders gave up hope on Thursday of... 2018-12-27 22:55:00   \n",
       "16412  Republican leaders gave up hope on Thursday of... 2018-12-27 22:55:00   \n",
       "16012  Republican leaders gave up hope on Thursday of... 2018-12-27 22:55:00   \n",
       "16300  Republican leaders gave up hope on Thursday of... 2018-12-27 22:55:00   \n",
       "16407  Republican leaders gave up hope on Thursday of... 2018-12-27 22:55:00   \n",
       "16309  Republican leaders gave up hope on Thursday of... 2018-12-27 22:55:00   \n",
       "16390  Republican leaders gave up hope on Thursday of... 2018-12-27 22:55:00   \n",
       "16144  Republican leaders gave up hope on Thursday of... 2018-12-27 22:55:00   \n",
       "\n",
       "                                comment_id  \\\n",
       "16123  10151785245419999_10151785253979999   \n",
       "16417  10151785245419999_10151785253984999   \n",
       "15981  10151785245419999_10151785254124999   \n",
       "16412  10151785245419999_10151785254244999   \n",
       "16012  10151785245419999_10151785254274999   \n",
       "16300  10151785245419999_10151785254294999   \n",
       "16407  10151785245419999_10151785254439999   \n",
       "16309  10151785245419999_10151785254479999   \n",
       "16390  10151785245419999_10151785254559999   \n",
       "16144  10151785245419999_10151785254589999   \n",
       "\n",
       "                                     comment_by  is_reply  \\\n",
       "16123  da39a3ee5e6b4b0d3255bfef95601890afd80709         0   \n",
       "16417  da39a3ee5e6b4b0d3255bfef95601890afd80709         0   \n",
       "15981  da39a3ee5e6b4b0d3255bfef95601890afd80709         0   \n",
       "16412  da39a3ee5e6b4b0d3255bfef95601890afd80709         0   \n",
       "16012  da39a3ee5e6b4b0d3255bfef95601890afd80709         0   \n",
       "16300  da39a3ee5e6b4b0d3255bfef95601890afd80709         0   \n",
       "16407  da39a3ee5e6b4b0d3255bfef95601890afd80709         0   \n",
       "16309  da39a3ee5e6b4b0d3255bfef95601890afd80709         0   \n",
       "16390  da39a3ee5e6b4b0d3255bfef95601890afd80709         0   \n",
       "16144  da39a3ee5e6b4b0d3255bfef95601890afd80709         0   \n",
       "\n",
       "                                         comment_message   comment_published  \\\n",
       "16123               Won’t they just pass a CR to reopen? 2018-12-27 22:56:38   \n",
       "16417  Damn you, Mexico! You should’ve paid for the s... 2018-12-27 22:56:39   \n",
       "15981                                     #TrumpShutdown 2018-12-27 22:56:52   \n",
       "16412                          Trump is a useless idiot. 2018-12-27 22:57:14   \n",
       "16012  We must not let the Republicans off of the hoo... 2018-12-27 22:57:19   \n",
       "16300             This is TRUMP's shutdown.  He owns it. 2018-12-27 22:57:20   \n",
       "16407  Trump is the only Blame! Trump is a traitor to... 2018-12-27 22:57:38   \n",
       "16309  Democrats will pass a spending bill within hou... 2018-12-27 22:57:46   \n",
       "16390  Lol...so no wall then. Nancy tried to tell you... 2018-12-27 22:58:01   \n",
       "16144                                                NaN 2018-12-27 22:58:06   \n",
       "\n",
       "       comment_like_count       attachment_type  \\\n",
       "16123                   8                   NaN   \n",
       "16417                   1                   NaN   \n",
       "15981                 115                   NaN   \n",
       "16412                   1                   NaN   \n",
       "16012                  46                   NaN   \n",
       "16300                   7                   NaN   \n",
       "16407                   0                   NaN   \n",
       "16309                  16                   NaN   \n",
       "16390                   0                   NaN   \n",
       "16144                   1  animated_image_share   \n",
       "\n",
       "                                          attachment_url  \n",
       "16123                                                NaN  \n",
       "16417                                                NaN  \n",
       "15981                                                NaN  \n",
       "16412                                                NaN  \n",
       "16012                                                NaN  \n",
       "16300                                                NaN  \n",
       "16407                                                NaN  \n",
       "16309                                                NaN  \n",
       "16390                                                NaN  \n",
       "16144  https://l.facebook.com/l.php?u=https%3A%2F%2Fm...  "
      ]
     },
     "execution_count": 151,
     "metadata": {},
     "output_type": "execute_result"
    }
   ],
   "source": [
    "nyt_comments_sorted.head(10)"
   ]
  },
  {
   "cell_type": "markdown",
   "metadata": {},
   "source": [
    "After sorting the data, we first make sure all values in the \"comment_message\" is actually a string. \n",
    "- Then we, again, join all the sorted comments into one long string. \n",
    "- Tokenize this string.\n",
    "- And convert the list of tokens to a NLTK Text object."
   ]
  },
  {
   "cell_type": "code",
   "execution_count": 152,
   "metadata": {},
   "outputs": [],
   "source": [
    "nyt_comments_sorted['comment_message'] = nyt_comments_sorted['comment_message'].astype(str)"
   ]
  },
  {
   "cell_type": "code",
   "execution_count": 153,
   "metadata": {},
   "outputs": [],
   "source": [
    "import nltk\n",
    "comments = ' '.join(nyt_comments_sorted['comment_message'])\n",
    "comments_tokens = word_tokenize(comments)\n",
    "nltk_comments = nltk.text.Text(comments_tokens)"
   ]
  },
  {
   "cell_type": "markdown",
   "metadata": {},
   "source": [
    "Once all the comments are stored as a NLTK Text object we can generate a `.dispersion()` plot."
   ]
  },
  {
   "cell_type": "code",
   "execution_count": 154,
   "metadata": {},
   "outputs": [
    {
     "data": {
      "image/png": "[encoded data removed]",
      "text/plain": [
       "<Figure size 432x288 with 1 Axes>"
      ]
     },
     "metadata": {
      "needs_background": "light"
     },
     "output_type": "display_data"
    }
   ],
   "source": [
    "nltk_comments.dispersion_plot(['Merkel','Trump','Mueller'])"
   ]
  },
  {
   "cell_type": "markdown",
   "metadata": {},
   "source": [
    "#### Question\n",
    "\n",
    "How to interpret this figure?"
   ]
  },
  {
   "cell_type": "raw",
   "metadata": {},
   "source": [
    "# write answer here\n",
    "The horizontal axis shows the positions of words in the text and the vertical suggestes the 'target' info. The table shows how vertical values (such as Trump) have been distributed in the text, by presenting the frequency of occurence in the whole text. "
   ]
  },
  {
   "cell_type": "markdown",
   "metadata": {},
   "source": [
    "#### \\*\\*\\* Exercise\n",
    "\n",
    "Use posts from the [New York Times](https://raw.githubusercontent.com/kasparvonbeelen/CTH2019/master/lecture_3_data/nytimes.tab) and [Fox News](https://raw.githubusercontent.com/kasparvonbeelen/CTH2019/master/lecture_3_data/foxnews.tab).\n",
    "For each page:\n",
    "- Sort the data by the **posts'** Timestamp;\n",
    "- Select the post message column and `.join()` the posts into one string;\n",
    "- Tokenize the text;\n",
    "- Compute word frequencies; compute the relative frequency of the word Trump;\n",
    "- Make a dispersion plot for 'Kelly','Cohen','Pelosi', and 'Trump'."
   ]
  },
  {
   "cell_type": "code",
   "execution_count": 189,
   "metadata": {
    "scrolled": false
   },
   "outputs": [
    {
     "data": {
      "image/png": "[encoded data removed]",
      "text/plain": [
       "<Figure size 432x288 with 1 Axes>"
      ]
     },
     "metadata": {
      "needs_background": "light"
     },
     "output_type": "display_data"
    }
   ],
   "source": [
    "# NYT\n",
    "import pandas as pd\n",
    "url = \"https://raw.githubusercontent.com/kasparvonbeelen/CTH2019/master/lecture_3_data/nytimes.tab\"\n",
    "nyt_post = pd.read_csv(url,sep='\\t',parse_dates=['post_published'])\n",
    "nyt_post_sorted = nyt_post.sort_values(by='post_published')\n",
    "\n",
    "nyt_post_sorted['post_message'] = nyt_post_sorted['post_message'].astype(str)\n",
    "\n",
    "import nltk\n",
    "post = ' '.join(nyt_post_sorted['post_message'])\n",
    "post_tokens = word_tokenize(post)\n",
    "nltk_post = nltk.text.Text(post_tokens)\n",
    "\n",
    "from nltk.tokenize import regexp_tokenize\n",
    "post_tokens  = regexp_tokenize(post,pattern='\\w+')\n",
    "\n",
    "fq = nltk.FreqDist(post_tokens)\n",
    "fq['Trump']\n",
    "\n",
    "rq = fq['Trump']/len(nltk_post) \n",
    "rq\n",
    "\n",
    "nltk_post.dispersion_plot(['Kelly','Trump','Cohen','Pelosi'])\n",
    "\n",
    "\n",
    "\n",
    "\n",
    "\n",
    "\n",
    "\n",
    "\n",
    "                                               \n",
    "                                               \n",
    "                                               \n",
    "                                               \n",
    "                                               "
   ]
  },
  {
   "cell_type": "code",
   "execution_count": 190,
   "metadata": {},
   "outputs": [
    {
     "data": {
      "image/png": "[encoded data removed]",
      "text/plain": [
       "<Figure size 432x288 with 1 Axes>"
      ]
     },
     "metadata": {
      "needs_background": "light"
     },
     "output_type": "display_data"
    }
   ],
   "source": [
    "# FN\n",
    "import pandas as pd\n",
    "url = \"https://raw.githubusercontent.com/kasparvonbeelen/CTH2019/master/lecture_3_data/foxnews.tab\"\n",
    "fn_post = pd.read_csv(url,sep='\\t',parse_dates=['post_published'])\n",
    "fn_post_sorted = fn_post.sort_values(by='post_published')\n",
    "\n",
    "fn_post_sorted['post_message'] = fn_post_sorted['post_message'].astype(str)\n",
    "\n",
    "import nltk\n",
    "post = ' '.join(fn_post_sorted['post_message'])\n",
    "post_tokens = word_tokenize(post)\n",
    "nltk_post = nltk.text.Text(post_tokens)\n",
    "\n",
    "from nltk.tokenize import regexp_tokenize\n",
    "post_tokens  = regexp_tokenize(post,pattern='\\w+')\n",
    "\n",
    "fq = nltk.FreqDist(post_tokens)\n",
    "fq['Trump']\n",
    "\n",
    "rq = fq['Trump']/len(nltk_post) \n",
    "rq\n",
    "\n",
    "nltk_post.dispersion_plot(['Kelly','Trump','Cohen','Pelosi'])\n",
    "\n",
    "\n",
    "\n",
    "\n",
    "\n",
    "\n",
    "\n",
    "\n",
    "                                               \n",
    "                                               \n",
    "                                               \n",
    "                                               \n",
    "                                               "
   ]
  },
  {
   "cell_type": "markdown",
   "metadata": {},
   "source": [
    "The dispersion plot tells you where certain words occur, by plotting the offsets, but not how often. To make things easier for you, I created a function `count_words_from_list` that takes a list of words and then computes how often these words appear. Run the cell below to load the function."
   ]
  },
  {
   "cell_type": "code",
   "execution_count": 14,
   "metadata": {},
   "outputs": [],
   "source": [
    "from collections import Counter\n",
    "\n",
    "def count_words_from_list(text,words2count):\n",
    "    tokens = word_tokenize(text.lower()) # convert string to tokens\n",
    "    wordfreq = Counter(tokens) # count the tokens, i.e. map tokens to their frequency\n",
    "    counter = 0\n",
    "    for w in words2count:\n",
    "        counter+=wordfreq.get(w,0)\n",
    "    \n",
    "    return counter \n"
   ]
  },
  {
   "cell_type": "markdown",
   "metadata": {},
   "source": [
    "To give an example: below we search for three words and compute how often they appears in a comment. We save this information in a new column with the name \"comment_about_trump\""
   ]
  },
  {
   "cell_type": "code",
   "execution_count": 15,
   "metadata": {},
   "outputs": [
    {
     "ename": "NameError",
     "evalue": "name 'nyt_comments_sorted' is not defined",
     "output_type": "error",
     "traceback": [
      "\u001b[0;31m---------------------------------------------------------------------------\u001b[0m",
      "\u001b[0;31mNameError\u001b[0m                                 Traceback (most recent call last)",
      "\u001b[0;32m<ipython-input-15-58f4e8259f75>\u001b[0m in \u001b[0;36m<module>\u001b[0;34m\u001b[0m\n\u001b[1;32m      1\u001b[0m \u001b[0mwords2count\u001b[0m \u001b[0;34m=\u001b[0m \u001b[0;34m[\u001b[0m\u001b[0;34m'president'\u001b[0m\u001b[0;34m,\u001b[0m\u001b[0;34m'trump'\u001b[0m\u001b[0;34m,\u001b[0m\u001b[0;34m'donald'\u001b[0m\u001b[0;34m]\u001b[0m\u001b[0;34m\u001b[0m\u001b[0;34m\u001b[0m\u001b[0m\n\u001b[0;32m----> 2\u001b[0;31m nyt_comments_sorted['comment_about_trump'] = nyt_comments_sorted['comment_message'].apply(count_words_from_list,\n\u001b[0m\u001b[1;32m      3\u001b[0m                                                             words2count=words2count)\n\u001b[1;32m      4\u001b[0m \u001b[0;34m\u001b[0m\u001b[0m\n",
      "\u001b[0;31mNameError\u001b[0m: name 'nyt_comments_sorted' is not defined"
     ]
    }
   ],
   "source": [
    "words2count = ['president','trump','donald']\n",
    "nyt_comments_sorted['comment_about_trump'] = nyt_comments_sorted['comment_message'].apply(count_words_from_list,\n",
    "                                                            words2count=words2count)\n",
    "\n"
   ]
  },
  {
   "cell_type": "code",
   "execution_count": 16,
   "metadata": {},
   "outputs": [
    {
     "ename": "NameError",
     "evalue": "name 'nyt_comments_sorted' is not defined",
     "output_type": "error",
     "traceback": [
      "\u001b[0;31m---------------------------------------------------------------------------\u001b[0m",
      "\u001b[0;31mNameError\u001b[0m                                 Traceback (most recent call last)",
      "\u001b[0;32m<ipython-input-16-589a1b434955>\u001b[0m in \u001b[0;36m<module>\u001b[0;34m\u001b[0m\n\u001b[0;32m----> 1\u001b[0;31m \u001b[0mnyt_comments_sorted\u001b[0m\u001b[0;34m.\u001b[0m\u001b[0mhead\u001b[0m\u001b[0;34m(\u001b[0m\u001b[0;34m)\u001b[0m\u001b[0;34m\u001b[0m\u001b[0;34m\u001b[0m\u001b[0m\n\u001b[0m",
      "\u001b[0;31mNameError\u001b[0m: name 'nyt_comments_sorted' is not defined"
     ]
    }
   ],
   "source": [
    "nyt_comments_sorted.head()"
   ]
  },
  {
   "cell_type": "markdown",
   "metadata": {},
   "source": [
    "To plot the results properly, we have to use the timestamp of the comment as the Index of the DataFrame. This is rather technical stuff--do not worry, just run the code."
   ]
  },
  {
   "cell_type": "code",
   "execution_count": 17,
   "metadata": {},
   "outputs": [
    {
     "ename": "NameError",
     "evalue": "name 'nyt_comments_sorted' is not defined",
     "output_type": "error",
     "traceback": [
      "\u001b[0;31m---------------------------------------------------------------------------\u001b[0m",
      "\u001b[0;31mNameError\u001b[0m                                 Traceback (most recent call last)",
      "\u001b[0;32m<ipython-input-17-8ac979593920>\u001b[0m in \u001b[0;36m<module>\u001b[0;34m\u001b[0m\n\u001b[0;32m----> 1\u001b[0;31m \u001b[0mnyt_comments_sorted\u001b[0m\u001b[0;34m.\u001b[0m\u001b[0mset_index\u001b[0m\u001b[0;34m(\u001b[0m\u001b[0mnyt_comments_sorted\u001b[0m\u001b[0;34m[\u001b[0m\u001b[0;34m\"comment_published\"\u001b[0m\u001b[0;34m]\u001b[0m\u001b[0;34m,\u001b[0m\u001b[0minplace\u001b[0m\u001b[0;34m=\u001b[0m\u001b[0;32mTrue\u001b[0m\u001b[0;34m)\u001b[0m\u001b[0;34m\u001b[0m\u001b[0;34m\u001b[0m\u001b[0m\n\u001b[0m",
      "\u001b[0;31mNameError\u001b[0m: name 'nyt_comments_sorted' is not defined"
     ]
    }
   ],
   "source": [
    "nyt_comments_sorted.set_index(nyt_comments_sorted[\"comment_published\"],inplace=True)"
   ]
  },
  {
   "cell_type": "markdown",
   "metadata": {},
   "source": [
    "The figure below plots the results by timestamp. Of course, on such a granularity it is difficult observe trends over time."
   ]
  },
  {
   "cell_type": "code",
   "execution_count": null,
   "metadata": {},
   "outputs": [],
   "source": [
    "%matplotlib inline\n",
    "nyt_comments_sorted['comment_about_trump'].plot()"
   ]
  },
  {
   "cell_type": "markdown",
   "metadata": {},
   "source": [
    "Luckily, in Pandas we can easily group our data by hour or day and compute the salience of the Trump topic in the New Your Times."
   ]
  },
  {
   "cell_type": "code",
   "execution_count": 198,
   "metadata": {},
   "outputs": [
    {
     "data": {
      "text/plain": [
       "<matplotlib.axes._subplots.AxesSubplot at 0x1a242ca898>"
      ]
     },
     "execution_count": 198,
     "metadata": {},
     "output_type": "execute_result"
    },
    {
     "data": {
      "image/png": "[encoded data removed]",
      "text/plain": [
       "<Figure size 432x288 with 1 Axes>"
      ]
     },
     "metadata": {
      "needs_background": "light"
     },
     "output_type": "display_data"
    }
   ],
   "source": [
    "nyt_comments_sorted['comment_about_trump'].resample('h').sum().plot() # sum by hour"
   ]
  },
  {
   "cell_type": "code",
   "execution_count": 199,
   "metadata": {},
   "outputs": [
    {
     "data": {
      "text/plain": [
       "<matplotlib.axes._subplots.AxesSubplot at 0x1a1d48f278>"
      ]
     },
     "execution_count": 199,
     "metadata": {},
     "output_type": "execute_result"
    },
    {
     "data": {
      "image/png": "[encoded data removed]",
      "text/plain": [
       "<Figure size 432x288 with 1 Axes>"
      ]
     },
     "metadata": {
      "needs_background": "light"
     },
     "output_type": "display_data"
    }
   ],
   "source": [
    "nyt_comments_sorted['comment_about_trump'].resample('h').mean().plot() # mean by hour"
   ]
  },
  {
   "cell_type": "markdown",
   "metadata": {},
   "source": [
    "#### Question\n",
    "\n",
    "How to interpret these figures and the diverging trends?"
   ]
  },
  {
   "cell_type": "markdown",
   "metadata": {
    "collapsed": true
   },
   "source": [
    "The first graph shows that how many comments are being published in 24 hours (from 21:00 to 21:00, from 0 comment to max). The second graph illustrates that in 24 hours, how long a Trump-related comment would be posted，the interval between two comments. "
   ]
  },
  {
   "cell_type": "markdown",
   "metadata": {},
   "source": [
    "#### Exercise\n",
    "\n",
    "What about Robert Mueller? Plot the saliency of this topic (use words \"mueller\" and \"counsel\")."
   ]
  },
  {
   "cell_type": "code",
   "execution_count": 200,
   "metadata": {},
   "outputs": [
    {
     "name": "stdout",
     "output_type": "stream",
     "text": [
      "AxesSubplot(0.125,0.2;0.775x0.68) AxesSubplot(0.125,0.2;0.775x0.68)\n"
     ]
    },
    {
     "data": {
      "image/png": "[encoded data removed]",
      "text/plain": [
       "<Figure size 432x288 with 1 Axes>"
      ]
     },
     "metadata": {
      "needs_background": "light"
     },
     "output_type": "display_data"
    }
   ],
   "source": [
    "# insert code here\n",
    "from collections import Counter\n",
    "def count_words_from_list(text,words2count):\n",
    "    tokens = word_tokenize(text.lower()) # convert string to tokens\n",
    "    wordfreq = Counter(tokens) # count the tokens, i.e. map tokens to their frequency\n",
    "    counter = 0\n",
    "    for w in words2count:\n",
    "        counter+=wordfreq.get(w,0)\n",
    "    \n",
    "    return counter \n",
    "\n",
    "words2count = ['mueller','counsel']\n",
    "nyt_comments_sorted['comment_about_mueller'] = nyt_comments_sorted['comment_message'].apply(count_words_from_list,\n",
    "                                                            words2count=words2count)\n",
    "nyt_comments_sorted.set_index(nyt_comments_sorted[\"comment_published\"],inplace=True)\n",
    "\n",
    "%matplotlib inline\n",
    "nyt_comments_sorted['comment_about_mueller'].plot()\n",
    "A = nyt_comments_sorted['comment_about_mueller'].resample('h').sum().plot()\n",
    "B = nyt_comments_sorted['comment_about_mueller'].resample('h').mean().plot()\n",
    "print (A, B)"
   ]
  },
  {
   "cell_type": "markdown",
   "metadata": {
    "collapsed": true
   },
   "source": [
    "# Congratulations with completing the course!\n",
    "\n",
    "Run the code below to congratulate yourself!"
   ]
  },
  {
   "cell_type": "code",
   "execution_count": 88,
   "metadata": {},
   "outputs": [
    {
     "name": "stdout",
     "output_type": "stream",
     "text": [
      "🐱🐱🐱🐱🐱🐱🐱🐱🐱🐱🐱🐱🐱🐱🐱🐱🐱🐱🐱🐱🐱🐱🐱🐱🐱🐱🐱🐱🐱🐱🐱🐱🐱🐱🐱🐱🐱🐱🐱🐱🐱🐱🐱🐱🐱🐱🐱🐱🐱🐱🐱🐱🐱🐱🐱🐱🐱🐱🐱🐱🐱🐱🐱🐱🐱🐱🐱🐱🐱🐱🐱🐱🐱🐱🐱🐱🐱🐱🐱🐱🐱🐱🐱🐱🐱🐱🐱🐱🐱🐱🐱🐱🐱🐱🐱🐱🐱🐱🐱🐱\n",
      "🐶🐶🐶🐶🐶🐶🐶🐶🐶🐶🐶🐶🐶🐶🐶🐶🐶🐶🐶🐶🐶🐶🐶🐶🐶🐶🐶🐶🐶🐶🐶🐶🐶🐶🐶🐶🐶🐶🐶🐶🐶🐶🐶🐶🐶🐶🐶🐶🐶🐶🐶🐶🐶🐶🐶🐶🐶🐶🐶🐶🐶🐶🐶🐶🐶🐶🐶🐶🐶🐶🐶🐶🐶🐶🐶🐶🐶🐶🐶🐶🐶🐶🐶🐶🐶🐶🐶🐶🐶🐶🐶🐶🐶🐶🐶🐶🐶🐶🐶🐶\n"
     ]
    }
   ],
   "source": [
    "print(\"🐱\"*100)\n",
    "print(\"🐶\"*100)"
   ]
  },
  {
   "cell_type": "markdown",
   "metadata": {
    "collapsed": true
   },
   "source": [
    "## 3. Optional Research Scenario: Training an ideological classifier (Advanced Topic)"
   ]
  },
  {
   "cell_type": "markdown",
   "metadata": {},
   "source": [
    "The part below is optional. It gives code to train an ideology classifier."
   ]
  },
  {
   "cell_type": "code",
   "execution_count": 2,
   "metadata": {},
   "outputs": [],
   "source": [
    "%matplotlib inline\n",
    "import pandas as pd\n",
    "import numpy as np\n",
    "from sklearn.feature_extraction.text import CountVectorizer,TfidfVectorizer\n",
    "from sklearn.naive_bayes import BernoulliNB\n",
    "from sklearn.svm import LinearSVC\n",
    "from sklearn.metrics import f1_score,accuracy_score  "
   ]
  },
  {
   "cell_type": "markdown",
   "metadata": {},
   "source": [
    "Download the \"cldata.csv\" on Canvas. This contains rows with texts and labels.\"0\" means that the post was retrieved from the New York Times, \"1\" that comments was writen on the Fox News page."
   ]
  },
  {
   "cell_type": "code",
   "execution_count": 3,
   "metadata": {},
   "outputs": [
    {
     "data": {
      "text/html": [
       "<div>\n",
       "<style scoped>\n",
       "    .dataframe tbody tr th:only-of-type {\n",
       "        vertical-align: middle;\n",
       "    }\n",
       "\n",
       "    .dataframe tbody tr th {\n",
       "        vertical-align: top;\n",
       "    }\n",
       "\n",
       "    .dataframe thead th {\n",
       "        text-align: right;\n",
       "    }\n",
       "</style>\n",
       "<table border=\"1\" class=\"dataframe\">\n",
       "  <thead>\n",
       "    <tr style=\"text-align: right;\">\n",
       "      <th></th>\n",
       "      <th>comment_message</th>\n",
       "      <th>label</th>\n",
       "    </tr>\n",
       "  </thead>\n",
       "  <tbody>\n",
       "    <tr>\n",
       "      <th>65701</th>\n",
       "      <td>They should remove their license they could ha...</td>\n",
       "      <td>1</td>\n",
       "    </tr>\n",
       "    <tr>\n",
       "      <th>34276</th>\n",
       "      <td>Gowdy for President. I'm sure he is Republican...</td>\n",
       "      <td>1</td>\n",
       "    </tr>\n",
       "    <tr>\n",
       "      <th>37792</th>\n",
       "      <td>I am 16 months older then my brother.   I can ...</td>\n",
       "      <td>1</td>\n",
       "    </tr>\n",
       "    <tr>\n",
       "      <th>13332</th>\n",
       "      <td>Whatever it is, it's creepy and they aren't ge...</td>\n",
       "      <td>1</td>\n",
       "    </tr>\n",
       "    <tr>\n",
       "      <th>16516</th>\n",
       "      <td>What's with her rigid hand movements when she ...</td>\n",
       "      <td>1</td>\n",
       "    </tr>\n",
       "  </tbody>\n",
       "</table>\n",
       "</div>"
      ],
      "text/plain": [
       "                                         comment_message  label\n",
       "65701  They should remove their license they could ha...      1\n",
       "34276  Gowdy for President. I'm sure he is Republican...      1\n",
       "37792  I am 16 months older then my brother.   I can ...      1\n",
       "13332  Whatever it is, it's creepy and they aren't ge...      1\n",
       "16516  What's with her rigid hand movements when she ...      1"
      ]
     },
     "execution_count": 3,
     "metadata": {},
     "output_type": "execute_result"
    }
   ],
   "source": [
    "all_data = pd.read_csv('cldata.csv',index_col=0)\n",
    "all_data.head()"
   ]
  },
  {
   "cell_type": "markdown",
   "metadata": {
    "collapsed": true
   },
   "source": [
    "To understand how the data was created, consult the appendix below."
   ]
  },
  {
   "cell_type": "markdown",
   "metadata": {},
   "source": [
    "We divide the data into a train and test set. We use 80% for training, 20% for testing."
   ]
  },
  {
   "cell_type": "code",
   "execution_count": 4,
   "metadata": {},
   "outputs": [
    {
     "data": {
      "text/plain": [
       "103288"
      ]
     },
     "execution_count": 4,
     "metadata": {},
     "output_type": "execute_result"
    }
   ],
   "source": [
    "cut_off = int(all_data.shape[0]*0.8)\n",
    "cut_off"
   ]
  },
  {
   "cell_type": "code",
   "execution_count": 5,
   "metadata": {},
   "outputs": [],
   "source": [
    "train,y_train = all_data['comment_message'][:cut_off],all_data['label'][:cut_off]"
   ]
  },
  {
   "cell_type": "code",
   "execution_count": 6,
   "metadata": {},
   "outputs": [],
   "source": [
    "test,y_test = all_data['comment_message'][cut_off:],all_data['label'][cut_off:]"
   ]
  },
  {
   "cell_type": "markdown",
   "metadata": {},
   "source": [
    "Subsequently we use the CountVectorizer to create a [document-term matrix](https://en.wikipedia.org/wiki/Document-term_matrix). To understand the arguments, consult the [CountVectorizer documentation](https://scikit-learn.org/stable/modules/generated/sklearn.feature_extraction.text.CountVectorizer.html)."
   ]
  },
  {
   "cell_type": "code",
   "execution_count": 7,
   "metadata": {},
   "outputs": [],
   "source": [
    "vectorizer = CountVectorizer (ngram_range=(1,3),max_df=0.9,min_df=20)"
   ]
  },
  {
   "cell_type": "code",
   "execution_count": 8,
   "metadata": {},
   "outputs": [],
   "source": [
    "X_train = vectorizer.fit_transform(train)"
   ]
  },
  {
   "cell_type": "code",
   "execution_count": 9,
   "metadata": {},
   "outputs": [],
   "source": [
    "X_test = vectorizer.transform(test)"
   ]
  },
  {
   "cell_type": "markdown",
   "metadata": {},
   "source": [
    "The code below initializes a classifier model and fits the parameters."
   ]
  },
  {
   "cell_type": "code",
   "execution_count": 10,
   "metadata": {},
   "outputs": [
    {
     "name": "stderr",
     "output_type": "stream",
     "text": [
      "/Users/ivanfeng/anaconda3/lib/python3.7/site-packages/sklearn/svm/base.py:922: ConvergenceWarning: Liblinear failed to converge, increase the number of iterations.\n",
      "  \"the number of iterations.\", ConvergenceWarning)\n"
     ]
    },
    {
     "data": {
      "text/plain": [
       "LinearSVC(C=10, class_weight='balanced', dual=True, fit_intercept=True,\n",
       "     intercept_scaling=1, loss='squared_hinge', max_iter=1000,\n",
       "     multi_class='ovr', penalty='l2', random_state=None, tol=0.0001,\n",
       "     verbose=0)"
      ]
     },
     "execution_count": 10,
     "metadata": {},
     "output_type": "execute_result"
    }
   ],
   "source": [
    "classifier = LinearSVC(C=10,class_weight='balanced')\n",
    "classifier.fit(X_train,y_train)"
   ]
  },
  {
   "cell_type": "markdown",
   "metadata": {},
   "source": [
    "After training the model, we calculate labels for the data we separated for testing purposes."
   ]
  },
  {
   "cell_type": "code",
   "execution_count": 11,
   "metadata": {},
   "outputs": [],
   "source": [
    "predictions = classifier.predict(X_test)"
   ]
  },
  {
   "cell_type": "markdown",
   "metadata": {},
   "source": [
    "And compute how accurarte the classifier performed on these test examples."
   ]
  },
  {
   "cell_type": "code",
   "execution_count": 12,
   "metadata": {},
   "outputs": [
    {
     "name": "stdout",
     "output_type": "stream",
     "text": [
      "0.7082720161102936\n"
     ]
    }
   ],
   "source": [
    "score = accuracy_score(predictions,y_test)\n",
    "print(score)"
   ]
  },
  {
   "cell_type": "markdown",
   "metadata": {
    "collapsed": true
   },
   "source": [
    "#### \\*\\*\\* Building an Emotion Classifier (Optional)"
   ]
  },
  {
   "cell_type": "code",
   "execution_count": null,
   "metadata": {
    "collapsed": true
   },
   "outputs": [],
   "source": []
  },
  {
   "cell_type": "markdown",
   "metadata": {},
   "source": [
    "### Appendix\n",
    "\n",
    "Code to create classifier data from Netvizz data"
   ]
  },
  {
   "cell_type": "code",
   "execution_count": 2,
   "metadata": {},
   "outputs": [
    {
     "ename": "FileNotFoundError",
     "evalue": "File b'../classifierdata/nyt_comments.tab' does not exist",
     "output_type": "error",
     "traceback": [
      "\u001b[0;31m---------------------------------------------------------------------------\u001b[0m",
      "\u001b[0;31mFileNotFoundError\u001b[0m                         Traceback (most recent call last)",
      "\u001b[0;32m<ipython-input-2-b85a8a049e26>\u001b[0m in \u001b[0;36m<module>\u001b[0;34m\u001b[0m\n\u001b[1;32m      7\u001b[0m     \u001b[0;32mreturn\u001b[0m \u001b[0mlen\u001b[0m\u001b[0;34m(\u001b[0m\u001b[0mtokens\u001b[0m\u001b[0;34m)\u001b[0m\u001b[0;34m\u001b[0m\u001b[0;34m\u001b[0m\u001b[0m\n\u001b[1;32m      8\u001b[0m \u001b[0;34m\u001b[0m\u001b[0m\n\u001b[0;32m----> 9\u001b[0;31m \u001b[0mnyt\u001b[0m \u001b[0;34m=\u001b[0m \u001b[0mpd\u001b[0m\u001b[0;34m.\u001b[0m\u001b[0mread_csv\u001b[0m\u001b[0;34m(\u001b[0m\u001b[0;34m'../classifierdata/nyt_comments.tab'\u001b[0m\u001b[0;34m,\u001b[0m\u001b[0msep\u001b[0m\u001b[0;34m=\u001b[0m\u001b[0;34m'\\t'\u001b[0m\u001b[0;34m)\u001b[0m\u001b[0;34m\u001b[0m\u001b[0;34m\u001b[0m\u001b[0m\n\u001b[0m\u001b[1;32m     10\u001b[0m \u001b[0mfn\u001b[0m \u001b[0;34m=\u001b[0m \u001b[0mpd\u001b[0m\u001b[0;34m.\u001b[0m\u001b[0mread_csv\u001b[0m\u001b[0;34m(\u001b[0m\u001b[0;34m'../classifierdata/fn_comments.tab'\u001b[0m\u001b[0;34m,\u001b[0m\u001b[0msep\u001b[0m\u001b[0;34m=\u001b[0m\u001b[0;34m'\\t'\u001b[0m\u001b[0;34m)\u001b[0m\u001b[0;34m\u001b[0m\u001b[0;34m\u001b[0m\u001b[0m\n\u001b[1;32m     11\u001b[0m \u001b[0mnyt\u001b[0m\u001b[0;34m[\u001b[0m\u001b[0;34m'comment_message_length'\u001b[0m\u001b[0;34m]\u001b[0m \u001b[0;34m=\u001b[0m \u001b[0mnyt\u001b[0m\u001b[0;34m[\u001b[0m\u001b[0;34m'comment_message'\u001b[0m\u001b[0;34m]\u001b[0m\u001b[0;34m.\u001b[0m\u001b[0mapply\u001b[0m\u001b[0;34m(\u001b[0m\u001b[0mcount_tokens\u001b[0m\u001b[0;34m)\u001b[0m\u001b[0;34m\u001b[0m\u001b[0;34m\u001b[0m\u001b[0m\n",
      "\u001b[0;32m~/anaconda3/lib/python3.7/site-packages/pandas/io/parsers.py\u001b[0m in \u001b[0;36mparser_f\u001b[0;34m(filepath_or_buffer, sep, delimiter, header, names, index_col, usecols, squeeze, prefix, mangle_dupe_cols, dtype, engine, converters, true_values, false_values, skipinitialspace, skiprows, nrows, na_values, keep_default_na, na_filter, verbose, skip_blank_lines, parse_dates, infer_datetime_format, keep_date_col, date_parser, dayfirst, iterator, chunksize, compression, thousands, decimal, lineterminator, quotechar, quoting, escapechar, comment, encoding, dialect, tupleize_cols, error_bad_lines, warn_bad_lines, skipfooter, doublequote, delim_whitespace, low_memory, memory_map, float_precision)\u001b[0m\n\u001b[1;32m    676\u001b[0m                     skip_blank_lines=skip_blank_lines)\n\u001b[1;32m    677\u001b[0m \u001b[0;34m\u001b[0m\u001b[0m\n\u001b[0;32m--> 678\u001b[0;31m         \u001b[0;32mreturn\u001b[0m \u001b[0m_read\u001b[0m\u001b[0;34m(\u001b[0m\u001b[0mfilepath_or_buffer\u001b[0m\u001b[0;34m,\u001b[0m \u001b[0mkwds\u001b[0m\u001b[0;34m)\u001b[0m\u001b[0;34m\u001b[0m\u001b[0;34m\u001b[0m\u001b[0m\n\u001b[0m\u001b[1;32m    679\u001b[0m \u001b[0;34m\u001b[0m\u001b[0m\n\u001b[1;32m    680\u001b[0m     \u001b[0mparser_f\u001b[0m\u001b[0;34m.\u001b[0m\u001b[0m__name__\u001b[0m \u001b[0;34m=\u001b[0m \u001b[0mname\u001b[0m\u001b[0;34m\u001b[0m\u001b[0;34m\u001b[0m\u001b[0m\n",
      "\u001b[0;32m~/anaconda3/lib/python3.7/site-packages/pandas/io/parsers.py\u001b[0m in \u001b[0;36m_read\u001b[0;34m(filepath_or_buffer, kwds)\u001b[0m\n\u001b[1;32m    438\u001b[0m \u001b[0;34m\u001b[0m\u001b[0m\n\u001b[1;32m    439\u001b[0m     \u001b[0;31m# Create the parser.\u001b[0m\u001b[0;34m\u001b[0m\u001b[0;34m\u001b[0m\u001b[0;34m\u001b[0m\u001b[0m\n\u001b[0;32m--> 440\u001b[0;31m     \u001b[0mparser\u001b[0m \u001b[0;34m=\u001b[0m \u001b[0mTextFileReader\u001b[0m\u001b[0;34m(\u001b[0m\u001b[0mfilepath_or_buffer\u001b[0m\u001b[0;34m,\u001b[0m \u001b[0;34m**\u001b[0m\u001b[0mkwds\u001b[0m\u001b[0;34m)\u001b[0m\u001b[0;34m\u001b[0m\u001b[0;34m\u001b[0m\u001b[0m\n\u001b[0m\u001b[1;32m    441\u001b[0m \u001b[0;34m\u001b[0m\u001b[0m\n\u001b[1;32m    442\u001b[0m     \u001b[0;32mif\u001b[0m \u001b[0mchunksize\u001b[0m \u001b[0;32mor\u001b[0m \u001b[0miterator\u001b[0m\u001b[0;34m:\u001b[0m\u001b[0;34m\u001b[0m\u001b[0;34m\u001b[0m\u001b[0m\n",
      "\u001b[0;32m~/anaconda3/lib/python3.7/site-packages/pandas/io/parsers.py\u001b[0m in \u001b[0;36m__init__\u001b[0;34m(self, f, engine, **kwds)\u001b[0m\n\u001b[1;32m    785\u001b[0m             \u001b[0mself\u001b[0m\u001b[0;34m.\u001b[0m\u001b[0moptions\u001b[0m\u001b[0;34m[\u001b[0m\u001b[0;34m'has_index_names'\u001b[0m\u001b[0;34m]\u001b[0m \u001b[0;34m=\u001b[0m \u001b[0mkwds\u001b[0m\u001b[0;34m[\u001b[0m\u001b[0;34m'has_index_names'\u001b[0m\u001b[0;34m]\u001b[0m\u001b[0;34m\u001b[0m\u001b[0;34m\u001b[0m\u001b[0m\n\u001b[1;32m    786\u001b[0m \u001b[0;34m\u001b[0m\u001b[0m\n\u001b[0;32m--> 787\u001b[0;31m         \u001b[0mself\u001b[0m\u001b[0;34m.\u001b[0m\u001b[0m_make_engine\u001b[0m\u001b[0;34m(\u001b[0m\u001b[0mself\u001b[0m\u001b[0;34m.\u001b[0m\u001b[0mengine\u001b[0m\u001b[0;34m)\u001b[0m\u001b[0;34m\u001b[0m\u001b[0;34m\u001b[0m\u001b[0m\n\u001b[0m\u001b[1;32m    788\u001b[0m \u001b[0;34m\u001b[0m\u001b[0m\n\u001b[1;32m    789\u001b[0m     \u001b[0;32mdef\u001b[0m \u001b[0mclose\u001b[0m\u001b[0;34m(\u001b[0m\u001b[0mself\u001b[0m\u001b[0;34m)\u001b[0m\u001b[0;34m:\u001b[0m\u001b[0;34m\u001b[0m\u001b[0;34m\u001b[0m\u001b[0m\n",
      "\u001b[0;32m~/anaconda3/lib/python3.7/site-packages/pandas/io/parsers.py\u001b[0m in \u001b[0;36m_make_engine\u001b[0;34m(self, engine)\u001b[0m\n\u001b[1;32m   1012\u001b[0m     \u001b[0;32mdef\u001b[0m \u001b[0m_make_engine\u001b[0m\u001b[0;34m(\u001b[0m\u001b[0mself\u001b[0m\u001b[0;34m,\u001b[0m \u001b[0mengine\u001b[0m\u001b[0;34m=\u001b[0m\u001b[0;34m'c'\u001b[0m\u001b[0;34m)\u001b[0m\u001b[0;34m:\u001b[0m\u001b[0;34m\u001b[0m\u001b[0;34m\u001b[0m\u001b[0m\n\u001b[1;32m   1013\u001b[0m         \u001b[0;32mif\u001b[0m \u001b[0mengine\u001b[0m \u001b[0;34m==\u001b[0m \u001b[0;34m'c'\u001b[0m\u001b[0;34m:\u001b[0m\u001b[0;34m\u001b[0m\u001b[0;34m\u001b[0m\u001b[0m\n\u001b[0;32m-> 1014\u001b[0;31m             \u001b[0mself\u001b[0m\u001b[0;34m.\u001b[0m\u001b[0m_engine\u001b[0m \u001b[0;34m=\u001b[0m \u001b[0mCParserWrapper\u001b[0m\u001b[0;34m(\u001b[0m\u001b[0mself\u001b[0m\u001b[0;34m.\u001b[0m\u001b[0mf\u001b[0m\u001b[0;34m,\u001b[0m \u001b[0;34m**\u001b[0m\u001b[0mself\u001b[0m\u001b[0;34m.\u001b[0m\u001b[0moptions\u001b[0m\u001b[0;34m)\u001b[0m\u001b[0;34m\u001b[0m\u001b[0;34m\u001b[0m\u001b[0m\n\u001b[0m\u001b[1;32m   1015\u001b[0m         \u001b[0;32melse\u001b[0m\u001b[0;34m:\u001b[0m\u001b[0;34m\u001b[0m\u001b[0;34m\u001b[0m\u001b[0m\n\u001b[1;32m   1016\u001b[0m             \u001b[0;32mif\u001b[0m \u001b[0mengine\u001b[0m \u001b[0;34m==\u001b[0m \u001b[0;34m'python'\u001b[0m\u001b[0;34m:\u001b[0m\u001b[0;34m\u001b[0m\u001b[0;34m\u001b[0m\u001b[0m\n",
      "\u001b[0;32m~/anaconda3/lib/python3.7/site-packages/pandas/io/parsers.py\u001b[0m in \u001b[0;36m__init__\u001b[0;34m(self, src, **kwds)\u001b[0m\n\u001b[1;32m   1706\u001b[0m         \u001b[0mkwds\u001b[0m\u001b[0;34m[\u001b[0m\u001b[0;34m'usecols'\u001b[0m\u001b[0;34m]\u001b[0m \u001b[0;34m=\u001b[0m \u001b[0mself\u001b[0m\u001b[0;34m.\u001b[0m\u001b[0musecols\u001b[0m\u001b[0;34m\u001b[0m\u001b[0;34m\u001b[0m\u001b[0m\n\u001b[1;32m   1707\u001b[0m \u001b[0;34m\u001b[0m\u001b[0m\n\u001b[0;32m-> 1708\u001b[0;31m         \u001b[0mself\u001b[0m\u001b[0;34m.\u001b[0m\u001b[0m_reader\u001b[0m \u001b[0;34m=\u001b[0m \u001b[0mparsers\u001b[0m\u001b[0;34m.\u001b[0m\u001b[0mTextReader\u001b[0m\u001b[0;34m(\u001b[0m\u001b[0msrc\u001b[0m\u001b[0;34m,\u001b[0m \u001b[0;34m**\u001b[0m\u001b[0mkwds\u001b[0m\u001b[0;34m)\u001b[0m\u001b[0;34m\u001b[0m\u001b[0;34m\u001b[0m\u001b[0m\n\u001b[0m\u001b[1;32m   1709\u001b[0m \u001b[0;34m\u001b[0m\u001b[0m\n\u001b[1;32m   1710\u001b[0m         \u001b[0mpassed_names\u001b[0m \u001b[0;34m=\u001b[0m \u001b[0mself\u001b[0m\u001b[0;34m.\u001b[0m\u001b[0mnames\u001b[0m \u001b[0;32mis\u001b[0m \u001b[0;32mNone\u001b[0m\u001b[0;34m\u001b[0m\u001b[0;34m\u001b[0m\u001b[0m\n",
      "\u001b[0;32mpandas/_libs/parsers.pyx\u001b[0m in \u001b[0;36mpandas._libs.parsers.TextReader.__cinit__\u001b[0;34m()\u001b[0m\n",
      "\u001b[0;32mpandas/_libs/parsers.pyx\u001b[0m in \u001b[0;36mpandas._libs.parsers.TextReader._setup_parser_source\u001b[0;34m()\u001b[0m\n",
      "\u001b[0;31mFileNotFoundError\u001b[0m: File b'../classifierdata/nyt_comments.tab' does not exist"
     ]
    }
   ],
   "source": [
    "import pandas as pd\n",
    "import random\n",
    "from nltk.tokenize import wordpunct_tokenize\n",
    "\n",
    "def count_tokens(string):\n",
    "    tokens = wordpunct_tokenize(str(string))\n",
    "    return len(tokens)\n",
    "\n",
    "nyt = pd.read_csv('../classifierdata/nyt_comments.tab',sep='\\t')\n",
    "fn = pd.read_csv('../classifierdata/fn_comments.tab',sep='\\t')\n",
    "nyt['comment_message_length'] = nyt['comment_message'].apply(count_tokens)\n",
    "fn['comment_message_length'] = fn['comment_message'].apply(count_tokens)\n",
    "nyt_long = nyt[nyt['comment_message_length'] > 10]\n",
    "fn_long = fn[fn['comment_message_length'] > 10]\n",
    "fn_long_reduced = fn_long.iloc[:nyt_long.shape[0],:]\n",
    "all_data = pd.concat([nyt_long,fn_long_reduced])\n",
    "labels = np.asarray([0]*nyt_long.shape[0] + [1]*fn_long_reduced.shape[0])\n",
    "all_data.shape[0]==labels.shape[0]\n",
    "all_data['label'] = labels\n",
    "order = np.asarray(range(0,all_data.shape[0]))\n",
    "random.shuffle(order)\n",
    "all_data = all_data.iloc[order,:]\n",
    "cldata = all_data.loc[:,['comment_message','label']]\n",
    "cldata.to_csv('cldata.csv')"
   ]
  },
  {
   "cell_type": "code",
   "execution_count": null,
   "metadata": {},
   "outputs": [],
   "source": []
  }
 ],
 "metadata": {
  "kernelspec": {
   "display_name": "Python 3",
   "language": "python",
   "name": "python3"
  },
  "language_info": {
   "codemirror_mode": {
    "name": "ipython",
    "version": 3
   },
   "file_extension": ".py",
   "mimetype": "text/x-python",
   "name": "python",
   "nbconvert_exporter": "python",
   "pygments_lexer": "ipython3",
   "version": "3.7.3"
  }
 },
 "nbformat": 4,
 "nbformat_minor": 2
}
