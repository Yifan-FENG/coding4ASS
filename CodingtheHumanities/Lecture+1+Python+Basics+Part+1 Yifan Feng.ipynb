{
 "cells": [
  {
   "cell_type": "markdown",
   "metadata": {},
   "source": [
    "# -1. Disclaimer\n",
    "-- Many of the materials in this NoteBook are gently stolen from the following courses: \n",
    "- **[\"A Python Course for the Humanities\"](https://github.com/fbkarsdorp/python-course)** a course designed by Folgert Karsdorp and Maarten van Gompel\n",
    "- and later modified by Mike Kestemont and Lars Wieneke for the course **[\"Programming for Linguistics and Literature\"](https://github.com/mikekestemont/prog1617)**\n",
    "- **[\"Python for text analysis\"](https://github.com/cltl/python-for-text-analysis)** designed by H.D. van der Vliet and taught at the Vrije Universiteit\n",
    "- **[\"How to Think Like a Computer Scientist\"](http://www.greenteapress.com/thinkpython/thinkCSpy.pdf)** by Allen Downey, Jeffrey Elkner, Chris Meyers\n",
    "\n",
    "If things remain unclear, please go though the [NLTK Book](https://www.nltk.org/book/), Chapter 1 [\"Language Processing and Python\"]( https://www.nltk.org/book/ch01.html)"
   ]
  },
  {
   "cell_type": "markdown",
   "metadata": {},
   "source": [
    "# 0. Before we kick off: Installing Jupyter Notebook\n",
    "\n",
    "- Download Anaconda: https://www.anaconda.com/download\n",
    "        Select the Python 3.6 Version\n",
    "        Follow the installation instructions\n",
    "- Download the Notebook and data [here](https://github.com/kasparvonbeelen/Python-Slow-Learning)\n",
    "        Open Anaconda Navigator\n",
    "        Launch Jupyter Notebook\n",
    "        This should open a tab in your browser\n",
    "        Go to the location where you cloned/unzipped the material downloaded from Github"
   ]
  },
  {
   "cell_type": "markdown",
   "metadata": {},
   "source": [
    "# 1. Philosophy and Goals of the Course"
   ]
  },
  {
   "cell_type": "markdown",
   "metadata": {},
   "source": [
    "- You can only learn to code by **doing**. Therefore this course consists of a series of **workshops** that teach you to tackle data-related problems of increasing complexity.\n",
    "\n",
    "- The focus is on processing and manipulating **social media data**: Coding the Humanities approaches Media Studies from the perspective of **data science**.\n",
    "- You won't necessarily become a professional coder after this course--this requires more time and effort. You will, however, learn to apply coding techniques to **specific research scenarios** relevant for Media Studies. This course will lay the groundwork for those who are interested in becoming Digital Humanities specialists.\n",
    "\n",
    "- Coding is **not** difficult, but obtaining basic programming skills requires a **sustained effort**.\n",
    "- With only a few basic skills you can go a long way (writing scripts vs. developing tools).\n",
    "- The full course, with all the details, is available [here](https://github.com/kasparvonbeelen/CTH2019) (but still under construction).\n",
    "- It takes a while before you can do some more fancy stuff (you have to go through kindergarten again before you become a rocket scientist)."
   ]
  },
  {
   "cell_type": "markdown",
   "metadata": {},
   "source": [
    "#### Exercise\n",
    "\n",
    "Open this Notebook in Anaconda\n",
    "- Download the Materials from: https://github.com/kasparvonbeelen/CTH2019 or from Canvas\n",
    "- In case you retrieved the material via GitHub: Unzip the downloaded folder (you can unzip the materials anywhere, but remember the location)\n",
    "- Open the Anaconda Navigator, click on Launch Jupyter Notebook\n",
    "- This should open a Navigator window in your browser: go to the location where you unzipped (or saved the materials) open the file with the name \"Lecture 1 Python Basics Part 1\" and ends with \"ipynb\"."
   ]
  },
  {
   "cell_type": "markdown",
   "metadata": {},
   "source": [
    "#### Difference with the Lab sessions of Information and the Digital? \n",
    "- Today, in the first lesson, we look at some of the topics covered in the Lab sessions, but in the subsequent lectures, we take a different route.\n",
    "- This course is more focused on Social Media research; gives less attention to the fundamentals of coding in Python.\n",
    "- The lectures investigate language and behaviour on Social Media. We will mainly use [Pandas](https://pandas.pydata.org/), a Python Data Science library.\n",
    "- The course is mainly based on Jake van der Plas's [Python Data Science Handbook](https://jakevdp.github.io/PythonDataScienceHandbook/). The Notebook contain a simplified version of this book that ignores the technical aspects of the Python syntax. However, I suggest you go at least through Chapter 3: [Data Manipulation with Pandas](https://jakevdp.github.io/PythonDataScienceHandbook/03.00-introduction-to-pandas.html)."
   ]
  },
  {
   "cell_type": "markdown",
   "metadata": {},
   "source": [
    "### 1.1 The Data of Choice: YouTube and Facebook"
   ]
  },
  {
   "cell_type": "markdown",
   "metadata": {},
   "source": [
    "As said: this course focuses on working with Social Media data--especially on the content analysis of these data. Our data are sourced from [Social Media Platforms YouTube and Facebook](https://wiki.digitalmethods.net/). We rely on [tools](https://wiki.digitalmethods.net/Dmi/ToolDatabase) created by the Digital Method Initiative. More specifically:\n",
    "- [YouTube tools](https://tools.digitalmethods.net/netvizz/youtube/)\n",
    "- [Netvizz](https://apps.facebook.com/107036545989762/)\n",
    "\n",
    "Run the lines below (type ctrl + enter) to inspect an [example](https://raw.githubusercontent.com/kasparvonbeelen/CTH2019/master/data/videoinfo_-OLEyOYC6P4_2018_12_18-09_26_24_comments.tab) dataset retrieved from YouTube. Don't worry about the details now, the syntax will be made clear in the next lectures."
   ]
  },
  {
   "cell_type": "code",
   "execution_count": 3,
   "metadata": {},
   "outputs": [],
   "source": [
    "import pandas as pd"
   ]
  },
  {
   "cell_type": "code",
   "execution_count": 4,
   "metadata": {},
   "outputs": [
    {
     "data": {
      "text/html": [
       "<div>\n",
       "<style scoped>\n",
       "    .dataframe tbody tr th:only-of-type {\n",
       "        vertical-align: middle;\n",
       "    }\n",
       "\n",
       "    .dataframe tbody tr th {\n",
       "        vertical-align: top;\n",
       "    }\n",
       "\n",
       "    .dataframe thead th {\n",
       "        text-align: right;\n",
       "    }\n",
       "</style>\n",
       "<table border=\"1\" class=\"dataframe\">\n",
       "  <thead>\n",
       "    <tr style=\"text-align: right;\">\n",
       "      <th></th>\n",
       "      <th>id</th>\n",
       "      <th>replyCount</th>\n",
       "      <th>likeCount</th>\n",
       "      <th>publishedAt</th>\n",
       "      <th>authorName</th>\n",
       "      <th>text</th>\n",
       "      <th>authorChannelId</th>\n",
       "      <th>authorChannelUrl</th>\n",
       "      <th>isReply</th>\n",
       "      <th>isReplyTo</th>\n",
       "      <th>isReplyToName</th>\n",
       "    </tr>\n",
       "  </thead>\n",
       "  <tbody>\n",
       "    <tr>\n",
       "      <th>0</th>\n",
       "      <td>Ugyus_zVValJXstM7O54AaABAg</td>\n",
       "      <td>0.0</td>\n",
       "      <td>0</td>\n",
       "      <td>2018-12-15 00:50:49</td>\n",
       "      <td>Good Morning Sunshine</td>\n",
       "      <td>zwar schon millionenfach gesagt aber was das F...</td>\n",
       "      <td>UCZ7eIUG1K8YlPuYFSsz2gKg</td>\n",
       "      <td>http://www.youtube.com/channel/UCZ7eIUG1K8YlPu...</td>\n",
       "      <td>0</td>\n",
       "      <td>NaN</td>\n",
       "      <td>NaN</td>\n",
       "    </tr>\n",
       "    <tr>\n",
       "      <th>1</th>\n",
       "      <td>UgwDGL7eJtJZcbNmkpB4AaABAg</td>\n",
       "      <td>0.0</td>\n",
       "      <td>0</td>\n",
       "      <td>2018-12-15 00:30:52</td>\n",
       "      <td>Der Frosch</td>\n",
       "      <td>&lt;a href=\"https://www.youtube.com/watch?v=-OLEy...</td>\n",
       "      <td>UCqULQh3p1rcBeCoRTN4p8ng</td>\n",
       "      <td>http://www.youtube.com/channel/UCqULQh3p1rcBeC...</td>\n",
       "      <td>0</td>\n",
       "      <td>NaN</td>\n",
       "      <td>NaN</td>\n",
       "    </tr>\n",
       "    <tr>\n",
       "      <th>2</th>\n",
       "      <td>UgyBYuzokRtN8GH4ukh4AaABAg</td>\n",
       "      <td>0.0</td>\n",
       "      <td>0</td>\n",
       "      <td>2018-12-14 18:35:05</td>\n",
       "      <td>LOS CAMPADRES VARRIO 3 HAWTHORNE L.A</td>\n",
       "      <td>das war noch deutschland......echtes deutschla...</td>\n",
       "      <td>UC6SXCcMEMp5O84HcP4hdl5Q</td>\n",
       "      <td>http://www.youtube.com/channel/UC6SXCcMEMp5O84...</td>\n",
       "      <td>0</td>\n",
       "      <td>NaN</td>\n",
       "      <td>NaN</td>\n",
       "    </tr>\n",
       "    <tr>\n",
       "      <th>3</th>\n",
       "      <td>UgwW29yOMzrtt2kiJ0x4AaABAg</td>\n",
       "      <td>0.0</td>\n",
       "      <td>0</td>\n",
       "      <td>2018-12-07 13:29:29</td>\n",
       "      <td>Krillin 1993</td>\n",
       "      <td>Die Leute waren noch in den 80ern und 90ern vi...</td>\n",
       "      <td>UCdIxOAItNdKFAu9Prj5r7Sg</td>\n",
       "      <td>http://www.youtube.com/channel/UCdIxOAItNdKFAu...</td>\n",
       "      <td>0</td>\n",
       "      <td>NaN</td>\n",
       "      <td>NaN</td>\n",
       "    </tr>\n",
       "    <tr>\n",
       "      <th>4</th>\n",
       "      <td>UgzlW47YdDEmy9U1pSZ4AaABAg</td>\n",
       "      <td>0.0</td>\n",
       "      <td>0</td>\n",
       "      <td>2018-12-01 19:31:44</td>\n",
       "      <td>Logan Stroganoff</td>\n",
       "      <td>Love from a Florida kid that got introduced to...</td>\n",
       "      <td>UC9Ewr5Qf4fRqpQJZTISVYOg</td>\n",
       "      <td>http://www.youtube.com/channel/UC9Ewr5Qf4fRqpQ...</td>\n",
       "      <td>0</td>\n",
       "      <td>NaN</td>\n",
       "      <td>NaN</td>\n",
       "    </tr>\n",
       "    <tr>\n",
       "      <th>5</th>\n",
       "      <td>UgxYETfJj4xXohlsH454AaABAg</td>\n",
       "      <td>0.0</td>\n",
       "      <td>0</td>\n",
       "      <td>2018-11-30 18:40:32</td>\n",
       "      <td>lazarus wtf</td>\n",
       "      <td>techno ist eine kunst und avicii war ein sehr ...</td>\n",
       "      <td>UCyg3vy24eYE5UGTbrdp7akg</td>\n",
       "      <td>http://www.youtube.com/channel/UCyg3vy24eYE5UG...</td>\n",
       "      <td>0</td>\n",
       "      <td>NaN</td>\n",
       "      <td>NaN</td>\n",
       "    </tr>\n",
       "    <tr>\n",
       "      <th>6</th>\n",
       "      <td>UgyQF3mrx1XKp0UPYnh4AaABAg</td>\n",
       "      <td>0.0</td>\n",
       "      <td>0</td>\n",
       "      <td>2018-11-26 12:39:23</td>\n",
       "      <td>Lincoln Project DJ SBSW</td>\n",
       "      <td>was für eine goile Zeit! ;-)</td>\n",
       "      <td>UCgvfb9p-0E7V5RnGlV1xE8w</td>\n",
       "      <td>http://www.youtube.com/channel/UCgvfb9p-0E7V5R...</td>\n",
       "      <td>0</td>\n",
       "      <td>NaN</td>\n",
       "      <td>NaN</td>\n",
       "    </tr>\n",
       "    <tr>\n",
       "      <th>7</th>\n",
       "      <td>UgwvNro4_PIkr0ksc9x4AaABAg</td>\n",
       "      <td>0.0</td>\n",
       "      <td>0</td>\n",
       "      <td>2018-11-26 02:40:10</td>\n",
       "      <td>MAKAROW</td>\n",
       "      <td>Berghain</td>\n",
       "      <td>UCVDVBRCYPpntvI35WQ6CMww</td>\n",
       "      <td>http://www.youtube.com/channel/UCVDVBRCYPpntvI...</td>\n",
       "      <td>0</td>\n",
       "      <td>NaN</td>\n",
       "      <td>NaN</td>\n",
       "    </tr>\n",
       "    <tr>\n",
       "      <th>8</th>\n",
       "      <td>UgxJgaRNzcdrL8BXOzt4AaABAg</td>\n",
       "      <td>0.0</td>\n",
       "      <td>0</td>\n",
       "      <td>2018-11-23 19:33:07</td>\n",
       "      <td>nouse44</td>\n",
       "      <td>geiler pc hater :D</td>\n",
       "      <td>UCXxr5x_m7LVgwnp3_ezTYYQ</td>\n",
       "      <td>http://www.youtube.com/channel/UCXxr5x_m7LVgwn...</td>\n",
       "      <td>0</td>\n",
       "      <td>NaN</td>\n",
       "      <td>NaN</td>\n",
       "    </tr>\n",
       "    <tr>\n",
       "      <th>9</th>\n",
       "      <td>Ugxmk0vG2HOrY89xDwp4AaABAg</td>\n",
       "      <td>0.0</td>\n",
       "      <td>0</td>\n",
       "      <td>2018-11-23 13:20:44</td>\n",
       "      <td>Made in West-Germany</td>\n",
       "      <td>10 werbeunterbechungen - nein danke. Ich schau...</td>\n",
       "      <td>UCcMPlZNIPyi9iWxd1QwwRbg</td>\n",
       "      <td>http://www.youtube.com/channel/UCcMPlZNIPyi9iW...</td>\n",
       "      <td>0</td>\n",
       "      <td>NaN</td>\n",
       "      <td>NaN</td>\n",
       "    </tr>\n",
       "  </tbody>\n",
       "</table>\n",
       "</div>"
      ],
      "text/plain": [
       "                           id  replyCount  likeCount          publishedAt  \\\n",
       "0  Ugyus_zVValJXstM7O54AaABAg         0.0          0  2018-12-15 00:50:49   \n",
       "1  UgwDGL7eJtJZcbNmkpB4AaABAg         0.0          0  2018-12-15 00:30:52   \n",
       "2  UgyBYuzokRtN8GH4ukh4AaABAg         0.0          0  2018-12-14 18:35:05   \n",
       "3  UgwW29yOMzrtt2kiJ0x4AaABAg         0.0          0  2018-12-07 13:29:29   \n",
       "4  UgzlW47YdDEmy9U1pSZ4AaABAg         0.0          0  2018-12-01 19:31:44   \n",
       "5  UgxYETfJj4xXohlsH454AaABAg         0.0          0  2018-11-30 18:40:32   \n",
       "6  UgyQF3mrx1XKp0UPYnh4AaABAg         0.0          0  2018-11-26 12:39:23   \n",
       "7  UgwvNro4_PIkr0ksc9x4AaABAg         0.0          0  2018-11-26 02:40:10   \n",
       "8  UgxJgaRNzcdrL8BXOzt4AaABAg         0.0          0  2018-11-23 19:33:07   \n",
       "9  Ugxmk0vG2HOrY89xDwp4AaABAg         0.0          0  2018-11-23 13:20:44   \n",
       "\n",
       "                             authorName  \\\n",
       "0                 Good Morning Sunshine   \n",
       "1                            Der Frosch   \n",
       "2  LOS CAMPADRES VARRIO 3 HAWTHORNE L.A   \n",
       "3                          Krillin 1993   \n",
       "4                      Logan Stroganoff   \n",
       "5                           lazarus wtf   \n",
       "6               Lincoln Project DJ SBSW   \n",
       "7                               MAKAROW   \n",
       "8                               nouse44   \n",
       "9                  Made in West-Germany   \n",
       "\n",
       "                                                text  \\\n",
       "0  zwar schon millionenfach gesagt aber was das F...   \n",
       "1  <a href=\"https://www.youtube.com/watch?v=-OLEy...   \n",
       "2  das war noch deutschland......echtes deutschla...   \n",
       "3  Die Leute waren noch in den 80ern und 90ern vi...   \n",
       "4  Love from a Florida kid that got introduced to...   \n",
       "5  techno ist eine kunst und avicii war ein sehr ...   \n",
       "6                       was für eine goile Zeit! ;-)   \n",
       "7                                           Berghain   \n",
       "8                                 geiler pc hater :D   \n",
       "9  10 werbeunterbechungen - nein danke. Ich schau...   \n",
       "\n",
       "            authorChannelId  \\\n",
       "0  UCZ7eIUG1K8YlPuYFSsz2gKg   \n",
       "1  UCqULQh3p1rcBeCoRTN4p8ng   \n",
       "2  UC6SXCcMEMp5O84HcP4hdl5Q   \n",
       "3  UCdIxOAItNdKFAu9Prj5r7Sg   \n",
       "4  UC9Ewr5Qf4fRqpQJZTISVYOg   \n",
       "5  UCyg3vy24eYE5UGTbrdp7akg   \n",
       "6  UCgvfb9p-0E7V5RnGlV1xE8w   \n",
       "7  UCVDVBRCYPpntvI35WQ6CMww   \n",
       "8  UCXxr5x_m7LVgwnp3_ezTYYQ   \n",
       "9  UCcMPlZNIPyi9iWxd1QwwRbg   \n",
       "\n",
       "                                    authorChannelUrl  isReply isReplyTo  \\\n",
       "0  http://www.youtube.com/channel/UCZ7eIUG1K8YlPu...        0       NaN   \n",
       "1  http://www.youtube.com/channel/UCqULQh3p1rcBeC...        0       NaN   \n",
       "2  http://www.youtube.com/channel/UC6SXCcMEMp5O84...        0       NaN   \n",
       "3  http://www.youtube.com/channel/UCdIxOAItNdKFAu...        0       NaN   \n",
       "4  http://www.youtube.com/channel/UC9Ewr5Qf4fRqpQ...        0       NaN   \n",
       "5  http://www.youtube.com/channel/UCyg3vy24eYE5UG...        0       NaN   \n",
       "6  http://www.youtube.com/channel/UCgvfb9p-0E7V5R...        0       NaN   \n",
       "7  http://www.youtube.com/channel/UCVDVBRCYPpntvI...        0       NaN   \n",
       "8  http://www.youtube.com/channel/UCXxr5x_m7LVgwn...        0       NaN   \n",
       "9  http://www.youtube.com/channel/UCcMPlZNIPyi9iW...        0       NaN   \n",
       "\n",
       "  isReplyToName  \n",
       "0           NaN  \n",
       "1           NaN  \n",
       "2           NaN  \n",
       "3           NaN  \n",
       "4           NaN  \n",
       "5           NaN  \n",
       "6           NaN  \n",
       "7           NaN  \n",
       "8           NaN  \n",
       "9           NaN  "
      ]
     },
     "execution_count": 4,
     "metadata": {},
     "output_type": "execute_result"
    }
   ],
   "source": [
    "df = pd.read_csv('https://raw.githubusercontent.com/kasparvonbeelen/CTH2019/master/data/videoinfo_-OLEyOYC6P4_2018_12_18-09_26_24_comments.tab',sep='\\t')\n",
    "df.head(10)"
   ]
  },
  {
   "cell_type": "code",
   "execution_count": null,
   "metadata": {},
   "outputs": [],
   "source": [
    "#### --Question--\n",
    "\n",
    "What information do the columns contains?"
   ]
  },
  {
   "cell_type": "raw",
   "metadata": {},
   "source": [
    "# Type you answer here"
   ]
  },
  {
   "cell_type": "markdown",
   "metadata": {},
   "source": [
    "### 1.2 The Language of Choice: Python\n",
    "\n",
    "#### **What** is Python?\n",
    "\n",
    "[From Wikipedia](https://en.wikipedia.org/wiki/Python_(programming_language): Python is a widely used **high-level** programming language for **general-purpose** programming.\n",
    "- ** high-level programming language**: In computer science, a high-level programming language is a programming language with **strong abstraction from the details of the computer**. In comparison to low-level programming languages, it may use **natural language elements**, be easier to use, or may **automate** (or even **hide** entirely) significant areas of computing systems (e.g. memory management), making the process of developing a program simpler and more understandable relative to a lower-level language. The amount of **abstraction** provided defines how \"high-level\" a programming language is.\n",
    "\n",
    "\n",
    "#### **Why** Python?\n",
    "\n",
    "In general, Python is **easier to learn and to read**. Let's look at a very simple example. "
   ]
  },
  {
   "cell_type": "code",
   "execution_count": null,
   "metadata": {
    "collapsed": true
   },
   "outputs": [],
   "source": [
    "print('Hello, World.')"
   ]
  },
  {
   "cell_type": "markdown",
   "metadata": {},
   "source": [
    "Compare this to the C++ version of  \"Hello, World.\" which looks like this:\n",
    "\n",
    "C++ code below:\n",
    "``\n",
    "#include <iostream.h>\n",
    "\n",
    "void main()\n",
    "\n",
    "{\n",
    "    \n",
    "    cout << \"Hello, world.\" << endl;\n",
    "\n",
    "}\n",
    "\n",
    "``\n",
    "\n",
    "End of C++ code.\n",
    "\n",
    "\n",
    "So, in general, the reasons why I teach **Python** are:\n",
    "\n",
    "- Software **Quality**: Python code is designed to be **readable**, and hence reusable and maintainable. \n",
    "- Developer **Productivity**: Python code is typically one-third to one-fifth the size of C++ or Java code. \n",
    "- **Portability**: Python code runs unchanged on all major computer platforms (Windows, Linux, MacOS). \n",
    "- **General-purpose**: data analysis, web development etc.\n",
    "- **Support Libraries**: Standard, homegrown and third-party libraries.\n",
    "- **Widely used by the academic and scientific community!**"
   ]
  },
  {
   "cell_type": "markdown",
   "metadata": {},
   "source": [
    "# 2. Goal of Today's Lecture"
   ]
  },
  {
   "cell_type": "markdown",
   "metadata": {},
   "source": [
    "Today we cover a few basic **Python data types and objects**\n",
    "- Variable Assignment\n",
    "- String formatting and working with text\n",
    "- Indexing and slicing\n",
    "\n",
    "This course is an **overview** of the Python language. You don't have to learn everything by heart, but treat the information in the Notebook as a **reference** for your later projects. I suggest going through this Notebook multiple times, it will lay a solid foundation for what is to come. "
   ]
  },
  {
   "cell_type": "markdown",
   "metadata": {},
   "source": [
    "## 2.1 What's next?"
   ]
  },
  {
   "cell_type": "markdown",
   "metadata": {},
   "source": [
    "- 09/01: Working with structured data: Exploring Pandas DataFrames;\n",
    "- 14/01: Combining datasets, aggregation and comparison of information;\n",
    "- 16/01: Semi-structured information: Content Analysis with Pandas and AntConc;\n",
    "- 21/01: TBD (Classification and Topic Modelling);\n",
    "- 23/01: No classes (time to work in the final assignment);\n",
    "- 28/01: Walk-in Clinic (personal feedback help for projects);\n",
    "- 31/01: Final Assignment Due"
   ]
  },
  {
   "cell_type": "markdown",
   "metadata": {},
   "source": [
    "## Intermezzo Using the Notebook Environment"
   ]
  },
  {
   "cell_type": "markdown",
   "metadata": {},
   "source": [
    "# 3. Baby Python\n",
    "\n",
    "For practising your coding skills, you can use the many **'code blocks'** in this Notebook, such as the grey cell below. Place your cursor inside the cell and press ``ctrl+enter`` to \"run\" or execute the code. Let's begin right away: run your first little program!"
   ]
  },
  {
   "cell_type": "code",
   "execution_count": 5,
   "metadata": {},
   "outputs": [
    {
     "name": "stdout",
     "output_type": "stream",
     "text": [
      "Hello, World!\n"
     ]
    }
   ],
   "source": [
    "print('Hello, World!')"
   ]
  },
  {
   "cell_type": "markdown",
   "metadata": {},
   "source": [
    "You've just executed your first program!\n",
    "\n",
    "#### --Exercise--\n",
    "- Can you describe what the programme just did?\n",
    "- Can you adapt it to print your name (with a greeting, i.e. \"Hello, ...\")?\n",
    "\n",
    "Use the code block **below**."
   ]
  },
  {
   "cell_type": "code",
   "execution_count": 21,
   "metadata": {},
   "outputs": [
    {
     "name": "stdout",
     "output_type": "stream",
     "text": [
      "Hello, Yifan\n"
     ]
    }
   ],
   "source": [
    "# Insert your own code here!\n",
    "# Print your own name ... or whatever you want, and press ctrl + enter\n",
    "print ('Hello, Yifan')"
   ]
  },
  {
   "cell_type": "markdown",
   "metadata": {},
   "source": [
    "Besides printing words to your screen, you can use Python as a **calculator**. "
   ]
  },
  {
   "cell_type": "code",
   "execution_count": 6,
   "metadata": {},
   "outputs": [
    {
     "name": "stdout",
     "output_type": "stream",
     "text": [
      "10\n",
      "14\n",
      "24\n"
     ]
    }
   ],
   "source": [
    "print(10)\n",
    "print(5+9)\n",
    "print(3*8)"
   ]
  },
  {
   "cell_type": "code",
   "execution_count": null,
   "metadata": {},
   "outputs": [],
   "source": []
  },
  {
   "cell_type": "markdown",
   "metadata": {},
   "source": [
    "> Please note that a string is always enclosed in **quotation** marks (which be single *`'`* or double *`\"`*), while a number (integer or float) is not."
   ]
  },
  {
   "cell_type": "markdown",
   "metadata": {},
   "source": [
    "#### --Exercise--\n",
    "\n",
    "- print the number 5 as a string (i.e. with quotation marks)\n",
    "- print the number 5 as an integer (i.e. without quotation marks)\n"
   ]
  },
  {
   "cell_type": "code",
   "execution_count": 20,
   "metadata": {},
   "outputs": [
    {
     "name": "stdout",
     "output_type": "stream",
     "text": [
      "\"5\"\n",
      "5\n"
     ]
    }
   ],
   "source": [
    "# Insert code here\n",
    "print ('\"5\"')\n",
    "print (5)"
   ]
  },
  {
   "cell_type": "markdown",
   "metadata": {},
   "source": [
    "#### --Exercise--\n",
    "Use the code block below to calculate (and print) how many minutes there are in one week?\n",
    "\n",
    "**HINT**: use the multiplication operator **`*`** (i.e `5*4*4`)"
   ]
  },
  {
   "cell_type": "code",
   "execution_count": 7,
   "metadata": {},
   "outputs": [
    {
     "name": "stdout",
     "output_type": "stream",
     "text": [
      "80\n"
     ]
    }
   ],
   "source": [
    "# Insert code here\n",
    "print (5*4*4)"
   ]
  },
  {
   "cell_type": "markdown",
   "metadata": {
    "collapsed": true
   },
   "source": [
    "How many minutes have passed since your birth? (Approximately of course, just use your age (for example: how many  minutes are there in 21 years))"
   ]
  },
  {
   "cell_type": "code",
   "execution_count": 8,
   "metadata": {},
   "outputs": [
    {
     "name": "stdout",
     "output_type": "stream",
     "text": [
      "30240\n"
     ]
    }
   ],
   "source": [
    "# Insert code here\n",
    "print (60*24*21)"
   ]
  },
  {
   "cell_type": "markdown",
   "metadata": {},
   "source": [
    "# 4. Variables: Presents for Everyone"
   ]
  },
  {
   "cell_type": "markdown",
   "metadata": {},
   "source": [
    "One of the most powerful features of a programming language is the ability to **store and manipulate variables**. A variable is a **name** that refers to a value. The **assignment statement** creates new variables and relates them to concrete values. Instead of passing these elements as an argument to the `print()` function, we can **store** them, by creating a variable that refers to the \"Hello, World!\" string."
   ]
  },
  {
   "cell_type": "code",
   "execution_count": 9,
   "metadata": {},
   "outputs": [
    {
     "name": "stdout",
     "output_type": "stream",
     "text": [
      "Hello World.\n"
     ]
    }
   ],
   "source": [
    "# declare a variable\n",
    "x = 'Hello World.'\n",
    "# print what is in the box\n",
    "print(x)"
   ]
  },
  {
   "cell_type": "code",
   "execution_count": 10,
   "metadata": {},
   "outputs": [
    {
     "name": "stdout",
     "output_type": "stream",
     "text": [
      "22\n"
     ]
    }
   ],
   "source": [
    "# declare a variable\n",
    "y = 22\n",
    "# print what is in the box\n",
    "print(y)"
   ]
  },
  {
   "cell_type": "markdown",
   "metadata": {},
   "source": [
    "If you vaguely remember your math-classes in school, this should look familiar. It is basically the same notation with the name of **the variable on the left, the value on the right**, and the = sign in the middle. \n",
    "\n",
    "In the code block above, two things happen. **First**, we fill `x` with a value, in our case `22`. This variable x behaves pretty much like a **box** on which we write an `x` with a thick, black marker to find it back later. **Second**: We print the contents of this box, using the `print()` command. <img src=\"https://github.com/kasparvonbeelen/CTH2019/raw/master/images/box.png\">"
   ]
  },
  {
   "cell_type": "markdown",
   "metadata": {},
   "source": [
    "You can inspect the type of the variable with the `type()` **function**. You can use this function by putting the object between parenthesis."
   ]
  },
  {
   "cell_type": "code",
   "execution_count": 12,
   "metadata": {},
   "outputs": [
    {
     "name": "stdout",
     "output_type": "stream",
     "text": [
      "<class 'str'>\n",
      "<class 'int'>\n",
      "<class 'str'>\n"
     ]
    }
   ],
   "source": [
    "text = 'Hello, Worlds!'\n",
    "print(type(text))\n",
    "number = 10 \n",
    "print(type(number))\n",
    "number_string = '10'\n",
    "print(type(number_string))"
   ]
  },
  {
   "cell_type": "markdown",
   "metadata": {},
   "source": [
    "#### --Exercise--\n",
    "Create and print two variables, one containing your name (string) and another on your year of birth (integer)"
   ]
  },
  {
   "cell_type": "code",
   "execution_count": 16,
   "metadata": {},
   "outputs": [
    {
     "name": "stdout",
     "output_type": "stream",
     "text": [
      "Yifan is born on 06041997\n"
     ]
    }
   ],
   "source": [
    "# Write your code here\n",
    "name = 'Yifan'\n",
    "birth = '06041997'\n",
    "print (name + \" is born on \" + birth)"
   ]
  },
  {
   "cell_type": "markdown",
   "metadata": {},
   "source": [
    "# 5. Strings: How Python Understands Text"
   ]
  },
  {
   "cell_type": "markdown",
   "metadata": {},
   "source": [
    "In the preceding sections, we learned how to define string variables."
   ]
  },
  {
   "cell_type": "code",
   "execution_count": 13,
   "metadata": {},
   "outputs": [
    {
     "name": "stdout",
     "output_type": "stream",
     "text": [
      "Yo, You\n",
      "<class 'str'>\n"
     ]
    }
   ],
   "source": [
    "x = 'Yo, You'\n",
    "print(x)\n",
    "print(type(x))"
   ]
  },
  {
   "cell_type": "code",
   "execution_count": null,
   "metadata": {},
   "outputs": [],
   "source": []
  },
  {
   "cell_type": "markdown",
   "metadata": {},
   "source": [
    "Let's have a closer look at the ``'str'`` type (str stands for string)"
   ]
  },
  {
   "cell_type": "markdown",
   "metadata": {},
   "source": [
    "Similar to numbers, strings can also be added together. What do you think the operation below will produce? (pause a moment before running the code.)"
   ]
  },
  {
   "cell_type": "code",
   "execution_count": 14,
   "metadata": {},
   "outputs": [
    {
     "name": "stdout",
     "output_type": "stream",
     "text": [
      "KasparBeelen\n"
     ]
    }
   ],
   "source": [
    "first_name = \"Kaspar\"\n",
    "last_name = \"Beelen\"\n",
    "print(first_name+last_name)"
   ]
  },
  {
   "cell_type": "markdown",
   "metadata": {},
   "source": [
    "This the last operation is called string **concatination**. We added one string to another using the `+` operator."
   ]
  },
  {
   "cell_type": "code",
   "execution_count": 15,
   "metadata": {},
   "outputs": [
    {
     "name": "stdout",
     "output_type": "stream",
     "text": [
      "Kaspar likes The Lord of the Flies?\n"
     ]
    }
   ],
   "source": [
    "book = \"The Lord of the Flies\"\n",
    "print(first_name + \" likes \" + book + \"?\")"
   ]
  },
  {
   "cell_type": "markdown",
   "metadata": {},
   "source": [
    "#### --Exercise--\n",
    "Declare two variables `first_name` and `last_name`. Print them neatly using concatenation (with a space in between)."
   ]
  },
  {
   "cell_type": "code",
   "execution_count": 13,
   "metadata": {},
   "outputs": [
    {
     "name": "stdout",
     "output_type": "stream",
     "text": [
      "Yifan Feng\n"
     ]
    }
   ],
   "source": [
    "# Insert code here\n",
    "first_name = 'Yifan'\n",
    "last_name = 'Feng'\n",
    "print (first_name + \" \" + last_name)"
   ]
  },
  {
   "cell_type": "markdown",
   "metadata": {},
   "source": [
    "## 5.1 Variables and Strings"
   ]
  },
  {
   "cell_type": "code",
   "execution_count": 16,
   "metadata": {},
   "outputs": [
    {
     "name": "stdout",
     "output_type": "stream",
     "text": [
      "Naturkatastrophenkonzert\n"
     ]
    }
   ],
   "source": [
    "song = \"Naturkatastrophenkonzert\"\n",
    "print(song)"
   ]
  },
  {
   "cell_type": "code",
   "execution_count": null,
   "metadata": {},
   "outputs": [],
   "source": []
  },
  {
   "cell_type": "markdown",
   "metadata": {},
   "source": [
    "As we know by now, such a piece of text (\"Naturkatastrophenkonzert\") is called a ``string`` in Python (cf. a **string (or sequence) of characters**). Strings in Python must always be enclosed with 'quotes' (either **single** or **double** quotes). \n",
    "> *Without quotes, Python will think it's dealing with the name of some variable that has been defined earlier because variable names never take quotes.* \n",
    "\n",
    "The following distinction is confusing, but extremely important (for this reason I repeat it here): variable names (without quotes) and string values (with quotes) look similar, but they serve a completely different purpose. Compare:"
   ]
  },
  {
   "cell_type": "code",
   "execution_count": 18,
   "metadata": {},
   "outputs": [
    {
     "name": "stdout",
     "output_type": "stream",
     "text": [
      "Hello\n"
     ]
    }
   ],
   "source": [
    "print('Hello')"
   ]
  },
  {
   "cell_type": "markdown",
   "metadata": {},
   "source": [
    "This works fine."
   ]
  },
  {
   "cell_type": "code",
   "execution_count": 17,
   "metadata": {},
   "outputs": [
    {
     "ename": "NameError",
     "evalue": "name 'Hello' is not defined",
     "output_type": "error",
     "traceback": [
      "\u001b[0;31m---------------------------------------------------------------------------\u001b[0m",
      "\u001b[0;31mNameError\u001b[0m                                 Traceback (most recent call last)",
      "\u001b[0;32m<ipython-input-17-85bf5114fa6b>\u001b[0m in \u001b[0;36m<module>\u001b[0;34m()\u001b[0m\n\u001b[0;32m----> 1\u001b[0;31m \u001b[0mprint\u001b[0m\u001b[0;34m(\u001b[0m\u001b[0mHello\u001b[0m\u001b[0;34m)\u001b[0m\u001b[0;34m\u001b[0m\u001b[0m\n\u001b[0m",
      "\u001b[0;31mNameError\u001b[0m: name 'Hello' is not defined"
     ]
    }
   ],
   "source": [
    "print(Hello)"
   ]
  },
  {
   "cell_type": "markdown",
   "metadata": {},
   "source": [
    "Ooops... this raises an error!"
   ]
  },
  {
   "cell_type": "markdown",
   "metadata": {},
   "source": [
    "#### --Exercise--\n",
    "\n",
    "Solve this error by using variable assignment (assign a variable with the name Hello to a string)."
   ]
  },
  {
   "cell_type": "code",
   "execution_count": 19,
   "metadata": {},
   "outputs": [
    {
     "name": "stdout",
     "output_type": "stream",
     "text": [
      "Hello\n"
     ]
    }
   ],
   "source": [
    "# Insert code here\n",
    "Hello = \"Hello\"\n",
    "print(Hello)"
   ]
  },
  {
   "cell_type": "markdown",
   "metadata": {},
   "source": [
    "#### --Question--\n",
    "\n",
    "The distinction between strings and variables is crucial. In the cell below, try to understand what the code will print, then remove the hashtags to uncomment the code."
   ]
  },
  {
   "cell_type": "code",
   "execution_count": 20,
   "metadata": {},
   "outputs": [
    {
     "name": "stdout",
     "output_type": "stream",
     "text": [
      "Doris\n",
      "name\n",
      "D\n"
     ]
    }
   ],
   "source": [
    "name = \"Doris\"\n",
    "Doris = \"name\"\n",
    "D = \"D\"\n",
    "print(name)\n",
    "print (Doris)\n",
    "print(D)"
   ]
  },
  {
   "cell_type": "markdown",
   "metadata": {},
   "source": [
    "## 5.2 Indexing and Slicing"
   ]
  },
  {
   "cell_type": "markdown",
   "metadata": {},
   "source": [
    "Now that you know the difference between variables and string values, we can inspect these strings further. Strings are called strings because they consist of a **series** (or ``'string'``) of **individual** characters. We can access these characters in Python with the help of **``'indexing'``** because each character in a string has a unique **``'index'``** (i.e. an integer that points to the position of the character). To print the first letter of the variable `song`, you can type:"
   ]
  },
  {
   "cell_type": "code",
   "execution_count": 25,
   "metadata": {},
   "outputs": [
    {
     "name": "stdout",
     "output_type": "stream",
     "text": [
      "Naturkatastrophenkonzert\n",
      "N\n"
     ]
    }
   ],
   "source": [
    "song_startswith = song[0]\n",
    "print(song)\n",
    "print(song_startswith)"
   ]
  },
  {
   "cell_type": "markdown",
   "metadata": {},
   "source": [
    "### How does indexing work exactly?\n",
    "\n",
    "![Indexes of the string Monty Python starting with 0](https://i.stack.imgur.com/vIKaD.png)\n",
    "Take a look at the string \"Monty Python\". We use the index **`0`** to access the **first** character in the string. This might seem odd, but all indexes in Python start at **zero**. Whenever you count in Python, you start at `0` instead of `1`. Note that the **space character** gets an index too, namely 5. This is something you will have to get used to!\n",
    "\n",
    "How to access the last letter of \"Naturkatastrophenkonzert\"? Python has a `len()` function, which tells you how many elements the sequence contains"
   ]
  },
  {
   "cell_type": "markdown",
   "metadata": {},
   "source": [
    "The example below demonstrates how to access the last item. Do you understand the following statement?"
   ]
  },
  {
   "cell_type": "code",
   "execution_count": 26,
   "metadata": {},
   "outputs": [
    {
     "name": "stdout",
     "output_type": "stream",
     "text": [
      "t\n"
     ]
    }
   ],
   "source": [
    "# Exercise print the last letter of your name using negative index\n",
    "last_letter = song[-1]\n",
    "print(last_letter)"
   ]
  },
  {
   "cell_type": "markdown",
   "metadata": {},
   "source": [
    "#### --Exercise--\n",
    "\n",
    "Print the first and list character of your name using index notation."
   ]
  },
  {
   "cell_type": "code",
   "execution_count": 27,
   "metadata": {},
   "outputs": [
    {
     "name": "stdout",
     "output_type": "stream",
     "text": [
      "Y\n",
      "G\n"
     ]
    }
   ],
   "source": [
    "# Insert code here\n",
    "name = \"YIFANFENG\"\n",
    "first_letter = name[0]\n",
    "last_letter = name[-1]\n",
    "print (first_letter)\n",
    "print (last_letter)"
   ]
  },
  {
   "cell_type": "markdown",
   "metadata": {},
   "source": [
    "Now can you write some code that defines a variable `but_last_letter` and assigns to this variable the *one but last* letter of your name?"
   ]
  },
  {
   "cell_type": "code",
   "execution_count": 7,
   "metadata": {},
   "outputs": [],
   "source": [
    "name = 'Yifan'# enter your name as a string"
   ]
  },
  {
   "cell_type": "code",
   "execution_count": 10,
   "metadata": {},
   "outputs": [
    {
     "name": "stdout",
     "output_type": "stream",
     "text": [
      "a\n"
     ]
    }
   ],
   "source": [
    "# Insert code here\n",
    "but_last_letter = name[-2:-1]\n",
    "print (but_last_letter)"
   ]
  },
  {
   "cell_type": "markdown",
   "metadata": {},
   "source": [
    "You're starting to become a real expert in indexing strings. Now, what if we would like to find out what the first two or three letters of our name are? In Python we can use so-called **'slice-indexes' or 'slices'** for short. To find the first two letters of our name we type in:"
   ]
  },
  {
   "cell_type": "code",
   "execution_count": 28,
   "metadata": {},
   "outputs": [
    {
     "name": "stdout",
     "output_type": "stream",
     "text": [
      "YI\n"
     ]
    }
   ],
   "source": [
    "first_two_letters = name[0:2]\n",
    "print(first_two_letters)"
   ]
  },
  {
   "cell_type": "markdown",
   "metadata": {},
   "source": [
    "The `0` index is optional, so we could just as well type in `name[:2]`. This says: take all characters of the  `name` variable until you reach index 2 (i.e. up to the third letter, but not including the third letter). We can also start at index 2 and leave the end index unspecified:"
   ]
  },
  {
   "cell_type": "code",
   "execution_count": 29,
   "metadata": {},
   "outputs": [
    {
     "name": "stdout",
     "output_type": "stream",
     "text": [
      "FANFENG\n"
     ]
    }
   ],
   "source": [
    "without_first_two_letters = name[2:]\n",
    "print(without_first_two_letters)"
   ]
  },
  {
   "cell_type": "code",
   "execution_count": null,
   "metadata": {},
   "outputs": [],
   "source": []
  },
  {
   "cell_type": "markdown",
   "metadata": {},
   "source": [
    "Because we did not specify the end index, Python continues until it reaches the end of our string. If we would like to find out what the last two letters of our name are, we can type in:"
   ]
  },
  {
   "cell_type": "code",
   "execution_count": 30,
   "metadata": {},
   "outputs": [
    {
     "name": "stdout",
     "output_type": "stream",
     "text": [
      "NG\n"
     ]
    }
   ],
   "source": [
    "last_two_letters = name[-2:]\n",
    "print(last_two_letters)"
   ]
  },
  {
   "cell_type": "markdown",
   "metadata": {},
   "source": [
    "### General Slice Syntax\n",
    "\n",
    "The more general form of the Python slicing syntax has the shape\n",
    "   \n",
    "   `object[start:stop:step]`\n",
    " \n"
   ]
  },
  {
   "cell_type": "markdown",
   "metadata": {
    "collapsed": true
   },
   "source": [
    "Complete the three exercises below, to check if you properly understand this syntax."
   ]
  },
  {
   "cell_type": "markdown",
   "metadata": {
    "collapsed": true
   },
   "source": [
    "#### --Exercises--\n",
    "\n",
    "Print your name, but only the characters with and even index"
   ]
  },
  {
   "cell_type": "code",
   "execution_count": 68,
   "metadata": {},
   "outputs": [
    {
     "name": "stdout",
     "output_type": "stream",
     "text": [
      "YFNE\n"
     ]
    }
   ],
   "source": [
    "# Insert code here\n",
    "x = name[0:8:2]\n",
    "print (x)"
   ]
  },
  {
   "cell_type": "markdown",
   "metadata": {
    "collapsed": true
   },
   "source": [
    "#### --Exercise--\n",
    "\n",
    "What happens when you use a negative step without defining the start and end of the slice?"
   ]
  },
  {
   "cell_type": "code",
   "execution_count": 43,
   "metadata": {},
   "outputs": [
    {
     "name": "stdout",
     "output_type": "stream",
     "text": [
      "GNEFNAFIY\n"
     ]
    }
   ],
   "source": [
    "# Insert code here\n",
    "x = name[ : :-1]\n",
    "print (x)"
   ]
  },
  {
   "cell_type": "markdown",
   "metadata": {},
   "source": [
    "#### --Question--\n",
    "\n",
    "Write down, in normal \"human\" language which elements are retrieved by the following slicing operations."
   ]
  },
  {
   "cell_type": "code",
   "execution_count": 46,
   "metadata": {},
   "outputs": [
    {
     "name": "stdout",
     "output_type": "stream",
     "text": [
      "nyPto\n",
      "nohtyP ytnoM\n",
      "MtPh\n",
      "Monty Python\n",
      "Monty Python\n"
     ]
    }
   ],
   "source": [
    "title = \"Monty Python\"\n",
    "print(title[2:-1:2])\n",
    "print(title[::-1])\n",
    "print(title[:-2:3])\n",
    "print(title[::])\n",
    "print (title[::1])"
   ]
  },
  {
   "cell_type": "raw",
   "metadata": {},
   "source": [
    "# Write your answers here\n",
    "# y "
   ]
  },
  {
   "cell_type": "markdown",
   "metadata": {},
   "source": [
    "## 5.2 String Methods\n",
    "\n",
    "Strings and numbers can be thought of as **objects**, \"things you can do stuff with\". In Python language each object has a set of **methods/functions** attached to it. If objects can be thought of as **nouns**, then methods/functions serve as **verbs**, they are the tools that operate on (do something with) these objects. \n",
    "\n",
    "In general the methods (or functions) appear in these forms:\n",
    "- `function(object,argument)`\n",
    "- `object.method(arguments)`\n",
    "    \n",
    "In the example below, we applied the `len()` function to measure the number of characters in a string; the `.lower()` methods lowercases all characters. \n",
    "\n",
    "Both are called **fruitful** functions, as they return something (i.e. a number and a string respectively)"
   ]
  },
  {
   "cell_type": "code",
   "execution_count": 47,
   "metadata": {},
   "outputs": [
    {
     "name": "stdout",
     "output_type": "stream",
     "text": [
      "hello\n",
      "5\n"
     ]
    }
   ],
   "source": [
    "print('HELLO'.lower())\n",
    "print(len('HELLO'))"
   ]
  },
  {
   "cell_type": "markdown",
   "metadata": {},
   "source": [
    "For sure the methods can also be applied to variables:"
   ]
  },
  {
   "cell_type": "code",
   "execution_count": 48,
   "metadata": {},
   "outputs": [
    {
     "name": "stdout",
     "output_type": "stream",
     "text": [
      "helloooooo\n",
      "10\n"
     ]
    }
   ],
   "source": [
    "word = 'HELLOOOOOO'\n",
    "print(word.lower())\n",
    "print(len(word))"
   ]
  },
  {
   "cell_type": "markdown",
   "metadata": {},
   "source": [
    "Python comes with many useful **tools for text processing**. You can list and inspect them with `dir()` or `help()` functions."
   ]
  },
  {
   "cell_type": "code",
   "execution_count": 49,
   "metadata": {},
   "outputs": [],
   "source": [
    "book = 'Pride and Prejudice' # Let's pretend we stored a whole book in this variable"
   ]
  },
  {
   "cell_type": "markdown",
   "metadata": {},
   "source": [
    "`dir()` shows all the methods you can apply to the string variable `book`. Please scroll down. You can ignore the elements starting with double underscores."
   ]
  },
  {
   "cell_type": "code",
   "execution_count": 50,
   "metadata": {},
   "outputs": [
    {
     "data": {
      "text/plain": [
       "['__add__',\n",
       " '__class__',\n",
       " '__contains__',\n",
       " '__delattr__',\n",
       " '__dir__',\n",
       " '__doc__',\n",
       " '__eq__',\n",
       " '__format__',\n",
       " '__ge__',\n",
       " '__getattribute__',\n",
       " '__getitem__',\n",
       " '__getnewargs__',\n",
       " '__gt__',\n",
       " '__hash__',\n",
       " '__init__',\n",
       " '__init_subclass__',\n",
       " '__iter__',\n",
       " '__le__',\n",
       " '__len__',\n",
       " '__lt__',\n",
       " '__mod__',\n",
       " '__mul__',\n",
       " '__ne__',\n",
       " '__new__',\n",
       " '__reduce__',\n",
       " '__reduce_ex__',\n",
       " '__repr__',\n",
       " '__rmod__',\n",
       " '__rmul__',\n",
       " '__setattr__',\n",
       " '__sizeof__',\n",
       " '__str__',\n",
       " '__subclasshook__',\n",
       " 'capitalize',\n",
       " 'casefold',\n",
       " 'center',\n",
       " 'count',\n",
       " 'encode',\n",
       " 'endswith',\n",
       " 'expandtabs',\n",
       " 'find',\n",
       " 'format',\n",
       " 'format_map',\n",
       " 'index',\n",
       " 'isalnum',\n",
       " 'isalpha',\n",
       " 'isdecimal',\n",
       " 'isdigit',\n",
       " 'isidentifier',\n",
       " 'islower',\n",
       " 'isnumeric',\n",
       " 'isprintable',\n",
       " 'isspace',\n",
       " 'istitle',\n",
       " 'isupper',\n",
       " 'join',\n",
       " 'ljust',\n",
       " 'lower',\n",
       " 'lstrip',\n",
       " 'maketrans',\n",
       " 'partition',\n",
       " 'replace',\n",
       " 'rfind',\n",
       " 'rindex',\n",
       " 'rjust',\n",
       " 'rpartition',\n",
       " 'rsplit',\n",
       " 'rstrip',\n",
       " 'split',\n",
       " 'splitlines',\n",
       " 'startswith',\n",
       " 'strip',\n",
       " 'swapcase',\n",
       " 'title',\n",
       " 'translate',\n",
       " 'upper',\n",
       " 'zfill']"
      ]
     },
     "execution_count": 50,
     "metadata": {},
     "output_type": "execute_result"
    }
   ],
   "source": [
    "dir(book)"
   ]
  },
  {
   "cell_type": "markdown",
   "metadata": {},
   "source": [
    "All these methods allows you to do things with strings. Some of the most useful methods are\n",
    "- `split()`\n",
    "- `lower()`\n",
    "- `len()`\n",
    "- `find()`"
   ]
  },
  {
   "cell_type": "markdown",
   "metadata": {},
   "source": [
    "## .split()"
   ]
  },
  {
   "cell_type": "markdown",
   "metadata": {},
   "source": [
    "#### --Exercise--\n",
    "\n",
    "Inspect the example below, and figure out how the `split()` method works."
   ]
  },
  {
   "cell_type": "code",
   "execution_count": 51,
   "metadata": {},
   "outputs": [
    {
     "name": "stdout",
     "output_type": "stream",
     "text": [
      "['1', '2', '3', '4', '5']\n",
      "['Hello', 'how', 'are', 'you', 'today?']\n"
     ]
    }
   ],
   "source": [
    "print('1,2,3,4,5'.split(','))\n",
    "print('Hello how are you today?'.split(' '))"
   ]
  },
  {
   "cell_type": "markdown",
   "metadata": {},
   "source": [
    "`.split()` converts a string of characters to a **list of words** (approximately, we come back to lists later on in this course): it **returns** a list of items seperated by the delimiter (the split character). \n",
    "\n",
    "Let's have a closer look at the output of this method in the exercise below. As in the code cells above, we can save the output of a `.split()` in a new variable. "
   ]
  },
  {
   "cell_type": "code",
   "execution_count": 66,
   "metadata": {
    "scrolled": true
   },
   "outputs": [
    {
     "name": "stdout",
     "output_type": "stream",
     "text": [
      "['1', '2', '3', '4', '5']\n"
     ]
    }
   ],
   "source": [
    "csv = '1,2,3,4,5'\n",
    "numbers = csv.split(',')\n",
    "print(numbers) \n"
   ]
  },
  {
   "cell_type": "markdown",
   "metadata": {},
   "source": [
    "#### --Exercise--\n",
    "\n",
    "- `split()` the sentence variable with white space （white space: can be \"  \" or nothing ( ))\n",
    "- assign the output to a new variable `words`\n",
    "- get the last items of the `words` list using index notation."
   ]
  },
  {
   "cell_type": "code",
   "execution_count": 77,
   "metadata": {},
   "outputs": [
    {
     "name": "stdout",
     "output_type": "stream",
     "text": [
      ".\n",
      "['Alice', 'was', 'beginning', 'to', 'get', 'very', 'tired', 'of', 'sitting', 'by', 'her', 'sister', 'on', 'the', 'bank.']\n",
      "bank.\n",
      "bank.\n"
     ]
    }
   ],
   "source": [
    "sentence = \"Alice was beginning to get very tired of sitting by her sister on the bank.\"\n",
    "# Insert your code here\n",
    "\n",
    "print(sentence.split())\n",
    "words = sentence.split() \n",
    "print (words[14])\n",
    "print (words[-1])\n",
    "\n"
   ]
  },
  {
   "cell_type": "markdown",
   "metadata": {},
   "source": [
    "#### --Exercise--\n",
    "\n",
    "For more information, print the Python **documentation** on the `.split()` method using the `help` function."
   ]
  },
  {
   "cell_type": "code",
   "execution_count": 76,
   "metadata": {},
   "outputs": [
    {
     "name": "stdout",
     "output_type": "stream",
     "text": [
      "Help on built-in function split:\n",
      "\n",
      "split(...) method of builtins.str instance\n",
      "    S.split(sep=None, maxsplit=-1) -> list of strings\n",
      "    \n",
      "    Return a list of the words in S, using sep as the\n",
      "    delimiter string.  If maxsplit is given, at most maxsplit\n",
      "    splits are done. If sep is not specified or is None, any\n",
      "    whitespace string is a separator and empty strings are\n",
      "    removed from the result.\n",
      "\n",
      "Help on method_descriptor:\n",
      "\n",
      "split(...)\n",
      "    S.split(sep=None, maxsplit=-1) -> list of strings\n",
      "    \n",
      "    Return a list of the words in S, using sep as the\n",
      "    delimiter string.  If maxsplit is given, at most maxsplit\n",
      "    splits are done. If sep is not specified or is None, any\n",
      "    whitespace string is a separator and empty strings are\n",
      "    removed from the result.\n",
      "\n"
     ]
    }
   ],
   "source": [
    "# search for help here\n",
    "name = \"Kaspar\"\n",
    "help(name.split)\n",
    "# or\n",
    "help(str.split)"
   ]
  },
  {
   "cell_type": "markdown",
   "metadata": {},
   "source": [
    "## .lower()"
   ]
  },
  {
   "cell_type": "markdown",
   "metadata": {},
   "source": [
    "#### --Exercise--\n",
    "\n",
    "Experiment with the `lower()` function. \n",
    "- Create a string variable;\n",
    "- Pass the lowercased variable to another one;\n",
    "- Print the lowercased and the original variable."
   ]
  },
  {
   "cell_type": "code",
   "execution_count": 87,
   "metadata": {},
   "outputs": [
    {
     "name": "stdout",
     "output_type": "stream",
     "text": [
      "yifan feng\n",
      "Help on method_descriptor:\n",
      "\n",
      "lower(...)\n",
      "    S.lower() -> str\n",
      "    \n",
      "    Return a copy of the string S converted to lowercase.\n",
      "\n",
      "yifan feng\n"
     ]
    }
   ],
   "source": [
    "# Experiment with lower\n",
    "# Declare a string variable with capitals\n",
    "name = 'YIFAN FENG'\n",
    "print (name.lower())\n",
    "\n",
    "\n",
    "# Look for documentation on `lower`\n",
    "\n",
    "type (name)\n",
    "help (str.lower)\n",
    "\n",
    "\n",
    "# Apply lower to the variable AND assign the lowercased string to a new variable\n",
    "\n",
    "Name = name.lower()\n",
    "print (Name)\n",
    "\n",
    "# print the variables before and after applying the lower method\n",
    "\n"
   ]
  },
  {
   "cell_type": "markdown",
   "metadata": {},
   "source": [
    "#### --Exercise--\n",
    "\n",
    "- Lowercase the sentence\n",
    "- Split by the character `a`"
   ]
  },
  {
   "cell_type": "code",
   "execution_count": 89,
   "metadata": {},
   "outputs": [
    {
     "name": "stdout",
     "output_type": "stream",
     "text": [
      "['', 'lice w', 's beginning to get very tired of sitting by her sister on the b', 'nk.']\n"
     ]
    }
   ],
   "source": [
    "sentence = \"Alice was beginning to get very tired of sitting by her sister on the bank.\"\n",
    "# Insert code here\n",
    "print (sentence.lower().split('a'))"
   ]
  },
  {
   "cell_type": "markdown",
   "metadata": {},
   "source": [
    "## .find()"
   ]
  },
  {
   "cell_type": "markdown",
   "metadata": {},
   "source": [
    "Run the cell below to understand what the `.find()` method does."
   ]
  },
  {
   "cell_type": "code",
   "execution_count": 90,
   "metadata": {},
   "outputs": [
    {
     "name": "stdout",
     "output_type": "stream",
     "text": [
      "Help on method_descriptor:\n",
      "\n",
      "find(...)\n",
      "    S.find(sub[, start[, end]]) -> int\n",
      "    \n",
      "    Return the lowest index in S where substring sub is found,\n",
      "    such that sub is contained within S[start:end].  Optional\n",
      "    arguments start and end are interpreted as in slice notation.\n",
      "    \n",
      "    Return -1 on failure.\n",
      "\n"
     ]
    }
   ],
   "source": [
    "help(str.find)"
   ]
  },
  {
   "cell_type": "markdown",
   "metadata": {},
   "source": [
    "#### --Exercise--\n",
    "\n",
    "Find the position of the first 'e' in the title \"Naturkatastrophenkonzert\"."
   ]
  },
  {
   "cell_type": "code",
   "execution_count": 91,
   "metadata": {},
   "outputs": [
    {
     "data": {
      "text/plain": [
       "15"
      ]
     },
     "execution_count": 91,
     "metadata": {},
     "output_type": "execute_result"
    }
   ],
   "source": [
    "title = 'Naturkatastrophenkonzert'\n",
    "# use the find() method here\n",
    "title.find('e')"
   ]
  },
  {
   "cell_type": "markdown",
   "metadata": {},
   "source": [
    "#### --Exercise--\n",
    "\n",
    "The code cell below downloads [Romeo and Juliet](http://www.gutenberg.org/cache/epub/1777/pg1777.txt) from the Gutenberg Project."
   ]
  },
  {
   "cell_type": "code",
   "execution_count": 92,
   "metadata": {},
   "outputs": [],
   "source": [
    "import requests # run but ignore these lines\n",
    "randj = requests.get('http://www.gutenberg.org/cache/epub/1777/pg1777.txt').text"
   ]
  },
  {
   "cell_type": "markdown",
   "metadata": {},
   "source": [
    "`randj` contains the full text of Romeo and Juliet, you can inspect the variable by printing the first hundred characters.\n",
    "\n",
    "#### --Exercise--\n",
    "\n",
    "Print the first hundred character of Romeo and Juliet."
   ]
  },
  {
   "cell_type": "code",
   "execution_count": 93,
   "metadata": {},
   "outputs": [
    {
     "name": "stdout",
     "output_type": "stream",
     "text": [
      "﻿\r\n",
      "This Etext file is presented by Project Gutenberg, in\r\n",
      "cooperation with World Library, Inc., fro\n"
     ]
    }
   ],
   "source": [
    "# Insert code here\n",
    "print (randj[0:99])"
   ]
  },
  {
   "cell_type": "markdown",
   "metadata": {},
   "source": [
    "Find the **first** occurence of the word **`love`** in Shakespeare's Rome and Juliet. \n",
    "\n",
    "**HINT**: Do not forget to first lowercase all words!"
   ]
  },
  {
   "cell_type": "code",
   "execution_count": 102,
   "metadata": {},
   "outputs": [
    {
     "name": "stdout",
     "output_type": "stream",
     "text": [
      "10755\n"
     ]
    }
   ],
   "source": [
    "# Insert code here\n",
    "X = randj.lower().find('love')\n",
    "print (X)"
   ]
  },
  {
   "cell_type": "markdown",
   "metadata": {},
   "source": [
    "You can print the context around `first_love` using the [index](https://www.oreilly.com/learning/how-do-i-use-the-slice-notation-in-python) notation. (Please follow link for more information.)"
   ]
  },
  {
   "cell_type": "code",
   "execution_count": 109,
   "metadata": {},
   "outputs": [
    {
     "name": "stdout",
     "output_type": "stream",
     "text": [
      "Start printing at character with position= 10875\n",
      "Stop printing at character with position= 10979\n",
      "\n",
      "\n",
      "e.\r\n",
      "    The fearful passage of their death-mark'd love,\r\n",
      "    And the continuance of their parents' rage,\n"
     ]
    }
   ],
   "source": [
    "first_love = 10759+166\n",
    "context_size = 50 # the number of character around the word\n",
    "start_at = first_love-context_size # indicate the starting position\n",
    "stop_at = first_love+context_size+len('love') # indicate where to stop\n",
    "print('Start printing at character with position=',start_at)\n",
    "print('Stop printing at character with position=',stop_at)\n",
    "print('\\n')\n",
    "print(randj[start_at:stop_at]) # print with context"
   ]
  },
  {
   "cell_type": "markdown",
   "metadata": {},
   "source": [
    "#### \\*\\*\\*--Exercise--\n",
    "\n",
    "- Can you find the **second** occurence of **\"love\"** in this play? And print the context?\n",
    "- Can you print the second occurence of love with 50 characters context?\n",
    "\n",
    "HINT: Inspect the `help()` function. Reuse information from the above code cells (`first_love`).\n",
    "HINT II: Use slicing to print the local context of a word."
   ]
  },
  {
   "cell_type": "code",
   "execution_count": 110,
   "metadata": {},
   "outputs": [
    {
     "name": "stdout",
     "output_type": "stream",
     "text": [
      "166\n"
     ]
    }
   ],
   "source": [
    "# add and copy-paste your code here\n",
    "X = randj.lower()\n",
    "print (X[10759:].find('love'))"
   ]
  },
  {
   "cell_type": "markdown",
   "metadata": {},
   "source": [
    "# Recap\n",
    "\n",
    "- Variables are boxes in which you can store information.\n",
    "- Variables can be of a different type: Text (strings) or Numbers (Integers).\n",
    "- Methods/Function allow you to manipulate the content of these boxes (e.g. `.lower()`)"
   ]
  },
  {
   "cell_type": "code",
   "execution_count": 3,
   "metadata": {},
   "outputs": [
    {
     "name": "stdout",
     "output_type": "stream",
     "text": [
      "1\n"
     ]
    }
   ],
   "source": [
    "# Experiment a bit here\n",
    "X = 'Yifan Feng'\n",
    "A = '1'\n",
    "X.lower()\n",
    "print (A)"
   ]
  },
  {
   "cell_type": "markdown",
   "metadata": {},
   "source": [
    "## len()"
   ]
  },
  {
   "cell_type": "markdown",
   "metadata": {},
   "source": [
    "`len()` counts the number of elements the argument contains. If you pass a string as an argument, it counts the number characters.\n",
    "\n",
    "Note: the syntax is slighly different here (for reasons that fall outside the scope of this course.)"
   ]
  },
  {
   "cell_type": "code",
   "execution_count": 111,
   "metadata": {},
   "outputs": [
    {
     "name": "stdout",
     "output_type": "stream",
     "text": [
      "34\n"
     ]
    }
   ],
   "source": [
    "word = 'supercalifragilisticexpialidocious'\n",
    "print(len(word))"
   ]
  },
  {
   "cell_type": "code",
   "execution_count": 113,
   "metadata": {},
   "outputs": [
    {
     "name": "stdout",
     "output_type": "stream",
     "text": [
      "9\n"
     ]
    }
   ],
   "source": [
    "# How many characters does your full name contain?\n",
    "name = 'yifanfeng'\n",
    "print (len(name))"
   ]
  },
  {
   "cell_type": "markdown",
   "metadata": {},
   "source": [
    "#### --Exercise--\n",
    "\n",
    "How many character and words does Romeo and Juliet contain (approximately)? \n",
    "> HINT: Use `split()` and `len()` in combination."
   ]
  },
  {
   "cell_type": "code",
   "execution_count": 114,
   "metadata": {},
   "outputs": [
    {
     "name": "stdout",
     "output_type": "stream",
     "text": [
      "27689\n"
     ]
    }
   ],
   "source": [
    "# download Romeo and Juliet from Gutenberg\n",
    "import requests\n",
    "randj = requests.get('http://www.gutenberg.org/cache/epub/1777/pg1777.txt').text\n",
    "# add your code here\n",
    "print(len(randj.split()))"
   ]
  },
  {
   "cell_type": "markdown",
   "metadata": {},
   "source": [
    "### --Exercise--\n",
    "\n",
    "Can you find other useful string methods?"
   ]
  },
  {
   "cell_type": "code",
   "execution_count": null,
   "metadata": {
    "collapsed": true
   },
   "outputs": [],
   "source": [
    "# if yes, play with them here!\n",
    "upper(); lower();find(); \n",
    "#https://www.w3schools.com/python/python_ref_string.asp"
   ]
  },
  {
   "cell_type": "markdown",
   "metadata": {},
   "source": [
    "## We are DONE for today. Congratulations!"
   ]
  }
 ],
 "metadata": {
  "kernelspec": {
   "display_name": "Python 3",
   "language": "python",
   "name": "python3"
  },
  "language_info": {
   "codemirror_mode": {
    "name": "ipython",
    "version": 3
   },
   "file_extension": ".py",
   "mimetype": "text/x-python",
   "name": "python",
   "nbconvert_exporter": "python",
   "pygments_lexer": "ipython3",
   "version": "3.6.5"
  }
 },
 "nbformat": 4,
 "nbformat_minor": 2
}
