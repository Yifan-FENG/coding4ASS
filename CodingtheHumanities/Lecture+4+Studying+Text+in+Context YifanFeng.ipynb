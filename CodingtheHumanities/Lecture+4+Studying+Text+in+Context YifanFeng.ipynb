{
 "cells": [
  {
   "cell_type": "markdown",
   "metadata": {},
   "source": [
    "# 4. Grouping and Making Comparisons\n"
   ]
  },
  {
   "cell_type": "markdown",
   "metadata": {},
   "source": [
    "## 1. Research Scenario: Content Type and Popularity\n",
    "\n",
    "Are posts with pictures more popular than other types of content? To answer this question we have to compare the content type in relation to the likes they receive. The code below shows how to do this. "
   ]
  },
  {
   "cell_type": "markdown",
   "metadata": {},
   "source": [
    "#### Exercise\n",
    "\n",
    "Load posts by the comedian [Andy Borowitz](https://www.facebook.com/andyborowitz/). Data is [here](https://raw.githubusercontent.com/kasparvonbeelen/CTH2019/master/data/page_38423635680_2019_01_13_12_33_40.tab)"
   ]
  },
  {
   "cell_type": "code",
   "execution_count": 16,
   "metadata": {},
   "outputs": [],
   "source": [
    "%matplotlib inline\n",
    "import pandas as pd\n",
    "url = 'https://raw.githubusercontent.com/kasparvonbeelen/CTH2019/master/data/page_38423635680_2019_01_13_12_33_40.tab'\n",
    "data = pd.read_csv(url,sep='\\t')\n"
   ]
  },
  {
   "cell_type": "markdown",
   "metadata": {},
   "source": [
    "#### Exercise\n",
    "\n",
    "Print the column names and the first ten rows. Which column contains information about the post's content type?"
   ]
  },
  {
   "cell_type": "code",
   "execution_count": 17,
   "metadata": {},
   "outputs": [
    {
     "name": "stdout",
     "output_type": "stream",
     "text": [
      "Index(['type', 'by', 'post_id', 'post_link', 'post_message', 'picture',\n",
      "       'full_picture', 'link', 'link_domain', 'post_published',\n",
      "       'post_published_unix', 'post_published_sql', 'likes_count_fb',\n",
      "       'comments_count_fb', 'reactions_count_fb', 'shares_count_fb',\n",
      "       'engagement_fb', 'rea_LOVE', 'rea_HAHA', 'rea_WOW', 'rea_SAD',\n",
      "       'rea_ANGRY', 'rea_THANKFUL'],\n",
      "      dtype='object')      type                     by                        post_id  \\\n",
      "0    link  post_page_38423635680  38423635680_10157498088090681   \n",
      "1    link  post_page_38423635680  38423635680_10157497599080681   \n",
      "2    link  post_page_38423635680  38423635680_10157497518435681   \n",
      "3    link  post_page_38423635680  38423635680_10157495456045681   \n",
      "4  status  post_page_38423635680  38423635680_10157495442305681   \n",
      "5    link  post_page_38423635680  38423635680_10157495431550681   \n",
      "6    link  post_page_38423635680  38423635680_10157495354310681   \n",
      "7    link  post_page_38423635680  38423635680_10157495346240681   \n",
      "8    link  post_page_38423635680  38423635680_10157495321450681   \n",
      "9    link  post_page_38423635680  38423635680_10157494787440681   \n",
      "\n",
      "                                           post_link  \\\n",
      "0  https://www.facebook.com/38423635680/posts/101...   \n",
      "1  https://www.facebook.com/38423635680/posts/101...   \n",
      "2  https://www.facebook.com/38423635680/posts/101...   \n",
      "3  https://www.facebook.com/38423635680/posts/101...   \n",
      "4  https://www.facebook.com/38423635680/posts/101...   \n",
      "5  https://www.facebook.com/38423635680/posts/101...   \n",
      "6  https://www.facebook.com/38423635680/posts/101...   \n",
      "7  https://www.facebook.com/38423635680/posts/101...   \n",
      "8  https://www.facebook.com/38423635680/posts/101...   \n",
      "9  https://www.facebook.com/38423635680/posts/101...   \n",
      "\n",
      "                                        post_message  \\\n",
      "0  Seattle show is SOLD OUT! Still a few tickets ...   \n",
      "1            “I’m avoiding the middleman ” she said.   \n",
      "2  In the run-up to my show in Portland this Frid...   \n",
      "3  Those who witnessed Trump’s departure indicate...   \n",
      "4  Study: Most Innocent People Need To Hire Thirt...   \n",
      "5  “None of these three men should be anywhere ne...   \n",
      "6  The only shocking part of this headline is the...   \n",
      "7  Hey Oregon! Oregon ArtsWatch says I am coming ...   \n",
      "8  BREAKING: Ivanka Trump has turned down an offe...   \n",
      "9  For anyone who thinks my job is easy  keep in ...   \n",
      "\n",
      "                                             picture  \\\n",
      "0  https://scontent.xx.fbcdn.net/v/t45.1600-4/c6....   \n",
      "1  https://external.xx.fbcdn.net/safe_image.php?d...   \n",
      "2  https://external.xx.fbcdn.net/safe_image.php?d...   \n",
      "3  https://external.xx.fbcdn.net/safe_image.php?d...   \n",
      "4                                                NaN   \n",
      "5  https://external.xx.fbcdn.net/safe_image.php?d...   \n",
      "6  https://external.xx.fbcdn.net/safe_image.php?d...   \n",
      "7  https://external.xx.fbcdn.net/safe_image.php?d...   \n",
      "8  https://external.xx.fbcdn.net/safe_image.php?d...   \n",
      "9  https://external.xx.fbcdn.net/safe_image.php?d...   \n",
      "\n",
      "                                        full_picture  \\\n",
      "0  https://scontent.xx.fbcdn.net/v/t45.1600-4/474...   \n",
      "1  https://external.xx.fbcdn.net/safe_image.php?d...   \n",
      "2  https://external.xx.fbcdn.net/safe_image.php?d...   \n",
      "3  https://external.xx.fbcdn.net/safe_image.php?d...   \n",
      "4                                                NaN   \n",
      "5  https://external.xx.fbcdn.net/safe_image.php?d...   \n",
      "6  https://external.xx.fbcdn.net/safe_image.php?d...   \n",
      "7  https://external.xx.fbcdn.net/safe_image.php?u...   \n",
      "8  https://external.xx.fbcdn.net/safe_image.php?d...   \n",
      "9  https://external.xx.fbcdn.net/safe_image.php?d...   \n",
      "\n",
      "                                                link          link_domain  \\\n",
      "0  https://www.portland5.com/arlene-schnitzer-con...        portland5.com   \n",
      "1  https://www.newyorker.com/humor/borowitz-repor...        newyorker.com   \n",
      "2  https://www.opb.org/radio/article/andy-borowit...              opb.org   \n",
      "3  https://www.newyorker.com/humor/borowitz-repor...        newyorker.com   \n",
      "4                                                NaN                  NaN   \n",
      "5  https://www.newyorker.com/humor/borowitz-repor...        newyorker.com   \n",
      "6  https://www.nytimes.com/2019/01/11/us/politics...          nytimes.com   \n",
      "7  http://www.orartswatch.org/andy-borowitz-surfi...      orartswatch.org   \n",
      "8  https://www.newyorker.com/humor/borowitz-repor...        newyorker.com   \n",
      "9  https://www.businessinsider.com/ivanka-trump-w...  businessinsider.com   \n",
      "\n",
      "             post_published      ...       comments_count_fb  \\\n",
      "0  2019-01-13T01:35:42+0000      ...                       9   \n",
      "1  2019-01-12T21:56:33+0000      ...                     114   \n",
      "2  2019-01-12T21:23:34+0000      ...                      14   \n",
      "3  2019-01-12T03:48:28+0000      ...                     517   \n",
      "4  2019-01-12T03:40:06+0000      ...                     193   \n",
      "5  2019-01-12T03:33:30+0000      ...                     189   \n",
      "6  2019-01-12T02:52:59+0000      ...                     220   \n",
      "7  2019-01-12T02:48:58+0000      ...                       2   \n",
      "8  2019-01-12T02:36:44+0000      ...                     442   \n",
      "9  2019-01-11T22:24:26+0000      ...                    4350   \n",
      "\n",
      "  reactions_count_fb  shares_count_fb  engagement_fb  rea_LOVE  rea_HAHA  \\\n",
      "0                167                3            179        17         2   \n",
      "1               7733             2430          10277       199      3783   \n",
      "2                309               24            347        35         7   \n",
      "3               9074             2199          11790       326      5434   \n",
      "4               9036             2822          12051       150      4578   \n",
      "5               7225             3913          11327        97      1216   \n",
      "6               8637              811           9668       104      1808   \n",
      "7                184                5            191        13         7   \n",
      "8              11797             4178          16417       168      8741   \n",
      "9              49854            11234          65438       393     24199   \n",
      "\n",
      "   rea_WOW  rea_SAD  rea_ANGRY  rea_THANKFUL  \n",
      "0        0        0          0             0  \n",
      "1       36       39          8             0  \n",
      "2        0        2          0             0  \n",
      "3       52        9         19             0  \n",
      "4       32       14         15             0  \n",
      "5      152      124       1104             0  \n",
      "6      282       30        107             0  \n",
      "7        2        0          0             0  \n",
      "8       62       18         45             0  \n",
      "9     8984      861       2576             0  \n",
      "\n",
      "[10 rows x 23 columns]\n"
     ]
    }
   ],
   "source": [
    "# insert code here\n",
    "print (data.columns,data.head(10))\n",
    "# type"
   ]
  },
  {
   "cell_type": "markdown",
   "metadata": {},
   "source": [
    "Apply the `.unique()` method to this column to see which values the column contains."
   ]
  },
  {
   "cell_type": "code",
   "execution_count": 18,
   "metadata": {},
   "outputs": [
    {
     "data": {
      "text/plain": [
       "array(['link', 'status', 'photo', 'video'], dtype=object)"
      ]
     },
     "execution_count": 18,
     "metadata": {},
     "output_type": "execute_result"
    }
   ],
   "source": [
    "# insert code here\n",
    "# data.loc[:3,'type'].unique()\n",
    "data['type'].unique() "
   ]
  },
  {
   "cell_type": "markdown",
   "metadata": {},
   "source": [
    "Of course, the \"type\" column lists indicates if the post contained a picture or not. With Pandas we can easily study whether, on average, posts with pictures receive more reactions than other content types. Run the code, later on, I will explain how it works."
   ]
  },
  {
   "cell_type": "code",
   "execution_count": 19,
   "metadata": {},
   "outputs": [
    {
     "data": {
      "text/plain": [
       "type\n",
       "link      11233.671579\n",
       "photo     12232.368821\n",
       "status    12054.924370\n",
       "video      8582.608696\n",
       "Name: reactions_count_fb, dtype: float64"
      ]
     },
     "execution_count": 19,
     "metadata": {},
     "output_type": "execute_result"
    }
   ],
   "source": [
    "group_means = data.groupby('type')['reactions_count_fb'].mean()\n",
    "group_means "
   ]
  },
  {
   "cell_type": "markdown",
   "metadata": {},
   "source": [
    "A visual represention is often more insightful, so let's make a barplot to compare the means."
   ]
  },
  {
   "cell_type": "code",
   "execution_count": 20,
   "metadata": {},
   "outputs": [
    {
     "data": {
      "text/plain": [
       "<matplotlib.axes._subplots.AxesSubplot at 0x1165fab38>"
      ]
     },
     "execution_count": 20,
     "metadata": {},
     "output_type": "execute_result"
    },
    {
     "data": {
      "image/png": "[encoded data removed]",
      "text/plain": [
       "<Figure size 432x288 with 1 Axes>"
      ]
     },
     "metadata": {
      "needs_background": "light"
     },
     "output_type": "display_data"
    }
   ],
   "source": [
    "%matplotlib inline\n",
    "group_means.plot(kind='bar')"
   ]
  },
  {
   "cell_type": "markdown",
   "metadata": {},
   "source": [
    "Plotting the actual distribution is also possible."
   ]
  },
  {
   "cell_type": "code",
   "execution_count": 21,
   "metadata": {},
   "outputs": [
    {
     "data": {
      "text/plain": [
       "type\n",
       "link      AxesSubplot(0.125,0.125;0.775x0.755)\n",
       "photo     AxesSubplot(0.125,0.125;0.775x0.755)\n",
       "status    AxesSubplot(0.125,0.125;0.775x0.755)\n",
       "video     AxesSubplot(0.125,0.125;0.775x0.755)\n",
       "Name: reactions_count_fb, dtype: object"
      ]
     },
     "execution_count": 21,
     "metadata": {},
     "output_type": "execute_result"
    },
    {
     "data": {
      "image/png": "[encoded data removed]",
      "text/plain": [
       "<Figure size 432x288 with 1 Axes>"
      ]
     },
     "metadata": {
      "needs_background": "light"
     },
     "output_type": "display_data"
    }
   ],
   "source": [
    "data.groupby('type')['reactions_count_fb'].plot(kind='density',legend=True)"
   ]
  },
  {
   "cell_type": "markdown",
   "metadata": {},
   "source": [
    "#### About `.groupby()`\n",
    "\n",
    "Ok, what happened here?\n",
    "\n",
    "Basically, the `.groupby()` function groups the table by the column selected within the parentheses (here different content types, e.g. \"link\", \"photo\" etc.). Then for each group, we apply a specific calculation (e.g. computing the average or simply summing all the values). The figure below gives a good graphic representation of this process. The only difference is that we used the `.mean()` instead of `.sum()`.\n",
    "<img src=\"http://i0.wp.com/datapandas.com/wp-content/uploads/2016/09/pandas-powerful-data-analysis-tools-group-by.jpg?resize=600%2C450\">"
   ]
  },
  {
   "cell_type": "markdown",
   "metadata": {},
   "source": [
    "Basically, `.groupby()` divides the DataFrame by a specific category and then applies a method (such as sum, median or other) to each of these sub-tables before combining the tables again. To see how this works you can inspect the toy example below."
   ]
  },
  {
   "cell_type": "code",
   "execution_count": 22,
   "metadata": {},
   "outputs": [
    {
     "data": {
      "text/html": [
       "<div>\n",
       "<style scoped>\n",
       "    .dataframe tbody tr th:only-of-type {\n",
       "        vertical-align: middle;\n",
       "    }\n",
       "\n",
       "    .dataframe tbody tr th {\n",
       "        vertical-align: top;\n",
       "    }\n",
       "\n",
       "    .dataframe thead th {\n",
       "        text-align: right;\n",
       "    }\n",
       "</style>\n",
       "<table border=\"1\" class=\"dataframe\">\n",
       "  <thead>\n",
       "    <tr style=\"text-align: right;\">\n",
       "      <th></th>\n",
       "      <th>category</th>\n",
       "      <th>value</th>\n",
       "    </tr>\n",
       "  </thead>\n",
       "  <tbody>\n",
       "    <tr>\n",
       "      <th>0</th>\n",
       "      <td>A</td>\n",
       "      <td>1</td>\n",
       "    </tr>\n",
       "    <tr>\n",
       "      <th>1</th>\n",
       "      <td>B</td>\n",
       "      <td>2</td>\n",
       "    </tr>\n",
       "    <tr>\n",
       "      <th>2</th>\n",
       "      <td>A</td>\n",
       "      <td>4</td>\n",
       "    </tr>\n",
       "    <tr>\n",
       "      <th>3</th>\n",
       "      <td>B</td>\n",
       "      <td>1</td>\n",
       "    </tr>\n",
       "    <tr>\n",
       "      <th>4</th>\n",
       "      <td>A</td>\n",
       "      <td>6</td>\n",
       "    </tr>\n",
       "    <tr>\n",
       "      <th>5</th>\n",
       "      <td>B</td>\n",
       "      <td>1</td>\n",
       "    </tr>\n",
       "  </tbody>\n",
       "</table>\n",
       "</div>"
      ],
      "text/plain": [
       "  category  value\n",
       "0        A      1\n",
       "1        B      2\n",
       "2        A      4\n",
       "3        B      1\n",
       "4        A      6\n",
       "5        B      1"
      ]
     },
     "execution_count": 22,
     "metadata": {},
     "output_type": "execute_result"
    }
   ],
   "source": [
    "example = pd.DataFrame([['A',1],['B',2],['A',4],['B',1],['A',6],['B',1]],columns=['category','value'])\n",
    "example"
   ]
  },
  {
   "cell_type": "markdown",
   "metadata": {},
   "source": [
    "In the code cell below we group results by the \"category\" and then sums (for each of the sub-tables) the values in the \"value\" column"
   ]
  },
  {
   "cell_type": "code",
   "execution_count": 23,
   "metadata": {},
   "outputs": [
    {
     "data": {
      "text/plain": [
       "category\n",
       "A    11\n",
       "B     4\n",
       "Name: value, dtype: int64"
      ]
     },
     "execution_count": 23,
     "metadata": {},
     "output_type": "execute_result"
    }
   ],
   "source": [
    "example.groupby('category')['value'].sum()"
   ]
  },
  {
   "cell_type": "markdown",
   "metadata": {},
   "source": [
    "#### Exercise\n",
    "\n",
    "Group by the \"category\" column and then compute the mean of 'value'."
   ]
  },
  {
   "cell_type": "code",
   "execution_count": 24,
   "metadata": {},
   "outputs": [
    {
     "data": {
      "text/plain": [
       "category\n",
       "A    3.666667\n",
       "B    1.333333\n",
       "Name: value, dtype: float64"
      ]
     },
     "execution_count": 24,
     "metadata": {},
     "output_type": "execute_result"
    }
   ],
   "source": [
    "# insert code here\n",
    "example.groupby('category')['value'].mean()"
   ]
  },
  {
   "cell_type": "markdown",
   "metadata": {},
   "source": [
    "#### Exercise\n",
    "\n",
    "Returning to the Borowitz example: The results suggested that, on average, posts with pictures are more popular. But, as seen in lecture 2, the mean is sensitive to outliers. To check if the results are robust, investigate if the findings change when computing the median by content type."
   ]
  },
  {
   "cell_type": "code",
   "execution_count": 25,
   "metadata": {},
   "outputs": [
    {
     "data": {
      "text/plain": [
       "type\n",
       "link       9387.0\n",
       "photo     10589.0\n",
       "status    10215.5\n",
       "video      5096.0\n",
       "Name: reactions_count_fb, dtype: float64"
      ]
     },
     "execution_count": 25,
     "metadata": {},
     "output_type": "execute_result"
    }
   ],
   "source": [
    "# insert code here\n",
    "data.groupby('type')['reactions_count_fb'].median()"
   ]
  },
  {
   "cell_type": "markdown",
   "metadata": {},
   "source": [
    "#### Exercise\n",
    "\n",
    "Does visual content elicit stronger *emotional* responses? Inspect the angry and love reactions."
   ]
  },
  {
   "cell_type": "code",
   "execution_count": 26,
   "metadata": {},
   "outputs": [
    {
     "name": "stdout",
     "output_type": "stream",
     "text": [
      "type\n",
      "link      134264\n",
      "photo      55986\n",
      "status     43932\n",
      "video      15649\n",
      "Name: rea_ANGRY, dtype: int64 type\n",
      "link      239713\n",
      "photo     147304\n",
      "status    120253\n",
      "video      13539\n",
      "Name: rea_LOVE, dtype: int64\n"
     ]
    }
   ],
   "source": [
    "# insert code here\n",
    "print (data.groupby('type')['rea_ANGRY'].sum(),data.groupby('type')['rea_LOVE'].sum())"
   ]
  },
  {
   "cell_type": "markdown",
   "metadata": {},
   "source": [
    "#### \\*\\*\\* Exercise\n",
    "\n",
    "We can use a similar technique to track the most active users on  Social Media platforms. \n",
    "- Load comments on the YouTube Techno Documentary we studied in the second lecture (you can use [this table](https://raw.githubusercontent.com/kasparvonbeelen/CTH2019/master/data/videoinfo_-OLEyOYC6P4_2018_12_18-09_26_24_comments.tab))\n",
    "- Group the table by users (use \"authorName\")\n",
    "- Then apply `count()` to the \"id\" column\n",
    "- Assign the result of this operation to a new variable `df_comment_count`\n",
    "- Sort this DataFrame in descending order by applying the `.sort_values()` method to `df_comment_count` \n",
    "- In the latter method, set the `ascending` argument to `False` (i.e. .`sort_values(ascending=False)`)\n"
   ]
  },
  {
   "cell_type": "code",
   "execution_count": 27,
   "metadata": {},
   "outputs": [
    {
     "data": {
      "text/plain": [
       "Index(['id', 'replyCount', 'likeCount', 'publishedAt', 'authorName', 'text',\n",
       "       'authorChannelId', 'authorChannelUrl', 'isReply', 'isReplyTo',\n",
       "       'isReplyToName'],\n",
       "      dtype='object')"
      ]
     },
     "execution_count": 27,
     "metadata": {},
     "output_type": "execute_result"
    }
   ],
   "source": [
    "# insert code here\n",
    "import pandas as pd\n",
    "url = 'https://raw.githubusercontent.com/kasparvonbeelen/CTH2019/master/data/videoinfo_-OLEyOYC6P4_2018_12_18-09_26_24_comments.tab'\n",
    "df = pd.read_csv(url, sep='\\t')\n",
    "df_comment_count = df.groupby('authorName')['id'].count()\n",
    "df_comment_count.sort_values()\n",
    "df_comment_count.sort_values(ascending=False)\n",
    "\n",
    "df.columns\n",
    "\n",
    "\n",
    "\n",
    "\n",
    "\n",
    "\n",
    "\n"
   ]
  },
  {
   "cell_type": "markdown",
   "metadata": {},
   "source": [
    "#### \\*\\*\\* Exercise\n",
    "\n",
    "- Continuing the Youtube Techno example: Can you also rank the authors by the likes they have **received** (i.e. find the most popular authors). Save the result of the `.groupby()` operation in a new variable with the name `df_like_count`\n",
    "\n",
    "> HINT: first group by authorName and then apply `sum()` to the likeCount\n",
    "\n",
    "- Plot the distribution of these likes (grouped by author) with a Histogram or a Density plot. These follow a winner-takes-it-all [Power Law](https://en.wikipedia.org/wiki/Power_law)\n",
    "\n",
    "> HINT: simply apply `.plot(kind='density'`) to `df_like_count`\n"
   ]
  },
  {
   "cell_type": "code",
   "execution_count": 28,
   "metadata": {},
   "outputs": [
    {
     "data": {
      "text/plain": [
       "<matplotlib.axes._subplots.AxesSubplot at 0x1a1aba6fd0>"
      ]
     },
     "execution_count": 28,
     "metadata": {},
     "output_type": "execute_result"
    },
    {
     "data": {
      "image/png": "[encoded data removed]",
      "text/plain": [
       "<Figure size 432x288 with 1 Axes>"
      ]
     },
     "metadata": {
      "needs_background": "light"
     },
     "output_type": "display_data"
    }
   ],
   "source": [
    "# insert code here\n",
    "df_like_count = df.groupby('authorName')['likeCount'].sum()\n",
    "df_like_count.plot(kind='density') "
   ]
  },
  {
   "cell_type": "markdown",
   "metadata": {},
   "source": [
    "## 2. Research Scenario: Lexicon-Based Sentiment Analysis with VADER"
   ]
  },
  {
   "cell_type": "markdown",
   "metadata": {},
   "source": [
    "In the preceding examples we relied on reactions to study emotional behaviour on social media. Oftentimes, this information is not available, and we only have access the text itself to detect emotion. In this situation we can use automatic sentiment detection tools such as **VADER**.\n",
    "\n",
    "[from Github](https://github.com/cjhutto/vaderSentiment): VADER (Valence Aware Dictionary and Sentiment Reasoner) is a lexicon and rule-based sentiment analysis tool.\n",
    "\n",
    "VADER uses a [lexicon](https://github.com/cjhutto/vaderSentiment/blob/master/vaderSentiment/vader_lexicon.txt) (a mapping of words to sentiment values, e.g bad=-1.0, good=+1.0) to compute the sentiment (positivity or negativity) of a text."
   ]
  },
  {
   "cell_type": "markdown",
   "metadata": {},
   "source": [
    "#### Question\n",
    "\n",
    "Inspect the VADER lexicon: Can you understand the structure of this table? "
   ]
  },
  {
   "cell_type": "raw",
   "metadata": {},
   "source": [
    "# write answer here\n",
    "each word has been assessed by its sentimental content/meaning and has been evaluated by score. The range shows the word could go towards two directions, either more positive or more negative. 0 means the word is more neutral. "
   ]
  },
  {
   "cell_type": "markdown",
   "metadata": {},
   "source": [
    "Before working with VADER we first have to check if NLTK is properly installed."
   ]
  },
  {
   "cell_type": "code",
   "execution_count": 31,
   "metadata": {},
   "outputs": [],
   "source": [
    "# if this cell yields an error run the next one\n",
    "import nltk"
   ]
  },
  {
   "cell_type": "code",
   "execution_count": 32,
   "metadata": {},
   "outputs": [
    {
     "name": "stdout",
     "output_type": "stream",
     "text": [
      "Requirement already satisfied: nltk in /Users/ivanfeng/anaconda3/lib/python3.7/site-packages (3.4)\r\n",
      "Requirement already satisfied: six in /Users/ivanfeng/anaconda3/lib/python3.7/site-packages (from nltk) (1.12.0)\r\n",
      "Requirement already satisfied: singledispatch in /Users/ivanfeng/anaconda3/lib/python3.7/site-packages (from nltk) (3.4.0.3)\r\n"
     ]
    }
   ],
   "source": [
    "# only run this cell if the preceding one yields an error\n",
    "!pip install nltk"
   ]
  },
  {
   "cell_type": "markdown",
   "metadata": {},
   "source": [
    "Before we run VADER, we need to install the tool."
   ]
  },
  {
   "cell_type": "code",
   "execution_count": 33,
   "metadata": {},
   "outputs": [
    {
     "name": "stderr",
     "output_type": "stream",
     "text": [
      "[nltk_data] Downloading package vader_lexicon to\n",
      "[nltk_data]     /Users/ivanfeng/nltk_data...\n",
      "[nltk_data]   Package vader_lexicon is already up-to-date!\n"
     ]
    },
    {
     "data": {
      "text/plain": [
       "True"
      ]
     },
     "execution_count": 33,
     "metadata": {},
     "output_type": "execute_result"
    }
   ],
   "source": [
    "# we need to install the vader lexicon first\n",
    "import nltk\n",
    "nltk.download('vader_lexicon')"
   ]
  },
  {
   "cell_type": "markdown",
   "metadata": {},
   "source": [
    "Now we can load and initialize the VADER Sentiment analyzer"
   ]
  },
  {
   "cell_type": "code",
   "execution_count": 36,
   "metadata": {},
   "outputs": [],
   "source": [
    "from nltk.sentiment import vader\n",
    "analyzer = vader.SentimentIntensityAnalyzer()"
   ]
  },
  {
   "cell_type": "markdown",
   "metadata": {},
   "source": [
    "Below you can test VADER yourself by changing the value of the ``text`` variable, and running the code block. \n",
    "\n",
    "Can you trick the system? Not very easy isn't it?!"
   ]
  },
  {
   "cell_type": "code",
   "execution_count": 2,
   "metadata": {},
   "outputs": [
    {
     "name": "stdout",
     "output_type": "stream",
     "text": [
      "{'neg': 0.693, 'neu': 0.307, 'pos': 0.0, 'compound': -0.3089}\n"
     ]
    }
   ],
   "source": [
    "text = \"Not interesting.\"\n",
    "sentiments_analysis = analyzer.polarity_scores(text)\n",
    "print(sentiments_analysis)"
   ]
  },
  {
   "cell_type": "markdown",
   "metadata": {},
   "source": [
    "#### Exercise\n",
    "\n",
    "Copy-paste the code above, but change the `text` variable and inspect the emotion scores VADER produces (try typing a very positive and a very negative sentence). Also, try to fool VADER by writing complex sentences with negations (such as \"not sad\")."
   ]
  },
  {
   "cell_type": "code",
   "execution_count": 3,
   "metadata": {},
   "outputs": [
    {
     "name": "stdout",
     "output_type": "stream",
     "text": [
      "{'neg': 0.245, 'neu': 0.504, 'pos': 0.251, 'compound': 0.0236}\n"
     ]
    }
   ],
   "source": [
    "# insert code here\n",
    "text = \"he is so smart, which makes him stupid sometimes.\"\n",
    "sentiments_analysis = analyzer.polarity_scores(text)\n",
    "print(sentiments_analysis)"
   ]
  },
  {
   "cell_type": "markdown",
   "metadata": {},
   "source": [
    "We are interested here in the compound emotion, a combination of positive and negative sentiment. We can select this specific value by putting the string 'compound' between square brackets:"
   ]
  },
  {
   "cell_type": "code",
   "execution_count": 4,
   "metadata": {},
   "outputs": [
    {
     "data": {
      "text/plain": [
       "0.0236"
      ]
     },
     "execution_count": 4,
     "metadata": {},
     "output_type": "execute_result"
    }
   ],
   "source": [
    "sentiments_analysis['compound']"
   ]
  },
  {
   "cell_type": "markdown",
   "metadata": {},
   "source": [
    "We can things a make easier, by writing a function that does this at once, i.e. return the compound score given a text. Just run the cell below, don't worry about the syntax."
   ]
  },
  {
   "cell_type": "code",
   "execution_count": 5,
   "metadata": {},
   "outputs": [],
   "source": [
    "# run this cell to create the function\n",
    "def compound_sentiment(text):\n",
    "    sentiments_analysis = analyzer.polarity_scores(str(text))\n",
    "    return sentiments_analysis['compound']"
   ]
  },
  {
   "cell_type": "code",
   "execution_count": 6,
   "metadata": {},
   "outputs": [
    {
     "data": {
      "text/plain": [
       "-0.4015"
      ]
     },
     "execution_count": 6,
     "metadata": {},
     "output_type": "execute_result"
    }
   ],
   "source": [
    "example_text = \"This is sooooo not funny!\"\n",
    "compound_sentiment(example_text)"
   ]
  },
  {
   "cell_type": "markdown",
   "metadata": {},
   "source": [
    "`compound_sentiment` takes a text and returns the compound sentiment computed by VADER. This technique allows us to study emotional behaviour online, based on the posts users write.  "
   ]
  },
  {
   "cell_type": "markdown",
   "metadata": {},
   "source": [
    "Once we have all the data in a DataFrame we can easily apply the `compound_sentiment` function to **all** comments. For such an operation--applying a function to all rows in a DataFrame--Pandas offers the `.apply()` method. In the cells below, we will investigate emotion in comments on the New York Times' Facebook page.\n",
    "\n",
    "So let's load the data again. By now, you should know how this works."
   ]
  },
  {
   "cell_type": "code",
   "execution_count": 7,
   "metadata": {},
   "outputs": [
    {
     "data": {
      "text/plain": [
       "position              0.0000\n",
       "post_id               0.0000\n",
       "post_by               0.0000\n",
       "post_text             0.9993\n",
       "post_published        0.0000\n",
       "comment_id            0.0000\n",
       "comment_by            0.0000\n",
       "is_reply              0.0000\n",
       "comment_message       0.7279\n",
       "comment_published     0.0000\n",
       "comment_like_count    0.0000\n",
       "attachment_type       0.2960\n",
       "attachment_url        0.0000\n",
       "dtype: float64"
      ]
     },
     "execution_count": 7,
     "metadata": {},
     "output_type": "execute_result"
    }
   ],
   "source": [
    "url = 'https://raw.githubusercontent.com/kasparvonbeelen/CTH2019/master/data_nytimes/page_5281959998_2018_12_28_22_00_39_comments.tab'\n",
    "# insert code here\n",
    "import pandas as pd\n",
    "df = pd.read_csv(url, sep='\\t')\n",
    "def compound_sentiment(df):\n",
    "    sentiments_analysis = analyzer.polarity_scores(str(df))\n",
    "    return sentiments_analysis['compound']\n",
    "df.apply(compound_sentiment)"
   ]
  },
  {
   "cell_type": "markdown",
   "metadata": {},
   "source": [
    "Let's first try to compute sentiment present in the **posts** (instead of the comments). Look attentively at the syntax below. \n",
    "\n",
    "- `df['post_text']`: selects the column we want to use for sentiment mining\n",
    "- .apply(compound_sentiment): apply the function between the paranthesis to this column"
   ]
  },
  {
   "cell_type": "code",
   "execution_count": 8,
   "metadata": {},
   "outputs": [
    {
     "data": {
      "text/html": [
       "<div>\n",
       "<style scoped>\n",
       "    .dataframe tbody tr th:only-of-type {\n",
       "        vertical-align: middle;\n",
       "    }\n",
       "\n",
       "    .dataframe tbody tr th {\n",
       "        vertical-align: top;\n",
       "    }\n",
       "\n",
       "    .dataframe thead th {\n",
       "        text-align: right;\n",
       "    }\n",
       "</style>\n",
       "<table border=\"1\" class=\"dataframe\">\n",
       "  <thead>\n",
       "    <tr style=\"text-align: right;\">\n",
       "      <th></th>\n",
       "      <th>position</th>\n",
       "      <th>post_id</th>\n",
       "      <th>post_by</th>\n",
       "      <th>post_text</th>\n",
       "      <th>post_published</th>\n",
       "      <th>comment_id</th>\n",
       "      <th>comment_by</th>\n",
       "      <th>is_reply</th>\n",
       "      <th>comment_message</th>\n",
       "      <th>comment_published</th>\n",
       "      <th>comment_like_count</th>\n",
       "      <th>attachment_type</th>\n",
       "      <th>attachment_url</th>\n",
       "      <th>post_emotion</th>\n",
       "    </tr>\n",
       "  </thead>\n",
       "  <tbody>\n",
       "    <tr>\n",
       "      <th>0</th>\n",
       "      <td>0_0</td>\n",
       "      <td>5281959998_10151785869499999</td>\n",
       "      <td>825d8dd2a27d4f84aec9008bf96872ffb2a4a4ad</td>\n",
       "      <td>Facebook keeps its rulebooks and their existen...</td>\n",
       "      <td>2018-12-28T20:55:00+0000</td>\n",
       "      <td>10151785869499999_10151786007069999</td>\n",
       "      <td>da39a3ee5e6b4b0d3255bfef95601890afd80709</td>\n",
       "      <td>0</td>\n",
       "      <td>\"Suzie34542244511, Ohio soccer mom with 130,00...</td>\n",
       "      <td>2018-12-28T21:00:22+0000</td>\n",
       "      <td>0</td>\n",
       "      <td>NaN</td>\n",
       "      <td>NaN</td>\n",
       "      <td>-0.2144</td>\n",
       "    </tr>\n",
       "    <tr>\n",
       "      <th>1</th>\n",
       "      <td>0_1</td>\n",
       "      <td>5281959998_10151785869499999</td>\n",
       "      <td>825d8dd2a27d4f84aec9008bf96872ffb2a4a4ad</td>\n",
       "      <td>Facebook keeps its rulebooks and their existen...</td>\n",
       "      <td>2018-12-28T20:55:00+0000</td>\n",
       "      <td>10151785869499999_10151786005479999</td>\n",
       "      <td>da39a3ee5e6b4b0d3255bfef95601890afd80709</td>\n",
       "      <td>0</td>\n",
       "      <td>#ReleaseThePeePeeTapes God bless America.</td>\n",
       "      <td>2018-12-28T20:55:28+0000</td>\n",
       "      <td>1</td>\n",
       "      <td>NaN</td>\n",
       "      <td>NaN</td>\n",
       "      <td>-0.2144</td>\n",
       "    </tr>\n",
       "    <tr>\n",
       "      <th>2</th>\n",
       "      <td>1_0</td>\n",
       "      <td>5281959998_10151785978419999</td>\n",
       "      <td>825d8dd2a27d4f84aec9008bf96872ffb2a4a4ad</td>\n",
       "      <td>In 1972  Jerry Lewis  best known for mainstrea...</td>\n",
       "      <td>2018-12-28T20:25:00+0000</td>\n",
       "      <td>10151785978419999_10151785995194999</td>\n",
       "      <td>da39a3ee5e6b4b0d3255bfef95601890afd80709</td>\n",
       "      <td>0</td>\n",
       "      <td>stille die besten..</td>\n",
       "      <td>2018-12-28T20:28:07+0000</td>\n",
       "      <td>0</td>\n",
       "      <td>NaN</td>\n",
       "      <td>NaN</td>\n",
       "      <td>0.9274</td>\n",
       "    </tr>\n",
       "    <tr>\n",
       "      <th>3</th>\n",
       "      <td>1_1</td>\n",
       "      <td>5281959998_10151785978419999</td>\n",
       "      <td>825d8dd2a27d4f84aec9008bf96872ffb2a4a4ad</td>\n",
       "      <td>In 1972  Jerry Lewis  best known for mainstrea...</td>\n",
       "      <td>2018-12-28T20:25:00+0000</td>\n",
       "      <td>10151785978419999_10151786003144999</td>\n",
       "      <td>da39a3ee5e6b4b0d3255bfef95601890afd80709</td>\n",
       "      <td>0</td>\n",
       "      <td>Jerry Lewis was a great comedian but often got...</td>\n",
       "      <td>2018-12-28T20:49:10+0000</td>\n",
       "      <td>1</td>\n",
       "      <td>NaN</td>\n",
       "      <td>NaN</td>\n",
       "      <td>0.9274</td>\n",
       "    </tr>\n",
       "    <tr>\n",
       "      <th>4</th>\n",
       "      <td>1_2</td>\n",
       "      <td>5281959998_10151785978419999</td>\n",
       "      <td>825d8dd2a27d4f84aec9008bf96872ffb2a4a4ad</td>\n",
       "      <td>In 1972  Jerry Lewis  best known for mainstrea...</td>\n",
       "      <td>2018-12-28T20:25:00+0000</td>\n",
       "      <td>10151785978419999_10151785999574999</td>\n",
       "      <td>da39a3ee5e6b4b0d3255bfef95601890afd80709</td>\n",
       "      <td>0</td>\n",
       "      <td>I thought cinema's greatest White Whale was \"H...</td>\n",
       "      <td>2018-12-28T20:39:21+0000</td>\n",
       "      <td>0</td>\n",
       "      <td>NaN</td>\n",
       "      <td>NaN</td>\n",
       "      <td>0.9274</td>\n",
       "    </tr>\n",
       "  </tbody>\n",
       "</table>\n",
       "</div>"
      ],
      "text/plain": [
       "  position                       post_id  \\\n",
       "0      0_0  5281959998_10151785869499999   \n",
       "1      0_1  5281959998_10151785869499999   \n",
       "2      1_0  5281959998_10151785978419999   \n",
       "3      1_1  5281959998_10151785978419999   \n",
       "4      1_2  5281959998_10151785978419999   \n",
       "\n",
       "                                    post_by  \\\n",
       "0  825d8dd2a27d4f84aec9008bf96872ffb2a4a4ad   \n",
       "1  825d8dd2a27d4f84aec9008bf96872ffb2a4a4ad   \n",
       "2  825d8dd2a27d4f84aec9008bf96872ffb2a4a4ad   \n",
       "3  825d8dd2a27d4f84aec9008bf96872ffb2a4a4ad   \n",
       "4  825d8dd2a27d4f84aec9008bf96872ffb2a4a4ad   \n",
       "\n",
       "                                           post_text  \\\n",
       "0  Facebook keeps its rulebooks and their existen...   \n",
       "1  Facebook keeps its rulebooks and their existen...   \n",
       "2  In 1972  Jerry Lewis  best known for mainstrea...   \n",
       "3  In 1972  Jerry Lewis  best known for mainstrea...   \n",
       "4  In 1972  Jerry Lewis  best known for mainstrea...   \n",
       "\n",
       "             post_published                           comment_id  \\\n",
       "0  2018-12-28T20:55:00+0000  10151785869499999_10151786007069999   \n",
       "1  2018-12-28T20:55:00+0000  10151785869499999_10151786005479999   \n",
       "2  2018-12-28T20:25:00+0000  10151785978419999_10151785995194999   \n",
       "3  2018-12-28T20:25:00+0000  10151785978419999_10151786003144999   \n",
       "4  2018-12-28T20:25:00+0000  10151785978419999_10151785999574999   \n",
       "\n",
       "                                 comment_by  is_reply  \\\n",
       "0  da39a3ee5e6b4b0d3255bfef95601890afd80709         0   \n",
       "1  da39a3ee5e6b4b0d3255bfef95601890afd80709         0   \n",
       "2  da39a3ee5e6b4b0d3255bfef95601890afd80709         0   \n",
       "3  da39a3ee5e6b4b0d3255bfef95601890afd80709         0   \n",
       "4  da39a3ee5e6b4b0d3255bfef95601890afd80709         0   \n",
       "\n",
       "                                     comment_message  \\\n",
       "0  \"Suzie34542244511, Ohio soccer mom with 130,00...   \n",
       "1          #ReleaseThePeePeeTapes God bless America.   \n",
       "2                                stille die besten..   \n",
       "3  Jerry Lewis was a great comedian but often got...   \n",
       "4  I thought cinema's greatest White Whale was \"H...   \n",
       "\n",
       "          comment_published  comment_like_count attachment_type  \\\n",
       "0  2018-12-28T21:00:22+0000                   0             NaN   \n",
       "1  2018-12-28T20:55:28+0000                   1             NaN   \n",
       "2  2018-12-28T20:28:07+0000                   0             NaN   \n",
       "3  2018-12-28T20:49:10+0000                   1             NaN   \n",
       "4  2018-12-28T20:39:21+0000                   0             NaN   \n",
       "\n",
       "  attachment_url  post_emotion  \n",
       "0            NaN       -0.2144  \n",
       "1            NaN       -0.2144  \n",
       "2            NaN        0.9274  \n",
       "3            NaN        0.9274  \n",
       "4            NaN        0.9274  "
      ]
     },
     "execution_count": 8,
     "metadata": {},
     "output_type": "execute_result"
    }
   ],
   "source": [
    "df['post_emotion'] = df['post_text'].apply(compound_sentiment)\n",
    "df.head()"
   ]
  },
  {
   "cell_type": "markdown",
   "metadata": {},
   "source": [
    "#### \\*\\*\\*Exercise\n",
    "\n",
    "Plot a histogram that visualises the distribution of the emotion scores returned by VADER."
   ]
  },
  {
   "cell_type": "code",
   "execution_count": 9,
   "metadata": {},
   "outputs": [
    {
     "data": {
      "text/plain": [
       "<matplotlib.axes._subplots.AxesSubplot at 0x1a176e26a0>"
      ]
     },
     "execution_count": 9,
     "metadata": {},
     "output_type": "execute_result"
    },
    {
     "data": {
      "image/png": "[encoded data removed]",
      "text/plain": [
       "<Figure size 432x288 with 1 Axes>"
      ]
     },
     "metadata": {
      "needs_background": "light"
     },
     "output_type": "display_data"
    }
   ],
   "source": [
    "# insert code here\n",
    "%matplotlib inline\n",
    "df['post_emotion'].plot(kind='hist')"
   ]
  },
  {
   "cell_type": "markdown",
   "metadata": {},
   "source": [
    "What is the average emotion score?"
   ]
  },
  {
   "cell_type": "code",
   "execution_count": 10,
   "metadata": {},
   "outputs": [
    {
     "data": {
      "text/plain": [
       "-0.009281088145900966"
      ]
     },
     "execution_count": 10,
     "metadata": {},
     "output_type": "execute_result"
    }
   ],
   "source": [
    "# insert code here\n",
    "df['post_emotion'].mean()\n"
   ]
  },
  {
   "cell_type": "markdown",
   "metadata": {},
   "source": [
    "Now apply `compound_sentiment` to the **comments** (above we applied it only to the posts). Save these scores in a new column `comment_emotion`."
   ]
  },
  {
   "cell_type": "code",
   "execution_count": 11,
   "metadata": {},
   "outputs": [
    {
     "data": {
      "text/html": [
       "<div>\n",
       "<style scoped>\n",
       "    .dataframe tbody tr th:only-of-type {\n",
       "        vertical-align: middle;\n",
       "    }\n",
       "\n",
       "    .dataframe tbody tr th {\n",
       "        vertical-align: top;\n",
       "    }\n",
       "\n",
       "    .dataframe thead th {\n",
       "        text-align: right;\n",
       "    }\n",
       "</style>\n",
       "<table border=\"1\" class=\"dataframe\">\n",
       "  <thead>\n",
       "    <tr style=\"text-align: right;\">\n",
       "      <th></th>\n",
       "      <th>position</th>\n",
       "      <th>post_id</th>\n",
       "      <th>post_by</th>\n",
       "      <th>post_text</th>\n",
       "      <th>post_published</th>\n",
       "      <th>comment_id</th>\n",
       "      <th>comment_by</th>\n",
       "      <th>is_reply</th>\n",
       "      <th>comment_message</th>\n",
       "      <th>comment_published</th>\n",
       "      <th>comment_like_count</th>\n",
       "      <th>attachment_type</th>\n",
       "      <th>attachment_url</th>\n",
       "      <th>post_emotion</th>\n",
       "      <th>comment_emotion</th>\n",
       "    </tr>\n",
       "  </thead>\n",
       "  <tbody>\n",
       "    <tr>\n",
       "      <th>0</th>\n",
       "      <td>0_0</td>\n",
       "      <td>5281959998_10151785869499999</td>\n",
       "      <td>825d8dd2a27d4f84aec9008bf96872ffb2a4a4ad</td>\n",
       "      <td>Facebook keeps its rulebooks and their existen...</td>\n",
       "      <td>2018-12-28T20:55:00+0000</td>\n",
       "      <td>10151785869499999_10151786007069999</td>\n",
       "      <td>da39a3ee5e6b4b0d3255bfef95601890afd80709</td>\n",
       "      <td>0</td>\n",
       "      <td>\"Suzie34542244511, Ohio soccer mom with 130,00...</td>\n",
       "      <td>2018-12-28T21:00:22+0000</td>\n",
       "      <td>0</td>\n",
       "      <td>NaN</td>\n",
       "      <td>NaN</td>\n",
       "      <td>-0.2144</td>\n",
       "      <td>0.2960</td>\n",
       "    </tr>\n",
       "    <tr>\n",
       "      <th>1</th>\n",
       "      <td>0_1</td>\n",
       "      <td>5281959998_10151785869499999</td>\n",
       "      <td>825d8dd2a27d4f84aec9008bf96872ffb2a4a4ad</td>\n",
       "      <td>Facebook keeps its rulebooks and their existen...</td>\n",
       "      <td>2018-12-28T20:55:00+0000</td>\n",
       "      <td>10151785869499999_10151786005479999</td>\n",
       "      <td>da39a3ee5e6b4b0d3255bfef95601890afd80709</td>\n",
       "      <td>0</td>\n",
       "      <td>#ReleaseThePeePeeTapes God bless America.</td>\n",
       "      <td>2018-12-28T20:55:28+0000</td>\n",
       "      <td>1</td>\n",
       "      <td>NaN</td>\n",
       "      <td>NaN</td>\n",
       "      <td>-0.2144</td>\n",
       "      <td>0.5994</td>\n",
       "    </tr>\n",
       "    <tr>\n",
       "      <th>2</th>\n",
       "      <td>1_0</td>\n",
       "      <td>5281959998_10151785978419999</td>\n",
       "      <td>825d8dd2a27d4f84aec9008bf96872ffb2a4a4ad</td>\n",
       "      <td>In 1972  Jerry Lewis  best known for mainstrea...</td>\n",
       "      <td>2018-12-28T20:25:00+0000</td>\n",
       "      <td>10151785978419999_10151785995194999</td>\n",
       "      <td>da39a3ee5e6b4b0d3255bfef95601890afd80709</td>\n",
       "      <td>0</td>\n",
       "      <td>stille die besten..</td>\n",
       "      <td>2018-12-28T20:28:07+0000</td>\n",
       "      <td>0</td>\n",
       "      <td>NaN</td>\n",
       "      <td>NaN</td>\n",
       "      <td>0.9274</td>\n",
       "      <td>-0.5994</td>\n",
       "    </tr>\n",
       "    <tr>\n",
       "      <th>3</th>\n",
       "      <td>1_1</td>\n",
       "      <td>5281959998_10151785978419999</td>\n",
       "      <td>825d8dd2a27d4f84aec9008bf96872ffb2a4a4ad</td>\n",
       "      <td>In 1972  Jerry Lewis  best known for mainstrea...</td>\n",
       "      <td>2018-12-28T20:25:00+0000</td>\n",
       "      <td>10151785978419999_10151786003144999</td>\n",
       "      <td>da39a3ee5e6b4b0d3255bfef95601890afd80709</td>\n",
       "      <td>0</td>\n",
       "      <td>Jerry Lewis was a great comedian but often got...</td>\n",
       "      <td>2018-12-28T20:49:10+0000</td>\n",
       "      <td>1</td>\n",
       "      <td>NaN</td>\n",
       "      <td>NaN</td>\n",
       "      <td>0.9274</td>\n",
       "      <td>-0.3036</td>\n",
       "    </tr>\n",
       "    <tr>\n",
       "      <th>4</th>\n",
       "      <td>1_2</td>\n",
       "      <td>5281959998_10151785978419999</td>\n",
       "      <td>825d8dd2a27d4f84aec9008bf96872ffb2a4a4ad</td>\n",
       "      <td>In 1972  Jerry Lewis  best known for mainstrea...</td>\n",
       "      <td>2018-12-28T20:25:00+0000</td>\n",
       "      <td>10151785978419999_10151785999574999</td>\n",
       "      <td>da39a3ee5e6b4b0d3255bfef95601890afd80709</td>\n",
       "      <td>0</td>\n",
       "      <td>I thought cinema's greatest White Whale was \"H...</td>\n",
       "      <td>2018-12-28T20:39:21+0000</td>\n",
       "      <td>0</td>\n",
       "      <td>NaN</td>\n",
       "      <td>NaN</td>\n",
       "      <td>0.9274</td>\n",
       "      <td>0.6369</td>\n",
       "    </tr>\n",
       "  </tbody>\n",
       "</table>\n",
       "</div>"
      ],
      "text/plain": [
       "  position                       post_id  \\\n",
       "0      0_0  5281959998_10151785869499999   \n",
       "1      0_1  5281959998_10151785869499999   \n",
       "2      1_0  5281959998_10151785978419999   \n",
       "3      1_1  5281959998_10151785978419999   \n",
       "4      1_2  5281959998_10151785978419999   \n",
       "\n",
       "                                    post_by  \\\n",
       "0  825d8dd2a27d4f84aec9008bf96872ffb2a4a4ad   \n",
       "1  825d8dd2a27d4f84aec9008bf96872ffb2a4a4ad   \n",
       "2  825d8dd2a27d4f84aec9008bf96872ffb2a4a4ad   \n",
       "3  825d8dd2a27d4f84aec9008bf96872ffb2a4a4ad   \n",
       "4  825d8dd2a27d4f84aec9008bf96872ffb2a4a4ad   \n",
       "\n",
       "                                           post_text  \\\n",
       "0  Facebook keeps its rulebooks and their existen...   \n",
       "1  Facebook keeps its rulebooks and their existen...   \n",
       "2  In 1972  Jerry Lewis  best known for mainstrea...   \n",
       "3  In 1972  Jerry Lewis  best known for mainstrea...   \n",
       "4  In 1972  Jerry Lewis  best known for mainstrea...   \n",
       "\n",
       "             post_published                           comment_id  \\\n",
       "0  2018-12-28T20:55:00+0000  10151785869499999_10151786007069999   \n",
       "1  2018-12-28T20:55:00+0000  10151785869499999_10151786005479999   \n",
       "2  2018-12-28T20:25:00+0000  10151785978419999_10151785995194999   \n",
       "3  2018-12-28T20:25:00+0000  10151785978419999_10151786003144999   \n",
       "4  2018-12-28T20:25:00+0000  10151785978419999_10151785999574999   \n",
       "\n",
       "                                 comment_by  is_reply  \\\n",
       "0  da39a3ee5e6b4b0d3255bfef95601890afd80709         0   \n",
       "1  da39a3ee5e6b4b0d3255bfef95601890afd80709         0   \n",
       "2  da39a3ee5e6b4b0d3255bfef95601890afd80709         0   \n",
       "3  da39a3ee5e6b4b0d3255bfef95601890afd80709         0   \n",
       "4  da39a3ee5e6b4b0d3255bfef95601890afd80709         0   \n",
       "\n",
       "                                     comment_message  \\\n",
       "0  \"Suzie34542244511, Ohio soccer mom with 130,00...   \n",
       "1          #ReleaseThePeePeeTapes God bless America.   \n",
       "2                                stille die besten..   \n",
       "3  Jerry Lewis was a great comedian but often got...   \n",
       "4  I thought cinema's greatest White Whale was \"H...   \n",
       "\n",
       "          comment_published  comment_like_count attachment_type  \\\n",
       "0  2018-12-28T21:00:22+0000                   0             NaN   \n",
       "1  2018-12-28T20:55:28+0000                   1             NaN   \n",
       "2  2018-12-28T20:28:07+0000                   0             NaN   \n",
       "3  2018-12-28T20:49:10+0000                   1             NaN   \n",
       "4  2018-12-28T20:39:21+0000                   0             NaN   \n",
       "\n",
       "  attachment_url  post_emotion  comment_emotion  \n",
       "0            NaN       -0.2144           0.2960  \n",
       "1            NaN       -0.2144           0.5994  \n",
       "2            NaN        0.9274          -0.5994  \n",
       "3            NaN        0.9274          -0.3036  \n",
       "4            NaN        0.9274           0.6369  "
      ]
     },
     "execution_count": 11,
     "metadata": {},
     "output_type": "execute_result"
    }
   ],
   "source": [
    "# insert code here\n",
    "df['comment_emotion'] = df['comment_message'].apply(compound_sentiment)\n",
    "df.head()"
   ]
  },
  {
   "cell_type": "markdown",
   "metadata": {},
   "source": [
    "Plot the distribution of these emotion scores."
   ]
  },
  {
   "cell_type": "code",
   "execution_count": 13,
   "metadata": {},
   "outputs": [
    {
     "data": {
      "text/plain": [
       "<matplotlib.axes._subplots.AxesSubplot at 0x1a17a8f2b0>"
      ]
     },
     "execution_count": 13,
     "metadata": {},
     "output_type": "execute_result"
    },
    {
     "data": {
      "image/png": "[encoded data removed]",
      "text/plain": [
       "<Figure size 432x288 with 1 Axes>"
      ]
     },
     "metadata": {
      "needs_background": "light"
     },
     "output_type": "display_data"
    }
   ],
   "source": [
    "# insert code here\n",
    "df['comment_emotion'].plot(kind='hist')\n"
   ]
  },
  {
   "cell_type": "markdown",
   "metadata": {},
   "source": [
    "Is the average post more negative than the average comment?"
   ]
  },
  {
   "cell_type": "code",
   "execution_count": 17,
   "metadata": {},
   "outputs": [
    {
     "name": "stdout",
     "output_type": "stream",
     "text": [
      "It is true\n"
     ]
    }
   ],
   "source": [
    "# insert code here\n",
    "if df['post_emotion'].mean() >= df['comment_emotion'].mean():\n",
    "    print ('It is true')\n",
    "   "
   ]
  },
  {
   "cell_type": "markdown",
   "metadata": {},
   "source": [
    "## 3. Research Scenario: Finding the Haters (and Lovers?)\n",
    "\n",
    "In this scenario, we aim to investigate online harrasment by identifying users who comment frequently *and* in a negative way. I selected comments from on an interview with [Taylor Swift](https://raw.githubusercontent.com/kasparvonbeelen/CTH2019/master/data/videoinfo_P-TFhUq3otQ_2019_01_15-11_21_20_comments.tab). Run the example, and replicate the scenario using a video of your own choice."
   ]
  },
  {
   "cell_type": "markdown",
   "metadata": {},
   "source": [
    "We start with loading the data."
   ]
  },
  {
   "cell_type": "code",
   "execution_count": 27,
   "metadata": {},
   "outputs": [],
   "source": [
    "import pandas as pd\n",
    "import nltk\n",
    "url = 'https://raw.githubusercontent.com/kasparvonbeelen/CTH2019/master/data/videoinfo_P-TFhUq3otQ_2019_01_15-11_21_20_comments.tab'\n",
    "dfcomment=pd.read_csv(url,sep='\\t')\n"
   ]
  },
  {
   "cell_type": "markdown",
   "metadata": {},
   "source": [
    "The cell below contains a function to identify only the **negative** sentiment present in a post. After running the cell (and loading it into memory) we can apply it to all the comments."
   ]
  },
  {
   "cell_type": "code",
   "execution_count": 28,
   "metadata": {},
   "outputs": [],
   "source": [
    "def negative_sentiment(text):\n",
    "    sentiments_analysis = analyzer.polarity_scores(str(text))\n",
    "    return sentiments_analysis['neg']"
   ]
  },
  {
   "cell_type": "markdown",
   "metadata": {},
   "source": [
    "#### Exercise\n",
    "\n",
    "Change the text variable below, to undestand how `negative_sentiment` works."
   ]
  },
  {
   "cell_type": "code",
   "execution_count": 35,
   "metadata": {},
   "outputs": [
    {
     "data": {
      "text/plain": [
       "0.531"
      ]
     },
     "execution_count": 35,
     "metadata": {},
     "output_type": "execute_result"
    }
   ],
   "source": [
    "text = 'you are stupid goofy'\n",
    "negative_sentiment(text)"
   ]
  },
  {
   "cell_type": "code",
   "execution_count": 37,
   "metadata": {},
   "outputs": [],
   "source": [
    "dfcomment['negative_emotion'] = dfcomment['text'].apply(negative_sentiment)"
   ]
  },
  {
   "cell_type": "markdown",
   "metadata": {},
   "source": [
    "If you print the first 10 rows, you'll see that the DataFrame now contains a new colomn that records the negative emotion present in a comment."
   ]
  },
  {
   "cell_type": "code",
   "execution_count": 22,
   "metadata": {},
   "outputs": [
    {
     "data": {
      "text/html": [
       "<div>\n",
       "<style scoped>\n",
       "    .dataframe tbody tr th:only-of-type {\n",
       "        vertical-align: middle;\n",
       "    }\n",
       "\n",
       "    .dataframe tbody tr th {\n",
       "        vertical-align: top;\n",
       "    }\n",
       "\n",
       "    .dataframe thead th {\n",
       "        text-align: right;\n",
       "    }\n",
       "</style>\n",
       "<table border=\"1\" class=\"dataframe\">\n",
       "  <thead>\n",
       "    <tr style=\"text-align: right;\">\n",
       "      <th></th>\n",
       "      <th>id</th>\n",
       "      <th>replyCount</th>\n",
       "      <th>likeCount</th>\n",
       "      <th>publishedAt</th>\n",
       "      <th>authorName</th>\n",
       "      <th>text</th>\n",
       "      <th>authorChannelId</th>\n",
       "      <th>authorChannelUrl</th>\n",
       "      <th>isReply</th>\n",
       "      <th>isReplyTo</th>\n",
       "      <th>isReplyToName</th>\n",
       "      <th>negative_emotion</th>\n",
       "    </tr>\n",
       "  </thead>\n",
       "  <tbody>\n",
       "    <tr>\n",
       "      <th>0</th>\n",
       "      <td>UgyNhVnrNpzqHU5hdO54AaABAg</td>\n",
       "      <td>0.0</td>\n",
       "      <td>0</td>\n",
       "      <td>2019-01-12 15:03:29</td>\n",
       "      <td>Moniroth Chan</td>\n",
       "      <td>My goal in life is to meet Taylor</td>\n",
       "      <td>UCn9xqtkMS1w7jbElitb6UXA</td>\n",
       "      <td>http://www.youtube.com/channel/UCn9xqtkMS1w7jb...</td>\n",
       "      <td>0</td>\n",
       "      <td>NaN</td>\n",
       "      <td>NaN</td>\n",
       "      <td>0.000</td>\n",
       "    </tr>\n",
       "    <tr>\n",
       "      <th>1</th>\n",
       "      <td>Ugxrey6blj89EZdXDUF4AaABAg</td>\n",
       "      <td>0.0</td>\n",
       "      <td>0</td>\n",
       "      <td>2019-01-09 04:51:17</td>\n",
       "      <td>Ava</td>\n",
       "      <td>What a sweet girl😍😍😍😘😘😘😘</td>\n",
       "      <td>UC_LG7fhSZZMcbxYLN2D76Uw</td>\n",
       "      <td>http://www.youtube.com/channel/UC_LG7fhSZZMcbx...</td>\n",
       "      <td>0</td>\n",
       "      <td>NaN</td>\n",
       "      <td>NaN</td>\n",
       "      <td>0.000</td>\n",
       "    </tr>\n",
       "    <tr>\n",
       "      <th>2</th>\n",
       "      <td>UgxGA83le3S-7tOmDy54AaABAg</td>\n",
       "      <td>0.0</td>\n",
       "      <td>0</td>\n",
       "      <td>2019-01-08 15:39:13</td>\n",
       "      <td>Hamad Salman</td>\n",
       "      <td>Taylor Swift Likes Letrazole But I&amp;#39;m The O...</td>\n",
       "      <td>UCyCUPXmE8dae597puXZXRuA</td>\n",
       "      <td>http://www.youtube.com/channel/UCyCUPXmE8dae59...</td>\n",
       "      <td>0</td>\n",
       "      <td>NaN</td>\n",
       "      <td>NaN</td>\n",
       "      <td>0.000</td>\n",
       "    </tr>\n",
       "    <tr>\n",
       "      <th>3</th>\n",
       "      <td>UgxBxyt70Cw7O1_SJ4h4AaABAg</td>\n",
       "      <td>0.0</td>\n",
       "      <td>0</td>\n",
       "      <td>2019-01-06 05:37:25</td>\n",
       "      <td>Michael Juerakhan</td>\n",
       "      <td>Reputation yours mine let reputation stay repu...</td>\n",
       "      <td>UCkHPnvQaY1cJnGovjp0V1jg</td>\n",
       "      <td>http://www.youtube.com/channel/UCkHPnvQaY1cJnG...</td>\n",
       "      <td>0</td>\n",
       "      <td>NaN</td>\n",
       "      <td>NaN</td>\n",
       "      <td>0.226</td>\n",
       "    </tr>\n",
       "    <tr>\n",
       "      <th>4</th>\n",
       "      <td>UgwHPCrdPZAr840IzZZ4AaABAg</td>\n",
       "      <td>0.0</td>\n",
       "      <td>0</td>\n",
       "      <td>2019-01-04 10:36:57</td>\n",
       "      <td>Aid Junior Silva</td>\n",
       "      <td>Her fans are called &amp;#39;swifties&amp;#39;.... Pro...</td>\n",
       "      <td>UC7-hFlSVyLyW9wQDTMRMZdw</td>\n",
       "      <td>http://www.youtube.com/channel/UC7-hFlSVyLyW9w...</td>\n",
       "      <td>0</td>\n",
       "      <td>NaN</td>\n",
       "      <td>NaN</td>\n",
       "      <td>0.000</td>\n",
       "    </tr>\n",
       "  </tbody>\n",
       "</table>\n",
       "</div>"
      ],
      "text/plain": [
       "                           id  replyCount  likeCount          publishedAt  \\\n",
       "0  UgyNhVnrNpzqHU5hdO54AaABAg         0.0          0  2019-01-12 15:03:29   \n",
       "1  Ugxrey6blj89EZdXDUF4AaABAg         0.0          0  2019-01-09 04:51:17   \n",
       "2  UgxGA83le3S-7tOmDy54AaABAg         0.0          0  2019-01-08 15:39:13   \n",
       "3  UgxBxyt70Cw7O1_SJ4h4AaABAg         0.0          0  2019-01-06 05:37:25   \n",
       "4  UgwHPCrdPZAr840IzZZ4AaABAg         0.0          0  2019-01-04 10:36:57   \n",
       "\n",
       "          authorName                                               text  \\\n",
       "0      Moniroth Chan                  My goal in life is to meet Taylor   \n",
       "1                Ava                           What a sweet girl😍😍😍😘😘😘😘   \n",
       "2       Hamad Salman  Taylor Swift Likes Letrazole But I&#39;m The O...   \n",
       "3  Michael Juerakhan  Reputation yours mine let reputation stay repu...   \n",
       "4   Aid Junior Silva  Her fans are called &#39;swifties&#39;.... Pro...   \n",
       "\n",
       "            authorChannelId  \\\n",
       "0  UCn9xqtkMS1w7jbElitb6UXA   \n",
       "1  UC_LG7fhSZZMcbxYLN2D76Uw   \n",
       "2  UCyCUPXmE8dae597puXZXRuA   \n",
       "3  UCkHPnvQaY1cJnGovjp0V1jg   \n",
       "4  UC7-hFlSVyLyW9wQDTMRMZdw   \n",
       "\n",
       "                                    authorChannelUrl  isReply isReplyTo  \\\n",
       "0  http://www.youtube.com/channel/UCn9xqtkMS1w7jb...        0       NaN   \n",
       "1  http://www.youtube.com/channel/UC_LG7fhSZZMcbx...        0       NaN   \n",
       "2  http://www.youtube.com/channel/UCyCUPXmE8dae59...        0       NaN   \n",
       "3  http://www.youtube.com/channel/UCkHPnvQaY1cJnG...        0       NaN   \n",
       "4  http://www.youtube.com/channel/UC7-hFlSVyLyW9w...        0       NaN   \n",
       "\n",
       "  isReplyToName  negative_emotion  \n",
       "0           NaN             0.000  \n",
       "1           NaN             0.000  \n",
       "2           NaN             0.000  \n",
       "3           NaN             0.226  \n",
       "4           NaN             0.000  "
      ]
     },
     "execution_count": 22,
     "metadata": {},
     "output_type": "execute_result"
    }
   ],
   "source": [
    "dfcomment.head()"
   ]
  },
  {
   "cell_type": "markdown",
   "metadata": {},
   "source": [
    "Now, we can count how often a user posted under this video by counting the number of comment ids by user. "
   ]
  },
  {
   "cell_type": "code",
   "execution_count": 23,
   "metadata": {},
   "outputs": [
    {
     "data": {
      "text/plain": [
       "authorName\n",
       "- makkachin              1\n",
       "13 Music                 1\n",
       "137rtekke                1\n",
       "1910th                   1\n",
       "1979RayDay               2\n",
       "1GodOnlyOne              1\n",
       "1ranjeeves21             1\n",
       "256 bradley              1\n",
       "333suncat                1\n",
       "88motho                  1\n",
       "90s kidflashbacks        1\n",
       "AHMAD AbuHelal           1\n",
       "ALBER PAJARES            1\n",
       "ANJ                      1\n",
       "Aadityakiran S.          2\n",
       "Aakhya Sinha             1\n",
       "Aaron Festive            2\n",
       "Aashka Shah              4\n",
       "Ab_strxt                 1\n",
       "Ace                      1\n",
       "Actual Communist Bun     1\n",
       "Adam Greene              1\n",
       "Adriene Michelle         1\n",
       "Adventure Clay & Lori    2\n",
       "Agenda Yahudi            3\n",
       "Ahhh AH                  1\n",
       "Aid Junior Silva         1\n",
       "Airlie Maria Heung       1\n",
       "Ak                       8\n",
       "Al Whatley               1\n",
       "                        ..\n",
       "violetgirl1996           1\n",
       "walt686868               1\n",
       "wpaulvandyk              1\n",
       "xflashinglightsx         3\n",
       "xolove kpopkdrama        2\n",
       "xxii                     1\n",
       "yano rain                1\n",
       "youalwaysliveagain       1\n",
       "zack williams            1\n",
       "zasddsaf                 1\n",
       "ziba                     2\n",
       "Śęśródró Półśki          1\n",
       "Николай Сухов            1\n",
       "Рустем Темирлан          1\n",
       "Татьяна                  2\n",
       "Чёрный Снег              1\n",
       "لينا                     1\n",
       "٧                        1\n",
       "•red velvet•             1\n",
       "•• being honest••        1\n",
       "♡rachekitty              2\n",
       "ニアピートゥングケルシ—             1\n",
       "ヤリマンビッチ                  1\n",
       "史鑫                       1\n",
       "曾玉禎                      1\n",
       "武書虫                      1\n",
       "王睿                       1\n",
       "神のもとに生まれし男のひ孫のいとこ        1\n",
       "하이라                      1\n",
       "🍌 Nature’s Dildo 🍌       4\n",
       "Name: id, Length: 1232, dtype: int64"
      ]
     },
     "execution_count": 23,
     "metadata": {},
     "output_type": "execute_result"
    }
   ],
   "source": [
    "users = dfcomment.groupby('authorName')['id'].count()\n",
    "users"
   ]
  },
  {
   "cell_type": "markdown",
   "metadata": {},
   "source": [
    "As we are only interested in the very active users, we sort the Series in descending order."
   ]
  },
  {
   "cell_type": "code",
   "execution_count": 24,
   "metadata": {},
   "outputs": [
    {
     "data": {
      "text/plain": [
       "authorName\n",
       "Luciano Vasquez                     80\n",
       "Ashley Maria                        48\n",
       "rosana conta3                       34\n",
       "NJ Ringlord                         26\n",
       "ann landers                         23\n",
       "LeKaiser                            18\n",
       "heidos7                             14\n",
       "n i c o l e                         14\n",
       "donna easty                         13\n",
       "namelessfire                        13\n",
       "Upscale Avenue                      11\n",
       "Rotary!                             10\n",
       "ildottoreno46                       10\n",
       "Chimkinnuggers2888                  10\n",
       "BellinghamsterTrail                 10\n",
       "Ak                                   8\n",
       "frankie4you2013                      8\n",
       "John Vu                              8\n",
       "SleepyHead                           8\n",
       "ModeratelyIndecisive                 8\n",
       "jboy ox                              7\n",
       "Alejandra Escutia Angulo             7\n",
       "Kylie Sparks                         7\n",
       "Sabhyata Singh                       7\n",
       "Invidious                            7\n",
       "RoomWithAView                        7\n",
       "WinterGirl                           7\n",
       "Da Liang                             6\n",
       "Chiamaka                             6\n",
       "user                                 6\n",
       "                                    ..\n",
       "Shreddha Raj                         1\n",
       "Shinro T                             1\n",
       "Shilpa Singh                         1\n",
       "Shiana T                             1\n",
       "Shbinder Kaur                        1\n",
       "Shayla Tt                            1\n",
       "Shaun Weiss                          1\n",
       "Sharon R                             1\n",
       "Shane Dawson Cures my depression     1\n",
       "Shailaya Johnson                     1\n",
       "Shadow_heart_13 Shadow_heart_13      1\n",
       "Seveen Blackflame                    1\n",
       "Seth Adame                           1\n",
       "Scott Scott                          1\n",
       "Saidah Ervin                         1\n",
       "Scott Green                          1\n",
       "Scooter Thief                        1\n",
       "Scaar                                1\n",
       "Satan Fragments                      1\n",
       "Sarahi Viscarra                      1\n",
       "Sarah Schneider                      1\n",
       "Sarah Connor                         1\n",
       "Sara Righetti                        1\n",
       "Sara LobCab                          1\n",
       "Sara Bara                            1\n",
       "Sam Lesly                            1\n",
       "Salma Sea                            1\n",
       "Salazama                             1\n",
       "Sakura Christine Ito                 1\n",
       "- makkachin                          1\n",
       "Name: id, Length: 1232, dtype: int64"
      ]
     },
     "execution_count": 24,
     "metadata": {},
     "output_type": "execute_result"
    }
   ],
   "source": [
    "users_sorted = users.sort_values(ascending=False)\n",
    "users_sorted"
   ]
  },
  {
   "cell_type": "markdown",
   "metadata": {
    "collapsed": true
   },
   "source": [
    "The `.index` attribute contains the actual name of the users, sorted by the number of comments they posted"
   ]
  },
  {
   "cell_type": "code",
   "execution_count": 25,
   "metadata": {},
   "outputs": [
    {
     "data": {
      "text/plain": [
       "Index(['Luciano Vasquez', 'Ashley Maria', 'rosana conta3', 'NJ Ringlord',\n",
       "       'ann landers', 'LeKaiser', 'heidos7', 'n i c o l e', 'donna easty',\n",
       "       'namelessfire',\n",
       "       ...\n",
       "       'Sarah Schneider', 'Sarah Connor', 'Sara Righetti', 'Sara LobCab',\n",
       "       'Sara Bara', 'Sam Lesly', 'Salma Sea', 'Salazama',\n",
       "       'Sakura Christine Ito', '- makkachin'],\n",
       "      dtype='object', name='authorName', length=1232)"
      ]
     },
     "execution_count": 25,
     "metadata": {},
     "output_type": "execute_result"
    }
   ],
   "source": [
    "users_sorted.index"
   ]
  },
  {
   "cell_type": "markdown",
   "metadata": {},
   "source": [
    "For this example, we only look at the 10 most active users. These we can select by applying the square brackets to the Series."
   ]
  },
  {
   "cell_type": "code",
   "execution_count": 26,
   "metadata": {},
   "outputs": [
    {
     "data": {
      "text/plain": [
       "Index(['Luciano Vasquez', 'Ashley Maria', 'rosana conta3', 'NJ Ringlord',\n",
       "       'ann landers', 'LeKaiser', 'heidos7', 'n i c o l e', 'donna easty',\n",
       "       'namelessfire'],\n",
       "      dtype='object', name='authorName')"
      ]
     },
     "execution_count": 26,
     "metadata": {},
     "output_type": "execute_result"
    }
   ],
   "source": [
    "ten_most_active = users_sorted.index[:10]\n",
    "ten_most_active "
   ]
  },
  {
   "cell_type": "markdown",
   "metadata": {},
   "source": [
    "Once we have these names, we can select rows where the user name appears in the `ten_most_active` list. In Pandas, we can create a mask with `list1.isin(list2)`. The method `.isin()` checks whether elements from `list1` appear in `list2`. More precisely, which values in the column 'authorName' appear in the `ten_most_active` Series. The cell below prints the rows for which this condition holds."
   ]
  },
  {
   "cell_type": "code",
   "execution_count": 27,
   "metadata": {},
   "outputs": [
    {
     "data": {
      "text/plain": [
       "0       False\n",
       "1       False\n",
       "2       False\n",
       "3       False\n",
       "4       False\n",
       "5       False\n",
       "6       False\n",
       "7       False\n",
       "8       False\n",
       "9       False\n",
       "10      False\n",
       "11      False\n",
       "12      False\n",
       "13      False\n",
       "14      False\n",
       "15      False\n",
       "16      False\n",
       "17      False\n",
       "18      False\n",
       "19      False\n",
       "20      False\n",
       "21      False\n",
       "22      False\n",
       "23      False\n",
       "24      False\n",
       "25      False\n",
       "26      False\n",
       "27      False\n",
       "28      False\n",
       "29      False\n",
       "        ...  \n",
       "2005    False\n",
       "2006     True\n",
       "2007    False\n",
       "2008    False\n",
       "2009    False\n",
       "2010    False\n",
       "2011    False\n",
       "2012    False\n",
       "2013    False\n",
       "2014    False\n",
       "2015     True\n",
       "2016    False\n",
       "2017    False\n",
       "2018     True\n",
       "2019    False\n",
       "2020    False\n",
       "2021    False\n",
       "2022    False\n",
       "2023    False\n",
       "2024    False\n",
       "2025    False\n",
       "2026    False\n",
       "2027    False\n",
       "2028    False\n",
       "2029    False\n",
       "2030    False\n",
       "2031    False\n",
       "2032    False\n",
       "2033    False\n",
       "2034    False\n",
       "Name: authorName, Length: 2035, dtype: bool"
      ]
     },
     "execution_count": 27,
     "metadata": {},
     "output_type": "execute_result"
    }
   ],
   "source": [
    "dfcomment['authorName'].isin(ten_most_active)"
   ]
  },
  {
   "cell_type": "markdown",
   "metadata": {},
   "source": [
    "We save rows created by the these most active users in a separate DataFrame. You'll notice that we discard quite some information as most users only post once."
   ]
  },
  {
   "cell_type": "code",
   "execution_count": 28,
   "metadata": {},
   "outputs": [
    {
     "data": {
      "text/plain": [
       "(283, 12)"
      ]
     },
     "execution_count": 28,
     "metadata": {},
     "output_type": "execute_result"
    }
   ],
   "source": [
    "df_active_users = dfcomment[dfcomment['authorName'].isin(ten_most_active)]\n",
    "df_active_users.shape"
   ]
  },
  {
   "cell_type": "markdown",
   "metadata": {},
   "source": [
    "Lastly, we rely on `.groupby()` to compute the mean of the negative emotion scores (by user)."
   ]
  },
  {
   "cell_type": "code",
   "execution_count": 29,
   "metadata": {},
   "outputs": [
    {
     "data": {
      "text/plain": [
       "authorName\n",
       "Ashley Maria       0.181792\n",
       "LeKaiser           0.066722\n",
       "Luciano Vasquez    0.115663\n",
       "NJ Ringlord        0.107808\n",
       "ann landers        0.144304\n",
       "donna easty        0.079692\n",
       "heidos7            0.058214\n",
       "n i c o l e        0.190286\n",
       "namelessfire       0.092462\n",
       "rosana conta3      0.113235\n",
       "Name: negative_emotion, dtype: float64"
      ]
     },
     "execution_count": 29,
     "metadata": {},
     "output_type": "execute_result"
    }
   ],
   "source": [
    "negative_commenters = df_active_users.groupby('authorName')['negative_emotion'].mean()\n",
    "negative_commenters"
   ]
  },
  {
   "cell_type": "markdown",
   "metadata": {},
   "source": [
    "Oh, and don't forget to sort the users by their negativity."
   ]
  },
  {
   "cell_type": "code",
   "execution_count": 30,
   "metadata": {},
   "outputs": [
    {
     "data": {
      "text/plain": [
       "authorName\n",
       "n i c o l e        0.190286\n",
       "Ashley Maria       0.181792\n",
       "ann landers        0.144304\n",
       "Luciano Vasquez    0.115663\n",
       "rosana conta3      0.113235\n",
       "NJ Ringlord        0.107808\n",
       "namelessfire       0.092462\n",
       "donna easty        0.079692\n",
       "LeKaiser           0.066722\n",
       "heidos7            0.058214\n",
       "Name: negative_emotion, dtype: float64"
      ]
     },
     "execution_count": 30,
     "metadata": {},
     "output_type": "execute_result"
    }
   ],
   "source": [
    "negative_commenters.sort_values(ascending=False)"
   ]
  },
  {
   "cell_type": "markdown",
   "metadata": {},
   "source": [
    "With `.loc` we can inspect what these users actually wrote:"
   ]
  },
  {
   "cell_type": "code",
   "execution_count": 39,
   "metadata": {},
   "outputs": [
    {
     "name": "stdout",
     "output_type": "stream",
     "text": [
      "376    Oh I spotted a hater and an kanye west fan. Why did you do this? I mean, I don't like Kanye West and the Kardashians but I won't say that they are being fake. If Taylor acts good in front of camera, it doesn't mean that she's just being fake. Same to Kimye, if they act rude and such in front of camera, they are still the same irl.                                                                                                                                                                                                                                                                                                                                                                                                                                                                                                                                                                                                              \n",
      "418    Lies*                                                                                                                                                                                                                                                                                                                                                                                                                                                                                                                                                                                                                                                                                                                                                                                                                                                                                                                                                     \n",
      "419    You probably hate everyone because each of us lie                                                                                                                                                                                                                                                                                                                                                                                                                                                                                                                                                                                                                                                                                                                                                                                                                                                                                                         \n",
      "423    She isn't perfect dude. This is why swifties are judged too much! It's because y'all haters are calling Taylor perfect when her fans don't think that way. People committed and will always commit mistakes no matter what happens. But it seems like no matter how big or small mistakes that Taylor has done, y'all will still judge her and call her snake when in fact we all commit the same mistakes that she has done! Please grab some respect and remember that Taylor Swift is just a freakin human like you who has a feelings, who has a right to commit mistakes, who has a right to write songs about anything that she wants, who has a right to be sad and hurt and every single right that you have. Stop being judgemental and don't spread negativity. If you don't like someone, just keep it that way! Keep your thoughts in your mind and again dont spread negative vibes. And learn how to respect. Yep that's all have a nice day\n",
      "430    Learn how to spell bitch first and learn how to respect someone before commenting those haha                                                                                                                                                                                                                                                                                                                                                                                                                                                                                                                                                                                                                                                                                                                                                                                                                                                              \n",
      "434    Lies spotted                                                                                                                                                                                                                                                                                                                                                                                                                                                                                                                                                                                                                                                                                                                                                                                                                                                                                                                                              \n",
      "436    She is successful because there are so many haters like you who will bother to comment on a taylor related video which gives her inspiration to write meaningful songs about mean haters and etc                                                                                                                                                                                                                                                                                                                                                                                                                                                                                                                                                                                                                                                                                                                                                          \n",
      "520    As a fan I am so proud and happy that Taylor is reaching success more and more every year because that's what she deserves.                                                                                                                                                                                                                                                                                                                                                                                                                                                                                                                                                                                                                                                                                                                                                                                                                               \n",
      "538    I meant might*, not must                                                                                                                                                                                                                                                                                                                                                                                                                                                                                                                                                                                                                                                                                                                                                                                                                                                                                                                                  \n",
      "539    ^haha dude you just said she must be self-centered behind the scenes. But if she really is, she wont bother give her fan money and make sure the fan will be home safely.                                                                                                                                                                                                                                                                                                                                                                                                                                                                                                                                                                                                                                                                                                                                                                                 \n",
      "541    yes. She even helped one of her fans to be at home safely after her concert because she noticed that the fan has no money and it was late that time. (The fan posted it at tumblr so yep)                                                                                                                                                                                                                                                                                                                                                                                                                                                                                                                                                                                                                                                                                                                                                                 \n",
      "602    Maybe because they just know all Taylor's mistakes                                                                                                                                                                                                                                                                                                                                                                                                                                                                                                                                                                                                                                                                                                                                                                                                                                                                                                        \n",
      "634    +ɐuıloɹɐɔ uɹnʇɐs but gay isn't an insult                                                                                                                                                                                                                                                                                                                                                                                                                                                                                                                                                                                                                                                                                                                                                                                                                                                                                                                  \n",
      "959    +Asdfasd Asdfasdf lies                                                                                                                                                                                                                                                                                                                                                                                                                                                                                                                                                                                                                                                                                                                                                                                                                                                                                                                                    \n",
      "Name: text, dtype: object\n"
     ]
    }
   ],
   "source": [
    "pd.options.display.max_colwidth = -1 # ignore this, this is just to print more text\n",
    "print(dfcomment.loc[dfcomment['authorName'] == 'n i c o l e','text'])\n",
    "pd.options.display.max_colwidth = 50 # ignore this, this is just to print more text"
   ]
  },
  {
   "cell_type": "markdown",
   "metadata": {},
   "source": [
    "#### \\*\\*\\*Exercise\n",
    "\n",
    "Replicate this scenario with a YouTube video of your own choice."
   ]
  },
  {
   "cell_type": "code",
   "execution_count": 50,
   "metadata": {},
   "outputs": [
    {
     "data": {
      "text/plain": [
       "authorName\n",
       "Rapha                   0.204333\n",
       "Leon Noordzij           0.156429\n",
       "Daan Made in Holland    0.143667\n",
       "RedroomStudios          0.099027\n",
       "Timmy Turner            0.084600\n",
       "Meatym8                 0.042571\n",
       "Kim Birdwonders         0.036000\n",
       "Amenda                  0.006750\n",
       "UNILAD Adventure        0.000000\n",
       "Kees Manuel             0.000000\n",
       "Name: negative_emotion, dtype: float64"
      ]
     },
     "execution_count": 50,
     "metadata": {},
     "output_type": "execute_result"
    }
   ],
   "source": [
    "# insert code here\n",
    "import pandas as pd\n",
    "df1 = pd.read_csv('./dataams/videoinfo_LiZY0g5RYlY_2019_01_16-12_51_22_comments.tab', sep ='\\t')\n",
    "\n",
    "def negative_sentiment(df1):\n",
    "    sentiments_analysis = analyzer.polarity_scores(str(df1))\n",
    "    return sentiments_analysis['neg']\n",
    "\n",
    "df1['negative_emotion'] = df1['text'].apply(negative_sentiment)\n",
    "df1['negative_emotion'].head()\n",
    "df1.groupby('authorName')['id'].count()\n",
    "users_sorted = users.sort_values(ascending=False)\n",
    "users_sorted.index\n",
    "ten_most_active = users_sorted.index[:10]\n",
    "df1['authorName'].isin(ten_most_active)\n",
    "df_active_users = df1[df1['authorName'].isin(ten_most_active)]\n",
    "df_active_users.shape\n",
    "negative_commenters = df_active_users.groupby('authorName')['negative_emotion'].mean()\n",
    "negative_commenters.sort_values(ascending=False)"
   ]
  },
  {
   "cell_type": "markdown",
   "metadata": {},
   "source": [
    "## 4. Research Scenario: Content Analysis and Reactions"
   ]
  },
  {
   "cell_type": "markdown",
   "metadata": {},
   "source": [
    "In this scenario, we study text in relation to context. Do certain topics elicit more negative reactions than others? Here we look at the perception of Trump on Fox News and the New York Times.\n",
    "\n",
    "But first, we have to revisit the string methods encountered in Lecture 1. There we inspected several string functions, for example `len()` and `.lower()`. "
   ]
  },
  {
   "cell_type": "markdown",
   "metadata": {},
   "source": [
    "#### Exercise\n",
    "\n",
    "Count the number of characters in the sentence below."
   ]
  },
  {
   "cell_type": "code",
   "execution_count": 52,
   "metadata": {},
   "outputs": [
    {
     "data": {
      "text/plain": [
       "244"
      ]
     },
     "execution_count": 52,
     "metadata": {},
     "output_type": "execute_result"
    }
   ],
   "source": [
    "sentence = \"Jeremy Corbyn has pledged Labour will call a no-confidence motion in Theresa May’s government “soon”, while again indicating that if he became prime minister he would prefer to negotiate his own Brexit deal rather than call a second referendum.\"\n",
    "# insert code here\n",
    "len(sentence)"
   ]
  },
  {
   "cell_type": "markdown",
   "metadata": {
    "collapsed": true
   },
   "source": [
    "Now, lowercase the sentence and save the lowercased sentence in a new variable `sentence_lower`."
   ]
  },
  {
   "cell_type": "code",
   "execution_count": 61,
   "metadata": {},
   "outputs": [],
   "source": [
    "# insert code here\n",
    "sentence_lower = sentence.lower()\n"
   ]
  },
  {
   "cell_type": "markdown",
   "metadata": {},
   "source": [
    "With Pandas, you can easily apply these functions to a whole text column. Look attentively to the toy example below, before turning towards the main assignment."
   ]
  },
  {
   "cell_type": "code",
   "execution_count": 62,
   "metadata": {},
   "outputs": [
    {
     "data": {
      "text/html": [
       "<div>\n",
       "<style scoped>\n",
       "    .dataframe tbody tr th:only-of-type {\n",
       "        vertical-align: middle;\n",
       "    }\n",
       "\n",
       "    .dataframe tbody tr th {\n",
       "        vertical-align: top;\n",
       "    }\n",
       "\n",
       "    .dataframe thead th {\n",
       "        text-align: right;\n",
       "    }\n",
       "</style>\n",
       "<table border=\"1\" class=\"dataframe\">\n",
       "  <thead>\n",
       "    <tr style=\"text-align: right;\">\n",
       "      <th></th>\n",
       "      <th>likes</th>\n",
       "      <th>text</th>\n",
       "    </tr>\n",
       "  </thead>\n",
       "  <tbody>\n",
       "    <tr>\n",
       "      <th>0</th>\n",
       "      <td>17</td>\n",
       "      <td>Hello :-)</td>\n",
       "    </tr>\n",
       "    <tr>\n",
       "      <th>1</th>\n",
       "      <td>25</td>\n",
       "      <td>How are you!</td>\n",
       "    </tr>\n",
       "    <tr>\n",
       "      <th>2</th>\n",
       "      <td>121</td>\n",
       "      <td>Yes!</td>\n",
       "    </tr>\n",
       "    <tr>\n",
       "      <th>3</th>\n",
       "      <td>10</td>\n",
       "      <td>Yihaaaa</td>\n",
       "    </tr>\n",
       "  </tbody>\n",
       "</table>\n",
       "</div>"
      ],
      "text/plain": [
       "   likes          text\n",
       "0     17     Hello :-)\n",
       "1     25  How are you!\n",
       "2    121          Yes!\n",
       "3     10       Yihaaaa"
      ]
     },
     "execution_count": 62,
     "metadata": {},
     "output_type": "execute_result"
    }
   ],
   "source": [
    "example_df = pd.DataFrame([[17,'Hello :-)'],[25,'How are you!'],[121,'Yes!'],[10,\"Yihaaaa\"]],columns=['likes','text'])\n",
    "example_df"
   ]
  },
  {
   "cell_type": "markdown",
   "metadata": {},
   "source": [
    "`len` records the length of each text.\n",
    "\n",
    "> Notice the use of .str. between the column and the `len()` function."
   ]
  },
  {
   "cell_type": "code",
   "execution_count": 63,
   "metadata": {},
   "outputs": [
    {
     "data": {
      "text/plain": [
       "0     9\n",
       "1    12\n",
       "2     4\n",
       "3     7\n",
       "Name: text, dtype: int64"
      ]
     },
     "execution_count": 63,
     "metadata": {},
     "output_type": "execute_result"
    }
   ],
   "source": [
    "example_df['text'].str.len()"
   ]
  },
  {
   "cell_type": "markdown",
   "metadata": {
    "collapsed": true
   },
   "source": [
    "We can add this column to the DataFrame."
   ]
  },
  {
   "cell_type": "code",
   "execution_count": 64,
   "metadata": {},
   "outputs": [
    {
     "data": {
      "text/html": [
       "<div>\n",
       "<style scoped>\n",
       "    .dataframe tbody tr th:only-of-type {\n",
       "        vertical-align: middle;\n",
       "    }\n",
       "\n",
       "    .dataframe tbody tr th {\n",
       "        vertical-align: top;\n",
       "    }\n",
       "\n",
       "    .dataframe thead th {\n",
       "        text-align: right;\n",
       "    }\n",
       "</style>\n",
       "<table border=\"1\" class=\"dataframe\">\n",
       "  <thead>\n",
       "    <tr style=\"text-align: right;\">\n",
       "      <th></th>\n",
       "      <th>likes</th>\n",
       "      <th>text</th>\n",
       "      <th>text_length</th>\n",
       "    </tr>\n",
       "  </thead>\n",
       "  <tbody>\n",
       "    <tr>\n",
       "      <th>0</th>\n",
       "      <td>17</td>\n",
       "      <td>Hello :-)</td>\n",
       "      <td>9</td>\n",
       "    </tr>\n",
       "    <tr>\n",
       "      <th>1</th>\n",
       "      <td>25</td>\n",
       "      <td>How are you!</td>\n",
       "      <td>12</td>\n",
       "    </tr>\n",
       "    <tr>\n",
       "      <th>2</th>\n",
       "      <td>121</td>\n",
       "      <td>Yes!</td>\n",
       "      <td>4</td>\n",
       "    </tr>\n",
       "    <tr>\n",
       "      <th>3</th>\n",
       "      <td>10</td>\n",
       "      <td>Yihaaaa</td>\n",
       "      <td>7</td>\n",
       "    </tr>\n",
       "  </tbody>\n",
       "</table>\n",
       "</div>"
      ],
      "text/plain": [
       "   likes          text  text_length\n",
       "0     17     Hello :-)            9\n",
       "1     25  How are you!           12\n",
       "2    121          Yes!            4\n",
       "3     10       Yihaaaa            7"
      ]
     },
     "execution_count": 64,
     "metadata": {},
     "output_type": "execute_result"
    }
   ],
   "source": [
    "example_df['text_length'] = example_df['text'].str.len()\n",
    "example_df"
   ]
  },
  {
   "cell_type": "markdown",
   "metadata": {},
   "source": [
    "Now we have a new column that records the length of the values in the text column."
   ]
  },
  {
   "cell_type": "markdown",
   "metadata": {},
   "source": [
    "#### \\*\\*\\*Exercise \n",
    "\n",
    "- Retrieve comments from the New York Times (or use [these data](https://raw.githubusercontent.com/kasparvonbeelen/CTH2019/master/data_nytimes/page_5281959998_2018_12_28_22_00_39_comments.tab) I prepared)\n",
    "- Compute the length of each comment; add these values as a new column to the DataFrame\n",
    "- Sort the DataFrame by comment length; print the ten longest comments\n",
    "- Plot the distribution of the comment lengths using a Histogram (set the `bins` attribute to 100)"
   ]
  },
  {
   "cell_type": "code",
   "execution_count": 82,
   "metadata": {},
   "outputs": [
    {
     "data": {
      "text/plain": [
       "<matplotlib.axes._subplots.AxesSubplot at 0x1a30dcf1d0>"
      ]
     },
     "execution_count": 82,
     "metadata": {},
     "output_type": "execute_result"
    },
    {
     "data": {
      "image/png": "[encoded data removed]",
      "text/plain": [
       "<Figure size 432x288 with 1 Axes>"
      ]
     },
     "metadata": {
      "needs_background": "light"
     },
     "output_type": "display_data"
    }
   ],
   "source": [
    "# insert code here\n",
    "import pandas as pd \n",
    "url = 'https://raw.githubusercontent.com/kasparvonbeelen/CTH2019/master/data_nytimes/page_5281959998_2018_12_28_22_00_39_comments.tab'\n",
    "df = pd.read_csv(url, sep='\\t')\n",
    "df['text_length'] = df['comment_message'].str.len()\n",
    "df.sort_values(by='text_length',ascending=False)[:10]\n",
    "%matplotlib inline\n",
    "df['text_length'].plot(kind='hist',bins =100)\n",
    "\n",
    "\n",
    "\n",
    "\n",
    "\n",
    "\n",
    "\n",
    "\n",
    "\n"
   ]
  },
  {
   "cell_type": "markdown",
   "metadata": {},
   "source": [
    "#### \\*\\*\\*Exercise \n",
    "\n",
    "Simple question: are posts on the New York Times Facebook page on average longer than those on the Fox News page?  Use the techniques you learned in this and previous lecture to answer this question. You can use these data:\n",
    "- [Fox News](https://raw.githubusercontent.com/kasparvonbeelen/CTH2019/master/lecture_3_data/foxnews.tab)\n",
    "- [New York Times](https://raw.githubusercontent.com/kasparvonbeelen/CTH2019/master/lecture_3_data/nytimes.tab)"
   ]
  },
  {
   "cell_type": "code",
   "execution_count": 96,
   "metadata": {},
   "outputs": [],
   "source": [
    "# insert code here\n",
    "FN = 'https://raw.githubusercontent.com/kasparvonbeelen/CTH2019/master/lecture_3_data/foxnews.tab'\n",
    "NYT = 'https://raw.githubusercontent.com/kasparvonbeelen/CTH2019/master/lecture_3_data/nytimes.tab'\n",
    "\n",
    "dfFN = pd.read_csv(FN, sep='\\t')\n",
    "dfNYT = pd.read_csv(NYT,sep='\\t')\n",
    "\n",
    "dfFN['post_length'] = dfFN['post_message'].str.len()\n",
    "A = dfFN['post_length'].mean()\n",
    "\n",
    "dfNYT['post_length'] = dfNYT['post_message'].str.len()\n",
    "B = dfNYT['post_length'].mean()\n",
    "\n",
    "if A>=B:\n",
    "    print (B)\n",
    "\n",
    "\n",
    "\n",
    "\n",
    "\n"
   ]
  },
  {
   "cell_type": "markdown",
   "metadata": {},
   "source": [
    "Besides len() and lower() we can also apply `.find()` to text columns in DataFrames. Revisiting the toy example above (`example_df`), let's make a new column that has value one for strings that contain the character `a`, otherwise, the value is zero.\n",
    "\n",
    "First we create a column that has value -1 for strings that do not contain the query term (in this case the character 'a'), otherwise, it records the position of the first hit."
   ]
  },
  {
   "cell_type": "code",
   "execution_count": 83,
   "metadata": {},
   "outputs": [
    {
     "data": {
      "text/plain": [
       "0   -1\n",
       "1    4\n",
       "2   -1\n",
       "3    3\n",
       "Name: text, dtype: int64"
      ]
     },
     "execution_count": 83,
     "metadata": {},
     "output_type": "execute_result"
    }
   ],
   "source": [
    " example_df['text'].str.find('a')"
   ]
  },
  {
   "cell_type": "markdown",
   "metadata": {},
   "source": [
    "The code below adds this information as a new column to the `example_df` DataFrame:"
   ]
  },
  {
   "cell_type": "code",
   "execution_count": 85,
   "metadata": {},
   "outputs": [
    {
     "data": {
      "text/html": [
       "<div>\n",
       "<style scoped>\n",
       "    .dataframe tbody tr th:only-of-type {\n",
       "        vertical-align: middle;\n",
       "    }\n",
       "\n",
       "    .dataframe tbody tr th {\n",
       "        vertical-align: top;\n",
       "    }\n",
       "\n",
       "    .dataframe thead th {\n",
       "        text-align: right;\n",
       "    }\n",
       "</style>\n",
       "<table border=\"1\" class=\"dataframe\">\n",
       "  <thead>\n",
       "    <tr style=\"text-align: right;\">\n",
       "      <th></th>\n",
       "      <th>likes</th>\n",
       "      <th>text</th>\n",
       "      <th>text_length</th>\n",
       "      <th>has_a</th>\n",
       "    </tr>\n",
       "  </thead>\n",
       "  <tbody>\n",
       "    <tr>\n",
       "      <th>0</th>\n",
       "      <td>17</td>\n",
       "      <td>Hello :-)</td>\n",
       "      <td>9</td>\n",
       "      <td>-1</td>\n",
       "    </tr>\n",
       "    <tr>\n",
       "      <th>1</th>\n",
       "      <td>25</td>\n",
       "      <td>How are you!</td>\n",
       "      <td>12</td>\n",
       "      <td>4</td>\n",
       "    </tr>\n",
       "    <tr>\n",
       "      <th>2</th>\n",
       "      <td>121</td>\n",
       "      <td>Yes!</td>\n",
       "      <td>4</td>\n",
       "      <td>-1</td>\n",
       "    </tr>\n",
       "    <tr>\n",
       "      <th>3</th>\n",
       "      <td>10</td>\n",
       "      <td>Yihaaaa</td>\n",
       "      <td>7</td>\n",
       "      <td>3</td>\n",
       "    </tr>\n",
       "  </tbody>\n",
       "</table>\n",
       "</div>"
      ],
      "text/plain": [
       "   likes          text  text_length  has_a\n",
       "0     17     Hello :-)            9     -1\n",
       "1     25  How are you!           12      4\n",
       "2    121          Yes!            4     -1\n",
       "3     10       Yihaaaa            7      3"
      ]
     },
     "execution_count": 85,
     "metadata": {},
     "output_type": "execute_result"
    }
   ],
   "source": [
    "example_df['has_a'] = example_df['text'].str.find('a')\n",
    "example_df"
   ]
  },
  {
   "cell_type": "markdown",
   "metadata": {},
   "source": [
    "## Changing the values of cells\n",
    "\n",
    "Below we change the value for the 'has_a' column. If the value is bigger than -1 (which means that the row contains the query term) we set the value to 1.\n",
    "\n",
    "> Notice the use of `.loc`. The syntax is similar to selecting a part of a DataFrame using a mask and a column name."
   ]
  },
  {
   "cell_type": "code",
   "execution_count": 97,
   "metadata": {},
   "outputs": [
    {
     "data": {
      "text/html": [
       "<div>\n",
       "<style scoped>\n",
       "    .dataframe tbody tr th:only-of-type {\n",
       "        vertical-align: middle;\n",
       "    }\n",
       "\n",
       "    .dataframe tbody tr th {\n",
       "        vertical-align: top;\n",
       "    }\n",
       "\n",
       "    .dataframe thead th {\n",
       "        text-align: right;\n",
       "    }\n",
       "</style>\n",
       "<table border=\"1\" class=\"dataframe\">\n",
       "  <thead>\n",
       "    <tr style=\"text-align: right;\">\n",
       "      <th></th>\n",
       "      <th>likes</th>\n",
       "      <th>text</th>\n",
       "      <th>text_length</th>\n",
       "      <th>has_a</th>\n",
       "    </tr>\n",
       "  </thead>\n",
       "  <tbody>\n",
       "    <tr>\n",
       "      <th>0</th>\n",
       "      <td>17</td>\n",
       "      <td>Hello :-)</td>\n",
       "      <td>9</td>\n",
       "      <td>-1</td>\n",
       "    </tr>\n",
       "    <tr>\n",
       "      <th>1</th>\n",
       "      <td>25</td>\n",
       "      <td>How are you!</td>\n",
       "      <td>12</td>\n",
       "      <td>1</td>\n",
       "    </tr>\n",
       "    <tr>\n",
       "      <th>2</th>\n",
       "      <td>121</td>\n",
       "      <td>Yes!</td>\n",
       "      <td>4</td>\n",
       "      <td>-1</td>\n",
       "    </tr>\n",
       "    <tr>\n",
       "      <th>3</th>\n",
       "      <td>10</td>\n",
       "      <td>Yihaaaa</td>\n",
       "      <td>7</td>\n",
       "      <td>1</td>\n",
       "    </tr>\n",
       "  </tbody>\n",
       "</table>\n",
       "</div>"
      ],
      "text/plain": [
       "   likes          text  text_length  has_a\n",
       "0     17     Hello :-)            9     -1\n",
       "1     25  How are you!           12      1\n",
       "2    121          Yes!            4     -1\n",
       "3     10       Yihaaaa            7      1"
      ]
     },
     "execution_count": 97,
     "metadata": {},
     "output_type": "execute_result"
    }
   ],
   "source": [
    "example_df.loc[example_df['has_a'] >= 0,'has_a'] = 1 \n",
    "example_df"
   ]
  },
  {
   "cell_type": "markdown",
   "metadata": {},
   "source": [
    "For those rows that do not contain the query term, we set the values to zero."
   ]
  },
  {
   "cell_type": "code",
   "execution_count": 98,
   "metadata": {},
   "outputs": [
    {
     "data": {
      "text/html": [
       "<div>\n",
       "<style scoped>\n",
       "    .dataframe tbody tr th:only-of-type {\n",
       "        vertical-align: middle;\n",
       "    }\n",
       "\n",
       "    .dataframe tbody tr th {\n",
       "        vertical-align: top;\n",
       "    }\n",
       "\n",
       "    .dataframe thead th {\n",
       "        text-align: right;\n",
       "    }\n",
       "</style>\n",
       "<table border=\"1\" class=\"dataframe\">\n",
       "  <thead>\n",
       "    <tr style=\"text-align: right;\">\n",
       "      <th></th>\n",
       "      <th>likes</th>\n",
       "      <th>text</th>\n",
       "      <th>text_length</th>\n",
       "      <th>has_a</th>\n",
       "    </tr>\n",
       "  </thead>\n",
       "  <tbody>\n",
       "    <tr>\n",
       "      <th>0</th>\n",
       "      <td>0</td>\n",
       "      <td>0</td>\n",
       "      <td>0</td>\n",
       "      <td>0</td>\n",
       "    </tr>\n",
       "    <tr>\n",
       "      <th>1</th>\n",
       "      <td>25</td>\n",
       "      <td>How are you!</td>\n",
       "      <td>12</td>\n",
       "      <td>1</td>\n",
       "    </tr>\n",
       "    <tr>\n",
       "      <th>2</th>\n",
       "      <td>0</td>\n",
       "      <td>0</td>\n",
       "      <td>0</td>\n",
       "      <td>0</td>\n",
       "    </tr>\n",
       "    <tr>\n",
       "      <th>3</th>\n",
       "      <td>10</td>\n",
       "      <td>Yihaaaa</td>\n",
       "      <td>7</td>\n",
       "      <td>1</td>\n",
       "    </tr>\n",
       "  </tbody>\n",
       "</table>\n",
       "</div>"
      ],
      "text/plain": [
       "   likes          text  text_length  has_a\n",
       "0      0             0            0      0\n",
       "1     25  How are you!           12      1\n",
       "2      0             0            0      0\n",
       "3     10       Yihaaaa            7      1"
      ]
     },
     "execution_count": 98,
     "metadata": {},
     "output_type": "execute_result"
    }
   ],
   "source": [
    "example_df.loc[example_df['has_a'] < 0] = 0\n",
    "example_df"
   ]
  },
  {
   "cell_type": "markdown",
   "metadata": {},
   "source": [
    "We can use a similar technique to find posts about Trump from the New York Times. \n",
    "\n",
    "#### Exercise\n",
    "\n",
    "Explain, in a few words, what happens at each line in the code cells below. Use # to comment on the code."
   ]
  },
  {
   "cell_type": "code",
   "execution_count": 99,
   "metadata": {},
   "outputs": [
    {
     "data": {
      "text/plain": [
       "Index(['type', 'by', 'post_id', 'post_link', 'post_message', 'picture',\n",
       "       'full_picture', 'link', 'link_domain', 'post_published',\n",
       "       'post_published_unix', 'post_published_sql', 'likes_count_fb',\n",
       "       'comments_count_fb', 'reactions_count_fb', 'shares_count_fb',\n",
       "       'engagement_fb', 'rea_LOVE', 'rea_HAHA', 'rea_WOW', 'rea_SAD',\n",
       "       'rea_ANGRY', 'rea_THANKFUL'],\n",
       "      dtype='object')"
      ]
     },
     "execution_count": 99,
     "metadata": {},
     "output_type": "execute_result"
    }
   ],
   "source": [
    "# load the data\n",
    "url = 'https://raw.githubusercontent.com/kasparvonbeelen/CTH2019/master/lecture_3_data/nytimes.tab'\n",
    "data_nytimes = pd.read_csv(url,sep='\\t')\n",
    "data_nytimes.columns\n",
    "# show the columns name /values"
   ]
  },
  {
   "cell_type": "code",
   "execution_count": 100,
   "metadata": {},
   "outputs": [
    {
     "data": {
      "text/plain": [
       "0       -1\n",
       "1       -1\n",
       "2       39\n",
       "3       -1\n",
       "4       -1\n",
       "5       -1\n",
       "6       -1\n",
       "7       -1\n",
       "8       -1\n",
       "9       -1\n",
       "10      -1\n",
       "11      -1\n",
       "12      -1\n",
       "13      -1\n",
       "14      -1\n",
       "15      -1\n",
       "16      -1\n",
       "17      -1\n",
       "18      -1\n",
       "19      -1\n",
       "20      -1\n",
       "21      -1\n",
       "22      -1\n",
       "23      -1\n",
       "24       0\n",
       "25      -1\n",
       "26      -1\n",
       "27      77\n",
       "28      -1\n",
       "29      -1\n",
       "      ... \n",
       "969     -1\n",
       "970     -1\n",
       "971     -1\n",
       "972     10\n",
       "973     -1\n",
       "974    103\n",
       "975     -1\n",
       "976     -1\n",
       "977    101\n",
       "978     -1\n",
       "979     -1\n",
       "980     -1\n",
       "981     -1\n",
       "982     -1\n",
       "983     -1\n",
       "984     -1\n",
       "985     -1\n",
       "986     -1\n",
       "987     -1\n",
       "988     -1\n",
       "989     -1\n",
       "990     -1\n",
       "991     -1\n",
       "992     -1\n",
       "993     -1\n",
       "994     -1\n",
       "995     -1\n",
       "996     -1\n",
       "997     -1\n",
       "998     -1\n",
       "Name: about_trump, Length: 999, dtype: int64"
      ]
     },
     "execution_count": 100,
     "metadata": {},
     "output_type": "execute_result"
    }
   ],
   "source": [
    "data_nytimes['about_trump'] = data_nytimes['post_message'].str.find('Trump')\n",
    "data_nytimes['about_trump'] \n",
    "# find the word frequency of Trump in post messages, add a new column showing occurence, -1 means null "
   ]
  },
  {
   "cell_type": "code",
   "execution_count": 101,
   "metadata": {},
   "outputs": [],
   "source": [
    "data_nytimes.loc[data_nytimes['about_trump'] >= 0,'about_trump'] = 1\n",
    "data_nytimes.loc[data_nytimes['about_trump'] < 0,'about_trump'] = 0\n",
    "# second line: those rows that do not contain the query term 'Trump', we set the values to zero"
   ]
  },
  {
   "cell_type": "markdown",
   "metadata": {},
   "source": [
    "Now \"about_trump\" is a binary variable: 1 for posts that mention Trump, 0 otherwise."
   ]
  },
  {
   "cell_type": "code",
   "execution_count": 103,
   "metadata": {},
   "outputs": [
    {
     "data": {
      "text/plain": [
       "0      0\n",
       "1      0\n",
       "2      1\n",
       "3      0\n",
       "4      0\n",
       "5      0\n",
       "6      0\n",
       "7      0\n",
       "8      0\n",
       "9      0\n",
       "10     0\n",
       "11     0\n",
       "12     0\n",
       "13     0\n",
       "14     0\n",
       "15     0\n",
       "16     0\n",
       "17     0\n",
       "18     0\n",
       "19     0\n",
       "20     0\n",
       "21     0\n",
       "22     0\n",
       "23     0\n",
       "24     1\n",
       "25     0\n",
       "26     0\n",
       "27     1\n",
       "28     0\n",
       "29     0\n",
       "      ..\n",
       "969    0\n",
       "970    0\n",
       "971    0\n",
       "972    1\n",
       "973    0\n",
       "974    1\n",
       "975    0\n",
       "976    0\n",
       "977    1\n",
       "978    0\n",
       "979    0\n",
       "980    0\n",
       "981    0\n",
       "982    0\n",
       "983    0\n",
       "984    0\n",
       "985    0\n",
       "986    0\n",
       "987    0\n",
       "988    0\n",
       "989    0\n",
       "990    0\n",
       "991    0\n",
       "992    0\n",
       "993    0\n",
       "994    0\n",
       "995    0\n",
       "996    0\n",
       "997    0\n",
       "998    0\n",
       "Name: about_trump, Length: 999, dtype: int64"
      ]
     },
     "execution_count": 103,
     "metadata": {},
     "output_type": "execute_result"
    }
   ],
   "source": [
    "data_nytimes['about_trump']"
   ]
  },
  {
   "cell_type": "markdown",
   "metadata": {},
   "source": [
    "Now we can investigate if posts about Trump receive more angry reactions!"
   ]
  },
  {
   "cell_type": "code",
   "execution_count": 104,
   "metadata": {},
   "outputs": [
    {
     "data": {
      "text/plain": [
       "about_trump\n",
       "0     202.882494\n",
       "1    1090.733333\n",
       "Name: rea_ANGRY, dtype: float64"
      ]
     },
     "execution_count": 104,
     "metadata": {},
     "output_type": "execute_result"
    }
   ],
   "source": [
    "trump_angry = data_nytimes.groupby('about_trump')['rea_ANGRY'].mean()\n",
    "trump_angry"
   ]
  },
  {
   "cell_type": "markdown",
   "metadata": {},
   "source": [
    "The numbers are convincing, even more so when we use a visualisation."
   ]
  },
  {
   "cell_type": "code",
   "execution_count": 105,
   "metadata": {},
   "outputs": [
    {
     "data": {
      "text/plain": [
       "<matplotlib.axes._subplots.AxesSubplot at 0x1a319fe7b8>"
      ]
     },
     "execution_count": 105,
     "metadata": {},
     "output_type": "execute_result"
    },
    {
     "data": {
      "image/png": "[encoded data removed]",
      "text/plain": [
       "<Figure size 432x288 with 1 Axes>"
      ]
     },
     "metadata": {
      "needs_background": "light"
     },
     "output_type": "display_data"
    }
   ],
   "source": [
    "trump_angry.plot(kind='bar')"
   ]
  },
  {
   "cell_type": "markdown",
   "metadata": {},
   "source": [
    "#### \\*\\*\\*What about love for Trump on the New York Times?\n",
    "\n",
    "What about LOVE for Trump?"
   ]
  },
  {
   "cell_type": "code",
   "execution_count": 106,
   "metadata": {},
   "outputs": [
    {
     "data": {
      "text/plain": [
       "<matplotlib.axes._subplots.AxesSubplot at 0x1a331dbcf8>"
      ]
     },
     "execution_count": 106,
     "metadata": {},
     "output_type": "execute_result"
    },
    {
     "data": {
      "image/png": "[encoded data removed]",
      "text/plain": [
       "<Figure size 432x288 with 1 Axes>"
      ]
     },
     "metadata": {
      "needs_background": "light"
     },
     "output_type": "display_data"
    }
   ],
   "source": [
    "# insert code here\n",
    "trump_love = data_nytimes.groupby('about_trump')['rea_LOVE'].mean()\n",
    "trump_love.plot(kind='bar')"
   ]
  },
  {
   "cell_type": "markdown",
   "metadata": {},
   "source": [
    "#### \\*\\*\\* Exercise\n",
    "\n",
    "Use the [Fox News Dataset](https://raw.githubusercontent.com/kasparvonbeelen/CTH2019/master/lecture_3_data/foxnews.tab). Do you find a similar pattern when inspecting Love and Hate reactions to Trump?"
   ]
  },
  {
   "cell_type": "code",
   "execution_count": 112,
   "metadata": {},
   "outputs": [
    {
     "name": "stdout",
     "output_type": "stream",
     "text": [
      "AxesSubplot(0.125,0.125;0.775x0.755) AxesSubplot(0.125,0.125;0.775x0.755)\n"
     ]
    },
    {
     "data": {
      "image/png": "[encoded data removed]",
      "text/plain": [
       "<Figure size 432x288 with 1 Axes>"
      ]
     },
     "metadata": {
      "needs_background": "light"
     },
     "output_type": "display_data"
    }
   ],
   "source": [
    "# insert code here\n",
    "url = 'https://raw.githubusercontent.com/kasparvonbeelen/CTH2019/master/lecture_3_data/foxnews.tab'\n",
    "data_fox = pd.read_csv(url,sep='\\t')\n",
    "data_fox['about_trump'] = data_fox['post_message'].str.find('Trump')\n",
    "data_fox.loc[data_fox['about_trump'] >= 0,'about_trump'] = 1\n",
    "data_fox.loc[data_fox['about_trump'] < 0,'about_trump'] = 0\n",
    "\n",
    "trump_angry = data_fox.groupby('about_trump')['rea_ANGRY'].mean()\n",
    "trump_love = data_fox.groupby('about_trump')['rea_LOVE'].mean()\n",
    "\n",
    "print (trump_angry.plot(kind='bar'),trump_love.plot(kind='bar'))\n",
    "\n"
   ]
  },
  {
   "cell_type": "markdown",
   "metadata": {},
   "source": [
    "#### \\*\\*\\* Exercise\n",
    "\n",
    "Let's revisit the posts from Andy Borowitz. He become a famous critique of Donald Trump. The exercise explores whether his followers are more reactive to his comments on the president.\n",
    "\n",
    "Similar to the example above:\n",
    "- Create a new column with the name \"lowercased\" which contains the lowercased text\n",
    "- Create a column which records if the post contains the string \"trump\". The column has value 1 if the post text mentions Trump, otherwise it has the value 0.\n",
    "- Use `.groupby()` to compare the average number of **likes** that posts about Trump receive.\n",
    "- Inspect also HAHA, LOVE and ANGRY reactions."
   ]
  },
  {
   "cell_type": "code",
   "execution_count": 6,
   "metadata": {},
   "outputs": [
    {
     "name": "stdout",
     "output_type": "stream",
     "text": [
      "about_trump\n",
      "0    7020.465662\n",
      "1    6245.504975\n",
      "Name: likes_count_fb, dtype: float64\n",
      "about_trump\n",
      "0    274.850921\n",
      "1    213.296020\n",
      "Name: rea_ANGRY, dtype: float64 about_trump\n",
      "0    585.869347\n",
      "1    425.485075\n",
      "Name: rea_LOVE, dtype: float64 about_trump\n",
      "0    3479.279732\n",
      "1    4528.912935\n",
      "Name: rea_HAHA, dtype: float64\n"
     ]
    },
    {
     "data": {
      "text/plain": [
       "<matplotlib.axes._subplots.AxesSubplot at 0x11976ef28>"
      ]
     },
     "execution_count": 6,
     "metadata": {},
     "output_type": "execute_result"
    },
    {
     "data": {
      "image/png": "[encoded data removed]",
      "text/plain": [
       "<Figure size 432x288 with 1 Axes>"
      ]
     },
     "metadata": {
      "needs_background": "light"
     },
     "output_type": "display_data"
    }
   ],
   "source": [
    "# insert code here\n",
    "import pandas as pd\n",
    "url = 'https://raw.githubusercontent.com/kasparvonbeelen/CTH2019/master/data/page_38423635680_2019_01_13_12_33_40.tab'\n",
    "data = pd.read_csv(url,sep='\\t')\n",
    "data['lowercased'] = data['post_message'].str.lower()\n",
    "data['about_trump'] = data['lowercased'].str.find('trump')\n",
    "data.loc[data['about_trump'] >= 0,'about_trump'] = 1\n",
    "data.loc[data['about_trump'] < 0,'about_trump'] = 0\n",
    "\n",
    "trump_likes = data.groupby('about_trump')['likes_count_fb'].mean()\n",
    "print (trump_likes)\n",
    "\n",
    "trump_angry = data.groupby('about_trump')['rea_ANGRY'].mean()\n",
    "trump_love = data.groupby('about_trump')['rea_LOVE'].mean()\n",
    "trump_haha = data.groupby('about_trump')['rea_HAHA'].mean()\n",
    "\n",
    "print (trump_angry,trump_love,trump_haha)\n",
    "\n",
    "trump_angry.plot(kind='bar')\n",
    "\n"
   ]
  },
  {
   "cell_type": "markdown",
   "metadata": {},
   "source": [
    "# That's all for today! Congratulations again!"
   ]
  }
 ],
 "metadata": {
  "kernelspec": {
   "display_name": "Python 3",
   "language": "python",
   "name": "python3"
  },
  "language_info": {
   "codemirror_mode": {
    "name": "ipython",
    "version": 3
   },
   "file_extension": ".py",
   "mimetype": "text/x-python",
   "name": "python",
   "nbconvert_exporter": "python",
   "pygments_lexer": "ipython3",
   "version": "3.7.3"
  }
 },
 "nbformat": 4,
 "nbformat_minor": 2
}
