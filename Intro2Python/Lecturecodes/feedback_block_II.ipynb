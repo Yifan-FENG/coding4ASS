{
 "cells": [
  {
   "cell_type": "markdown",
   "metadata": {},
   "source": [
    "# Feedback lecture Assignment 2"
   ]
  },
  {
   "cell_type": "markdown",
   "metadata": {},
   "source": [
    "## Announcements\n",
    "* material block III\n",
    "* emails 👍\n",
    "* variance 👍\n",
    "* I'll focus on patterns in your answers\n",
    "* [if time permits]: ask more questions or start with block III!"
   ]
  },
  {
   "cell_type": "markdown",
   "metadata": {},
   "source": [
    "## Exercise 1: the beer song"
   ]
  },
  {
   "cell_type": "code",
   "execution_count": 1,
   "metadata": {},
   "outputs": [
    {
     "name": "stdout",
     "output_type": "stream",
     "text": [
      "3 bottles of beer on the wall, \n",
      "3 bottles of beer.\n",
      "you take one down, you pass it around, \n",
      "2 bottles of beer in the wall!\n",
      "\n",
      "2 bottles of beer on the wall, \n",
      "2 bottles of beer.\n",
      "you take one down, you pass it around, \n",
      "1 bottles of beer in the wall!\n",
      "\n",
      "1 bottles of beer on the wall, \n",
      "1 bottles of beer.\n",
      "you take one down, you pass it around, \n",
      "0 bottles of beer in the wall!\n",
      "\n",
      "1 bottle of beer on the wall,\n",
      "1 bottle of beer.\n",
      "you take one down, you pass it around,\n",
      "No more bottles of beer on the wall.\n",
      "\n",
      "No more bottles of beer, no more bottles of beer!\n",
      "Go to the store and buy some more,\n",
      "99 bottles of beer on the wall!\n",
      "\n"
     ]
    }
   ],
   "source": [
    "for num in reversed(range(1, 4)):\n",
    "    print(f\"{num} bottles of beer on the wall, \\n{num} bottles of beer.\\n\"\n",
    "        f\"you take one down, you pass it around, \\n\"\n",
    "        f\"{num - 1} bottles of beer in the wall!\\n\")\n",
    "    if num == 1:\n",
    "        print(f\"{num} bottle of beer on the wall,\\n\"\n",
    "        f\"{num} bottle of beer.\\n\"\n",
    "        f\"you take one down, you pass it around,\\n\"\n",
    "        f\"No more bottles of beer on the wall.\\n\\n\"\n",
    "        f\"No more bottles of beer, no more bottles of beer!\\n\"\n",
    "        f\"Go to the store and buy some more,\\n\"\n",
    "        f\"99 bottles of beer on the wall!\\n\")"
   ]
  },
  {
   "cell_type": "code",
   "execution_count": null,
   "metadata": {},
   "outputs": [],
   "source": [
    "line1_pl = 'bottles of beer on the wall,'\n",
    "line1_sg = 'bottle of beer on the wall,'\n",
    "line2_pl = 'bottles of beer.'\n",
    "line2_sg = 'bottle of beer.'\n",
    "line3 = 'Take one down, pass it around,'\n",
    "line4_pl = 'bottles of beer on the wall.'\n",
    "line4_sg = 'bottle of beer on the wall.'\n",
    "\n",
    "for number in reversed(range(0, 4)):\n",
    "    if number > 2:\n",
    "        print(number, line1_pl)\n",
    "        print(number, line2_pl)\n",
    "        print(line3)\n",
    "        print(number - 1, line4_pl)\n",
    "        print()\n",
    "    elif number == 2:\n",
    "        print(number, line1_pl)\n",
    "        print(number, line2_pl)\n",
    "        print(line3)\n",
    "        print(number - 1, line4_sg)\n",
    "        print()\n",
    "    elif number == 1:\n",
    "        print(number, line1_sg)\n",
    "        print(number, line2_sg)\n",
    "        print(line3)\n",
    "        print(number - 1, line4_pl)\n",
    "        print()\n",
    "    else:\n",
    "        print(\"\"\"No more bottles of beer on the wall,\n",
    "no more bottles of beer.\n",
    "Go to the store and buy some more,\n",
    "99 bottles of beer on the wall.\"\"\")"
   ]
  },
  {
   "cell_type": "code",
   "execution_count": null,
   "metadata": {},
   "outputs": [],
   "source": [
    "# the lines that are repeated in the last verse\n",
    "line_1 = 'bottles of beer on the wall,'\n",
    "line_2 = 'bottles of beer.'\n",
    "line_4 = 'bottles of beer on the wall.'\n",
    "\n",
    "for number in reversed(range(1, 5)):\n",
    "    \n",
    "    # print bottle/bottles in the first 2 lines of the verse\n",
    "    if number == 1:\n",
    "        print(number, 'bottle of beer on the wall,')\n",
    "        print(number, 'bottle of beer.')  \n",
    "    else:\n",
    "        print(number, line_1)\n",
    "        print(number, line_2)\n",
    "        \n",
    "    # print the 3rd line of the verse\n",
    "    print('Take one down, pass it around,')\n",
    "    \n",
    "    # print bottle/bottles in the last line of the verse\n",
    "    if number-1 == 1:\n",
    "        print(number-1, 'bottle of beer on the wall.')\n",
    "    else:\n",
    "        print(number-1, line_4)\n",
    "        \n",
    "    # blank line between verses\n",
    "    print()\n",
    "    \n",
    "\n",
    "# the last verse\n",
    "print('No more', line_1)\n",
    "print('no more', line_2)\n",
    "print('Go to the store and buy some more,')\n",
    "print(99, line_4)"
   ]
  },
  {
   "cell_type": "markdown",
   "metadata": {},
   "source": [
    "## <span style=\"color:blue\">**Variables are valuable!**</span>"
   ]
  },
  {
   "cell_type": "markdown",
   "metadata": {},
   "source": [
    "## Exercises 2 & 3"
   ]
  },
  {
   "cell_type": "markdown",
   "metadata": {},
   "source": [
    "Example: what the method **returns** is what the method **does**"
   ]
  },
  {
   "cell_type": "code",
   "execution_count": 2,
   "metadata": {},
   "outputs": [
    {
     "name": "stdout",
     "output_type": "stream",
     "text": [
      "Help on method_descriptor:\n",
      "\n",
      "replace(self, old, new, count=-1, /)\n",
      "    Return a copy with all occurrences of substring old replaced by new.\n",
      "    \n",
      "      count\n",
      "        Maximum number of occurrences to replace.\n",
      "        -1 (the default value) means replace all occurrences.\n",
      "    \n",
      "    If the optional argument count is given, only the first count occurrences are\n",
      "    replaced.\n",
      "\n"
     ]
    }
   ],
   "source": [
    "help(str.replace)"
   ]
  },
  {
   "cell_type": "code",
   "execution_count": 3,
   "metadata": {},
   "outputs": [
    {
     "name": "stdout",
     "output_type": "stream",
     "text": [
      "Help on method_descriptor:\n",
      "\n",
      "append(self, object, /)\n",
      "    Append object to the end of the list.\n",
      "\n"
     ]
    }
   ],
   "source": [
    "help(list.append)"
   ]
  },
  {
   "cell_type": "code",
   "execution_count": 4,
   "metadata": {},
   "outputs": [
    {
     "name": "stdout",
     "output_type": "stream",
     "text": [
      "INPUT: yellow\n",
      "RETURN VALUE, mellow\n"
     ]
    }
   ],
   "source": [
    "the_input = 'yellow'\n",
    "return_value = the_input.replace('y', 'm')\n",
    "print(f'INPUT: {the_input}')\n",
    "print(f'RETURN VALUE, {return_value}')"
   ]
  },
  {
   "cell_type": "code",
   "execution_count": 5,
   "metadata": {},
   "outputs": [
    {
     "name": "stdout",
     "output_type": "stream",
     "text": [
      "INPUT: [1]\n",
      "RETURN VALUE, None\n"
     ]
    }
   ],
   "source": [
    "the_input = []\n",
    "return_value = the_input.append(1)\n",
    "print(f'INPUT: {the_input}')\n",
    "print(f'RETURN VALUE, {return_value}')"
   ]
  },
  {
   "cell_type": "markdown",
   "metadata": {},
   "source": [
    "## <span style=\"color:blue\">Return can be different what the function does</span>"
   ]
  },
  {
   "cell_type": "code",
   "execution_count": 1,
   "metadata": {},
   "outputs": [
    {
     "name": "stdout",
     "output_type": "stream",
     "text": [
      "Help on method_descriptor:\n",
      "\n",
      "pop(self, index=-1, /)\n",
      "    Remove and return item at index (default last).\n",
      "    \n",
      "    Raises IndexError if list is empty or index is out of range.\n",
      "\n"
     ]
    }
   ],
   "source": [
    "help(list.pop)"
   ]
  },
  {
   "cell_type": "code",
   "execution_count": 2,
   "metadata": {},
   "outputs": [
    {
     "name": "stdout",
     "output_type": "stream",
     "text": [
      "Help on method_descriptor:\n",
      "\n",
      "pop(...)\n",
      "    Remove and return an arbitrary set element.\n",
      "    Raises KeyError if the set is empty.\n",
      "\n"
     ]
    }
   ],
   "source": [
    "help(set.pop)"
   ]
  },
  {
   "cell_type": "markdown",
   "metadata": {},
   "source": [
    "## <span style=\"color:blue\">Same name -> different method</span>"
   ]
  },
  {
   "cell_type": "code",
   "execution_count": 6,
   "metadata": {},
   "outputs": [
    {
     "name": "stdout",
     "output_type": "stream",
     "text": [
      "Help on method_descriptor:\n",
      "\n",
      "index(self, value, start=0, stop=9223372036854775807, /)\n",
      "    Return first index of value.\n",
      "    \n",
      "    Raises ValueError if the value is not present.\n",
      "\n"
     ]
    }
   ],
   "source": [
    "help(list.index)"
   ]
  },
  {
   "cell_type": "markdown",
   "metadata": {},
   "source": [
    "**You all get full points for 2d and 2e**"
   ]
  },
  {
   "cell_type": "markdown",
   "metadata": {},
   "source": [
    "* **value**: mandatory positional argument\n",
    "* **start**: optional positional argument\n",
    "* **stop**: optional positional argument"
   ]
  },
  {
   "cell_type": "code",
   "execution_count": 7,
   "metadata": {},
   "outputs": [
    {
     "name": "stdout",
     "output_type": "stream",
     "text": [
      "0\n"
     ]
    }
   ],
   "source": [
    "a_list = [1,2,3,4,1]\n",
    "return_value = a_list.index(1)\n",
    "print(return_value)"
   ]
  },
  {
   "cell_type": "code",
   "execution_count": 8,
   "metadata": {},
   "outputs": [
    {
     "name": "stdout",
     "output_type": "stream",
     "text": [
      "4\n"
     ]
    }
   ],
   "source": [
    "a_list = [1,2,3,4,1]\n",
    "return_value = a_list.index(1, 3)\n",
    "print(return_value)"
   ]
  },
  {
   "cell_type": "markdown",
   "metadata": {},
   "source": [
    "## <span style=\"color:blue\">I'm sorry for not explaining this better</span>"
   ]
  },
  {
   "cell_type": "markdown",
   "metadata": {},
   "source": [
    "## Exercise 4"
   ]
  },
  {
   "cell_type": "code",
   "execution_count": 9,
   "metadata": {},
   "outputs": [],
   "source": [
    "a_story = \"\"\"In a far away kingdom, there was a river. This river was home to many golden swans. The swans spent most of their time on the banks of the river. Every six months, the swans would leave a golden feather as a fee for using the lake. The soldiers of the kingdom would collect the feathers and deposit them in the royal treasury. \n",
    "One day, a homeless bird saw the river. \"The water in this river seems so cool and soothing. I will make my home here,\" thought the bird. \n",
    "As soon as the bird settled down near the river, the golden swans noticed her. They came shouting. \"This river belongs to us. We pay a golden feather to the King to use this river. You can not live here.\" \n",
    "\"I am homeless, brothers. I too will pay the rent. Please give me shelter,\" the bird pleaded. \"How will you pay the rent? You do not have golden feathers,\" said the swans laughing. They further added, \"Stop dreaming and leave once.\" The humble bird pleaded many times. But the arrogant swans drove the bird away. \n",
    "\"I will teach them a lesson!\" decided the humiliated bird. \n",
    "She went to the King and said, \"O King! The swans in your river are impolite and unkind. I begged for shelter but they said that they had purchased the river with golden feathers.\" \n",
    "The King was angry with the arrogant swans for having insulted the homeless bird. He ordered his soldiers to bring the arrogant swans to his court. In no time, all the golden swans were brought to the King’s court. \n",
    "\"Do you think the royal treasury depends upon your golden feathers? You can not decide who lives by the river. Leave the river at once or you all will be beheaded!\" shouted the King. \n",
    "The swans shivered with fear on hearing the King. They flew away never to return. The bird built her home near the river and lived there happily forever. The bird gave shelter to all other birds in the river. \"\"\""
   ]
  },
  {
   "cell_type": "code",
   "execution_count": 10,
   "metadata": {},
   "outputs": [
    {
     "name": "stdout",
     "output_type": "stream",
     "text": [
      "In a far away kingdom  there was a river This river was home to many golden swans The swans spent most of their time on the banks of the river Every six months  the swans would leave a golden feather as a fee for using the lake The soldiers of the kingdom would collect the feathers and deposit them in the royal treasury  One day  a homeless bird saw the river  The water in this river seems so cool and soothing I will make my home here   thought the bird  As soon as the bird settled down near the river  the golden swans noticed her They came shouting  This river belongs to us We pay a golden feather to the King to use this river You can not live here    I am homeless  brothers I too will pay the rent Please give me shelter   the bird pleaded  How will you pay the rent? You do not have golden feathers   said the swans laughing They further added   Stop dreaming and leave once  The humble bird pleaded many times But the arrogant swans drove the bird away   I will teach them a lesson!  decided the humiliated bird  She went to the King and said   O King! The swans in your river are impolite and unkind I begged for shelter but they said that they had purchased the river with golden feathers   The King was angry with the arrogant swans for having insulted the homeless bird He ordered his soldiers to bring the arrogant swans to his court In no time  all the golden swans were brought to the King’s court   Do you think the royal treasury depends upon your golden feathers? You can not decide who lives by the river Leave the river at once or you all will be beheaded!  shouted the King  The swans shivered with fear on hearing the King They flew away never to return The bird built her home near the river and lived there happily forever The bird gave shelter to all other birds in the river \n"
     ]
    }
   ],
   "source": [
    "cleaned_story=a_story.replace(',',' ').replace('\\n',' ').replace('.','').replace('\"',' ') \n",
    "print(cleaned_story)"
   ]
  },
  {
   "cell_type": "code",
   "execution_count": null,
   "metadata": {},
   "outputs": [],
   "source": []
  },
  {
   "cell_type": "code",
   "execution_count": null,
   "metadata": {},
   "outputs": [],
   "source": [
    "unwanted_characters = [',', '\\n', '.', '\"']\n",
    "\n",
    "for character in unwanted_characters:\n",
    "    a_story = a_story.replace(character, '')\n",
    "print(a_story)\n",
    "print()"
   ]
  },
  {
   "cell_type": "code",
   "execution_count": 12,
   "metadata": {},
   "outputs": [
    {
     "name": "stdout",
     "output_type": "stream",
     "text": [
      "In a far away kingdom there was a river This river was home to many golden swans The swans spent most of their time on the banks of the river Every six months the swans would leave a golden feather as a fee for using the lake The soldiers of the kingdom would collect the feathers and deposit them in the royal treasury One day a homeless bird saw the river The water in this river seems so cool and soothing I will make my home here thought the bird As soon as the bird settled down near the river the golden swans noticed her They came shouting This river belongs to us We pay a golden feather to the King to use this river You can not live here I am homeless brothers I too will pay the rent Please give me shelter the bird pleaded How will you pay the rent? You do not have golden feathers said the swans laughing They further added Stop dreaming and leave once The humble bird pleaded many times But the arrogant swans drove the bird away I will teach them a lesson! decided the humiliated bird She went to the King and said O King! The swans in your river are impolite and unkind I begged for shelter but they said that they had purchased the river with golden feathers The King was angry with the arrogant swans for having insulted the homeless bird He ordered his soldiers to bring the arrogant swans to his court In no time all the golden swans were brought to the King’s court Do you think the royal treasury depends upon your golden feathers? You can not decide who lives by the river Leave the river at once or you all will be beheaded! shouted the King The swans shivered with fear on hearing the King They flew away never to return The bird built her home near the river and lived there happily forever The bird gave shelter to all other birds in the river \n"
     ]
    }
   ],
   "source": [
    "table = {ord('\\n'): '',\n",
    "         ord(','): '',\n",
    "         ord('.'): '',\n",
    "         ord('\\\"'): ''}\n",
    "cleaned_story = a_story.translate(table)\n",
    "print(cleaned_story)"
   ]
  },
  {
   "cell_type": "markdown",
   "metadata": {},
   "source": [
    "## <span style=\"color:blue\">Become an expert at the standard library</span>"
   ]
  },
  {
   "cell_type": "markdown",
   "metadata": {},
   "source": [
    "## Exercise 5"
   ]
  },
  {
   "cell_type": "markdown",
   "metadata": {},
   "source": [
    "The two ways of creating and updating a dictionary"
   ]
  },
  {
   "cell_type": "markdown",
   "metadata": {},
   "source": [
    "**default first -> adding**"
   ]
  },
  {
   "cell_type": "code",
   "execution_count": 16,
   "metadata": {},
   "outputs": [
    {
     "name": "stdout",
     "output_type": "stream",
     "text": [
      "creating key: word\n",
      "updating count for word\n",
      "updating count for word\n",
      "creating key: hello\n",
      "updating count for hello\n",
      "updating count for word\n",
      "{'word': 3, 'hello': 1}\n"
     ]
    }
   ],
   "source": [
    "a_dict = dict()\n",
    "words = ['word', 'word', 'hello', 'word']\n",
    "\n",
    "for word in words:\n",
    "    \n",
    "    # set default value of 0 if not there\n",
    "    if word not in a_dict:\n",
    "        a_dict[word] = 0\n",
    "    \n",
    "    # update\n",
    "    print(f'updating count for {word}')\n",
    "    a_dict[word] += 1\n",
    "\n",
    "print(a_dict)"
   ]
  },
  {
   "cell_type": "markdown",
   "metadata": {},
   "source": [
    "**adding first -> default later**"
   ]
  },
  {
   "cell_type": "code",
   "execution_count": 17,
   "metadata": {},
   "outputs": [
    {
     "name": "stdout",
     "output_type": "stream",
     "text": [
      "{'word': 3, 'hello': 1}\n"
     ]
    }
   ],
   "source": [
    "a_dict = dict()\n",
    "words = ['word', 'word', 'hello', 'word']\n",
    "\n",
    "for word in words:\n",
    "    \n",
    "    if word in a_dict:\n",
    "        a_dict[word] += 1\n",
    "    else:\n",
    "        # assign default value of 1 when key is not there\n",
    "        a_dict[word] = 1\n",
    "\n",
    "print(a_dict)"
   ]
  },
  {
   "cell_type": "code",
   "execution_count": 18,
   "metadata": {},
   "outputs": [],
   "source": [
    "from collections import Counter"
   ]
  },
  {
   "cell_type": "code",
   "execution_count": 19,
   "metadata": {},
   "outputs": [
    {
     "name": "stdout",
     "output_type": "stream",
     "text": [
      "Counter({'word': 3, 'hello': 1})\n"
     ]
    }
   ],
   "source": [
    "a_dict = Counter(words)\n",
    "print(a_dict)"
   ]
  },
  {
   "cell_type": "markdown",
   "metadata": {},
   "source": [
    "## <span style=\"color:blue\">Decide upon your personal preference</span>"
   ]
  },
  {
   "cell_type": "code",
   "execution_count": 21,
   "metadata": {},
   "outputs": [
    {
     "name": "stdout",
     "output_type": "stream",
     "text": [
      "\n",
      "TOP 0 hello\n",
      "BOTTOM hello\n",
      "\n",
      "TOP 1 this\n",
      "BOTTOM this\n",
      "\n",
      "TOP 2 is\n",
      "BOTTOM is\n",
      "\n",
      "TOP 3 a\n",
      "BOTTOM a\n",
      "\n",
      "TOP 4 sentence\n",
      "BOTTOM sentence\n",
      "\n",
      "TOP 5 to\n",
      "BOTTOM to\n",
      "\n",
      "TOP 6 discourage\n",
      "BOTTOM discourage\n",
      "\n",
      "TOP 7 you\n",
      "BOTTOM you\n",
      "\n",
      "TOP 8 from\n",
      "BOTTOM from\n",
      "\n",
      "TOP 9 using\n",
      "BOTTOM using\n",
      "\n",
      "TOP 10 list.remove\n",
      "BOTTOM list.remove\n",
      "\n",
      "TOP 11 when\n",
      "BOTTOM when\n",
      "\n",
      "TOP 12 looping\n",
      "BOTTOM looping\n"
     ]
    }
   ],
   "source": [
    "words = ['hello', 'this', 'is', 'a', 'sentence', 'to', 'discourage', 'you', 'from', 'using', 'list.remove', 'when', 'looping']\n",
    "\n",
    "for index, word in enumerate(words[:]):\n",
    "    \n",
    "    print()\n",
    "    print('TOP', index, word)\n",
    "    \n",
    "    if len(word) >= 4:\n",
    "        words.remove(word)\n",
    "    \n",
    "    print('BOTTOM', word)"
   ]
  },
  {
   "cell_type": "markdown",
   "metadata": {},
   "source": [
    "## <span style=\"color:blue\">I discourage the use of list.remove while looping</span>"
   ]
  },
  {
   "cell_type": "code",
   "execution_count": 22,
   "metadata": {},
   "outputs": [],
   "source": [
    "words = ['there',\n",
    " 'was',\n",
    " 'a',\n",
    " 'village',\n",
    " 'near',\n",
    " 'a',\n",
    " 'jungle',\n",
    " 'the',\n",
    " 'village',\n",
    " 'cows',\n",
    " 'used',\n",
    " 'to',\n",
    " 'go',\n",
    " 'up',\n",
    " 'to',\n",
    " 'the',\n",
    " 'jungle',\n",
    " 'in',\n",
    " 'search',\n",
    " 'of',\n",
    " 'food.',\n",
    " 'in',\n",
    " 'the',\n",
    " 'forest',\n",
    " 'there',\n",
    " 'lived',\n",
    " 'a',\n",
    " 'wicked',\n",
    " 'lion',\n",
    " 'he',\n",
    " 'used',\n",
    " 'to',\n",
    " 'kill',\n",
    " 'a',\n",
    " 'cow',\n",
    " 'now',\n",
    " 'and',\n",
    " 'then',\n",
    " 'and',\n",
    " 'eat',\n",
    " 'her',\n",
    " 'this',\n",
    " 'was',\n",
    " 'happening',\n",
    " 'for',\n",
    " 'quite',\n",
    " 'sometime',\n",
    " 'the',\n",
    " 'cows',\n",
    " 'were',\n",
    " 'frightened',\n",
    " 'one',\n",
    " 'day',\n",
    " 'all',\n",
    " 'the',\n",
    " 'cows',\n",
    " 'held',\n",
    " 'a',\n",
    " 'meeting',\n",
    " 'an',\n",
    " 'old',\n",
    " 'cow',\n",
    " 'said',\n",
    " 'listen',\n",
    " 'everybody',\n",
    " 'the',\n",
    " 'lion',\n",
    " 'eats',\n",
    " 'one',\n",
    " 'of',\n",
    " 'us',\n",
    " 'only',\n",
    " 'because',\n",
    " 'we',\n",
    " 'go',\n",
    " 'into',\n",
    " 'the',\n",
    " 'jungle',\n",
    " 'separately',\n",
    " 'from',\n",
    " 'now',\n",
    " 'on',\n",
    " 'we',\n",
    " 'will',\n",
    " 'all',\n",
    " 'be',\n",
    " 'together',\n",
    " 'from',\n",
    " 'then',\n",
    " 'on',\n",
    " 'all',\n",
    " 'the',\n",
    " 'cows',\n",
    " 'went',\n",
    " 'into',\n",
    " 'the',\n",
    " 'jungle',\n",
    " 'in',\n",
    " 'a',\n",
    " 'herd',\n",
    " 'when',\n",
    " 'they',\n",
    " 'heard',\n",
    " 'or',\n",
    " 'saw',\n",
    " 'the',\n",
    " 'lion',\n",
    " 'all',\n",
    " 'of',\n",
    " 'them',\n",
    " 'unitedly',\n",
    " 'moo',\n",
    " 'and',\n",
    " 'chased',\n",
    " 'him',\n",
    " 'away',\n",
    " 'moral',\n",
    " 'divided',\n",
    " 'we',\n",
    " 'fall',\n",
    " 'united',\n",
    " 'we',\n",
    " 'stand']"
   ]
  },
  {
   "cell_type": "code",
   "execution_count": null,
   "metadata": {},
   "outputs": [],
   "source": [
    "my_dict = dict()\n",
    "\n",
    "for item in words:\n",
    "    if item.endswith('e'):\n",
    "        continue\n",
    "    elif item.startswith('t'):\n",
    "        continue\n",
    "    elif item.startswith('c') and item.endswith('w'):\n",
    "        continue\n",
    "    elif len(item) >= 5:\n",
    "        continue\n",
    "    else:\n",
    "        if item not in my_dict:\n",
    "            my_dict[item] = 0\n",
    "        my_dict[item] += 1\n",
    "\n",
    "print(my_dict)"
   ]
  },
  {
   "cell_type": "code",
   "execution_count": null,
   "metadata": {},
   "outputs": [],
   "source": [
    "my_dict = dict()\n",
    "\n",
    "for item in words:\n",
    "    \n",
    "    if all([item.endswith('e'), # endswith e\n",
    "            item.startswith('t'), # endswith t\n",
    "            item.startswith('c') and item.endswith('w'),\n",
    "            len(item) >= 5]):\n",
    "        continue\n",
    "    \n",
    "    if item not in my_dict:\n",
    "        my_dict[item] = 0\n",
    "    my_dict[item] += 1\n",
    "\n",
    "print(my_dict)"
   ]
  },
  {
   "cell_type": "markdown",
   "metadata": {},
   "source": [
    "## <span style=\"color:blue\">Any and all are extremely useful</span>"
   ]
  },
  {
   "cell_type": "markdown",
   "metadata": {},
   "source": [
    "## Exercise 6c\n",
    "Please write the answer to Exercise 4a as a function. The function replaces the following characters by empty spaces in a text:\n",
    "* newlines: '\\n'\n",
    "* commas: ','\n",
    "* dots: '.'\n",
    "* quotes: '\"'\n",
    "\n",
    "The function is:\n",
    "* is called `clean_text`\n",
    "* has one positional parameter `text`\n",
    "* return a string, e.g., the cleaned text"
   ]
  },
  {
   "cell_type": "code",
   "execution_count": null,
   "metadata": {},
   "outputs": [],
   "source": [
    "unwanted_characters = [',', '\\n', '.', '\\\"']\n",
    "\n",
    "for character in unwanted_characters:\n",
    "    cleaned_story = a_story.replace(character, '')"
   ]
  },
  {
   "cell_type": "code",
   "execution_count": 40,
   "metadata": {},
   "outputs": [
    {
     "name": "stdout",
     "output_type": "stream",
     "text": [
      "ok, ....let us try this!\n",
      "ok let us try this\n"
     ]
    }
   ],
   "source": [
    "def clean_text(text, \n",
    "               unwanted={'!', ',', '\\n', '.', '\"'},\n",
    "               verbose=0):\n",
    "    \"\"\"\n",
    "    clean text by replacing \\n , . \" with empty space\n",
    "    \n",
    "    :param str text: a text\n",
    "    \"\"\"\n",
    "    for character in unwanted:\n",
    "        \n",
    "        if verbose >= 2:\n",
    "            print(character)\n",
    "        text = text.replace(character, '')\n",
    "        \n",
    "    if verbose >= 1:\n",
    "        print(f'removing: {unwanted}')\n",
    "        print(f'result: {text}')\n",
    "    \n",
    "    return text\n",
    "\n",
    "a_text = 'ok, ....let us try this!'\n",
    "return_value = clean_text(a_text)\n",
    "print(a_text)\n",
    "print(return_value)"
   ]
  },
  {
   "cell_type": "code",
   "execution_count": 47,
   "metadata": {},
   "outputs": [],
   "source": [
    "# verbose\n",
    "# keyword argument\n",
    "# import"
   ]
  },
  {
   "cell_type": "code",
   "execution_count": 48,
   "metadata": {},
   "outputs": [
    {
     "data": {
      "text/plain": [
       "'aaabb'"
      ]
     },
     "execution_count": 48,
     "metadata": {},
     "output_type": "execute_result"
    }
   ],
   "source": [
    "'aaa' + 'bb'"
   ]
  },
  {
   "cell_type": "markdown",
   "metadata": {},
   "source": [
    "## <span style=\"color:blue\">Return allows you to use the output of your function</span>"
   ]
  },
  {
   "cell_type": "code",
   "execution_count": 55,
   "metadata": {},
   "outputs": [],
   "source": [
    "def add(x,y):\n",
    "    return x + y \n",
    "\n",
    "expected_output = 3\n",
    "actual_output = add(1,2)\n",
    "assert actual_output == expected_output, f'output is {actual_output}, was expecting {expected_output}'"
   ]
  },
  {
   "cell_type": "code",
   "execution_count": null,
   "metadata": {},
   "outputs": [],
   "source": []
  }
 ],
 "metadata": {
  "kernelspec": {
   "display_name": "Python 3",
   "language": "python",
   "name": "python3"
  },
  "language_info": {
   "codemirror_mode": {
    "name": "ipython",
    "version": 3
   },
   "file_extension": ".py",
   "mimetype": "text/x-python",
   "name": "python",
   "nbconvert_exporter": "python",
   "pygments_lexer": "ipython3",
   "version": "3.7.3"
  }
 },
 "nbformat": 4,
 "nbformat_minor": 2
}
