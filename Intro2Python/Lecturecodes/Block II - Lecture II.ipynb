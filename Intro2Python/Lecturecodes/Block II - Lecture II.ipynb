{
 "cells": [
  {
   "cell_type": "markdown",
   "metadata": {},
   "source": [
    "## Announcements\n",
    "* exame date: Monday, 21st of October from 16:15-19:00\n",
    "* please check [this google doc](https://docs.google.com/document/d/12vP4BuVhYoyLxXJg2_4cdmm3bETVlCobmKCwLmscSZI/edit?usp=sharing) for my answers to questions I receive about the assignment\n",
    "\n",
    "**outline**:\n",
    "* functions\n",
    "* how to open a Python module\n",
    "* dictionaries\n",
    "* continue and break"
   ]
  },
  {
   "cell_type": "markdown",
   "metadata": {},
   "source": [
    "### Functions"
   ]
  },
  {
   "cell_type": "markdown",
   "metadata": {},
   "source": [
    "Let's start simple"
   ]
  },
  {
   "cell_type": "code",
   "execution_count": 1,
   "metadata": {},
   "outputs": [
    {
     "name": "stdout",
     "output_type": "stream",
     "text": [
      "0.5\n"
     ]
    }
   ],
   "source": [
    "x = 1 \n",
    "y = 2\n",
    "divide_x_y = x / y\n",
    "print(divide_x_y)"
   ]
  },
  {
   "cell_type": "code",
   "execution_count": 17,
   "metadata": {},
   "outputs": [
    {
     "name": "stdout",
     "output_type": "stream",
     "text": [
      "None\n"
     ]
    }
   ],
   "source": [
    "def compute_division(x, y):\n",
    "    \"\"\"\n",
    "    compute division of x and y\n",
    "    \n",
    "    :param int x: a number\n",
    "    :param int y: a number\n",
    "    \"\"\"\n",
    "    division = x / y\n",
    "    \n",
    "result = compute_division(1,2)\n",
    "print(result)"
   ]
  },
  {
   "cell_type": "code",
   "execution_count": 5,
   "metadata": {},
   "outputs": [
    {
     "name": "stdout",
     "output_type": "stream",
     "text": [
      "Help on function compute_division in module __main__:\n",
      "\n",
      "compute_division(x, y)\n",
      "    compute division of x and y\n",
      "    \n",
      "    :param int x: a number\n",
      "    :param int y: a number\n",
      "\n"
     ]
    }
   ],
   "source": [
    "help(compute_division)"
   ]
  },
  {
   "cell_type": "code",
   "execution_count": 6,
   "metadata": {},
   "outputs": [
    {
     "data": {
      "text/plain": [
       "function"
      ]
     },
     "execution_count": 6,
     "metadata": {},
     "output_type": "execute_result"
    }
   ],
   "source": [
    "type(compute_division)"
   ]
  },
  {
   "cell_type": "code",
   "execution_count": 8,
   "metadata": {},
   "outputs": [
    {
     "name": "stdout",
     "output_type": "stream",
     "text": [
      "0.5\n"
     ]
    }
   ],
   "source": [
    "x=1\n",
    "y=2\n",
    "compute_division(x, y)"
   ]
  },
  {
   "cell_type": "code",
   "execution_count": null,
   "metadata": {},
   "outputs": [],
   "source": [
    "print(division)"
   ]
  },
  {
   "cell_type": "code",
   "execution_count": null,
   "metadata": {},
   "outputs": [],
   "source": [
    "x=1\n",
    "y=3\n",
    "average = compute_average(x,y)\n",
    "print(average)"
   ]
  },
  {
   "cell_type": "code",
   "execution_count": 18,
   "metadata": {},
   "outputs": [],
   "source": [
    "def compute_average(x, y):\n",
    "    \"\"\"\n",
    "    compute average of x and y\n",
    "    \n",
    "    :param int x: a number\n",
    "    :param int y: a number\n",
    "    \n",
    "    :rtype: float\n",
    "    :return: average of x and y\n",
    "    \"\"\"\n",
    "    average = x / y\n",
    "    return average"
   ]
  },
  {
   "cell_type": "code",
   "execution_count": 19,
   "metadata": {},
   "outputs": [
    {
     "name": "stdout",
     "output_type": "stream",
     "text": [
      "[1]\n"
     ]
    }
   ],
   "source": [
    "def add_stuff(a_list, a_value):\n",
    "    a_list.append(a_value)\n",
    "\n",
    "a_list = []\n",
    "add_stuff(a_list, 1)\n",
    "print(a_list)"
   ]
  },
  {
   "cell_type": "code",
   "execution_count": null,
   "metadata": {},
   "outputs": [],
   "source": [
    "x=1\n",
    "y=3\n",
    "the_average = compute_average(x,y)\n",
    "print(the_average)"
   ]
  },
  {
   "cell_type": "code",
   "execution_count": 27,
   "metadata": {},
   "outputs": [],
   "source": [
    "def clean_it(text, lower=False):\n",
    "    \"\"\"\n",
    "    clean text by:\n",
    "    a) replacing '!' by empty space\n",
    "    b) if lower=True -> make string lower case\n",
    "    \n",
    "    :param str text: a string\n",
    "    \"\"\"\n",
    "    text = text.replace('!', '')\n",
    "    if lower:\n",
    "        text = text.lower()\n",
    "    return text"
   ]
  },
  {
   "cell_type": "code",
   "execution_count": 25,
   "metadata": {},
   "outputs": [
    {
     "name": "stdout",
     "output_type": "stream",
     "text": [
      "Python is awesome\n"
     ]
    }
   ],
   "source": [
    "a_text = 'Python is awesome!'\n",
    "cleaned = clean_it(a_text)\n",
    "print(cleaned)"
   ]
  },
  {
   "cell_type": "code",
   "execution_count": 26,
   "metadata": {},
   "outputs": [
    {
     "name": "stdout",
     "output_type": "stream",
     "text": [
      "python is awesome\n"
     ]
    }
   ],
   "source": [
    "a_text = 'Python is awesome!'\n",
    "cleaned = clean_it(a_text, lower=True)\n",
    "print(cleaned)"
   ]
  },
  {
   "cell_type": "markdown",
   "metadata": {},
   "source": [
    "## How to open a Python module"
   ]
  },
  {
   "cell_type": "markdown",
   "metadata": {},
   "source": [
    "## Dictionaries "
   ]
  },
  {
   "cell_type": "code",
   "execution_count": null,
   "metadata": {},
   "outputs": [],
   "source": [
    "a_dict = dict()"
   ]
  },
  {
   "cell_type": "markdown",
   "metadata": {},
   "source": [
    "What do we obtain?"
   ]
  },
  {
   "cell_type": "code",
   "execution_count": null,
   "metadata": {},
   "outputs": [],
   "source": [
    "print(a_dict['a'])"
   ]
  },
  {
   "cell_type": "code",
   "execution_count": null,
   "metadata": {},
   "outputs": [],
   "source": [
    "'a' in a_dict"
   ]
  },
  {
   "cell_type": "code",
   "execution_count": null,
   "metadata": {},
   "outputs": [],
   "source": [
    "a_dict['a'] = 1\n",
    "print('a' in a_dict)"
   ]
  },
  {
   "cell_type": "code",
   "execution_count": 30,
   "metadata": {},
   "outputs": [],
   "source": [
    "our_dict = {'Python' : 'awesome', \n",
    "            'rain' : 'annoying', \n",
    "            'sunshine' : 'nice'}"
   ]
  },
  {
   "cell_type": "code",
   "execution_count": 33,
   "metadata": {},
   "outputs": [
    {
     "name": "stdout",
     "output_type": "stream",
     "text": [
      "Python\n",
      "rain\n",
      "sunshine\n"
     ]
    }
   ],
   "source": [
    "for key in our_dict:\n",
    "    print(key)"
   ]
  },
  {
   "cell_type": "code",
   "execution_count": 36,
   "metadata": {},
   "outputs": [
    {
     "name": "stdout",
     "output_type": "stream",
     "text": [
      "Python awesome\n",
      "rain annoying\n",
      "sunshine nice\n"
     ]
    }
   ],
   "source": [
    "for key, value in our_dict.items():\n",
    "    print(key, value)"
   ]
  },
  {
   "cell_type": "code",
   "execution_count": 43,
   "metadata": {},
   "outputs": [
    {
     "name": "stdout",
     "output_type": "stream",
     "text": [
      "Python awesome\n",
      "sunshine nice\n"
     ]
    }
   ],
   "source": [
    "for key, value in our_dict.items():\n",
    "    \n",
    "    if key.startswith('r'):\n",
    "        continue\n",
    "        #break\n",
    "        #pass\n",
    "    print(key, value)"
   ]
  },
  {
   "cell_type": "code",
   "execution_count": null,
   "metadata": {},
   "outputs": [],
   "source": []
  }
 ],
 "metadata": {
  "kernelspec": {
   "display_name": "Python 3",
   "language": "python",
   "name": "python3"
  },
  "language_info": {
   "codemirror_mode": {
    "name": "ipython",
    "version": 3
   },
   "file_extension": ".py",
   "mimetype": "text/x-python",
   "name": "python",
   "nbconvert_exporter": "python",
   "pygments_lexer": "ipython3",
   "version": "3.7.2"
  }
 },
 "nbformat": 4,
 "nbformat_minor": 2
}
